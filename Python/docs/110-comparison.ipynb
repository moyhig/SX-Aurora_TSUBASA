{
 "cells": [
  {
   "cell_type": "markdown",
   "id": "5aab1a7b",
   "metadata": {},
   "source": [
    "# Comparison Table: NumPy, NLCPy, CuPy\n",
    "* [Functions Provided by NLCPy — nlcpy 2.1.1 documentation](https://sxauroratsubasa.sakura.ne.jp/documents/nlcpy/en/functions.html)\n",
    "* [Comparison Table — CuPy 10.6.0 documentation](https://docs.cupy.dev/en/stable/reference/comparison.html)"
   ]
  },
  {
   "cell_type": "code",
   "execution_count": null,
   "id": "3a88204b",
   "metadata": {},
   "outputs": [],
   "source": []
  }
 ],
 "metadata": {
  "kernelspec": {
   "display_name": "Python 3",
   "language": "python",
   "name": "python3"
  },
  "language_info": {
   "codemirror_mode": {
    "name": "ipython",
    "version": 3
   },
   "file_extension": ".py",
   "mimetype": "text/x-python",
   "name": "python",
   "nbconvert_exporter": "python",
   "pygments_lexer": "ipython3",
   "version": "3.8.13"
  }
 },
 "nbformat": 4,
 "nbformat_minor": 5
}
