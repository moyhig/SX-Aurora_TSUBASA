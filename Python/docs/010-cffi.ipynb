{
 "cells": [
  {
   "cell_type": "markdown",
   "metadata": {},
   "source": [
    "# CFFI"
   ]
  },
  {
   "cell_type": "markdown",
   "metadata": {},
   "source": [
    "* [CFFI documentation — CFFI 1.15.1 documentation](https://cffi.readthedocs.io/en/latest/index.html)\n",
    "* [python - How to pass a Numpy array into a cffi function and how to get one back out? - Stack Overflow](https://stackoverflow.com/questions/16276268/how-to-pass-a-numpy-array-into-a-cffi-function-and-how-to-get-one-back-out)"
   ]
  },
  {
   "cell_type": "markdown",
   "metadata": {},
   "source": [
    "## allocate arrays as numpy ndarray"
   ]
  },
  {
   "cell_type": "code",
   "execution_count": 8,
   "metadata": {},
   "outputs": [],
   "source": [
    "import numpy as np"
   ]
  },
  {
   "cell_type": "code",
   "execution_count": 9,
   "metadata": {},
   "outputs": [],
   "source": [
    "x = np.random.rand(10**6)\n",
    "y = np.random.rand(10**6)\n",
    "z = np.zeros_like(x)"
   ]
  },
  {
   "cell_type": "code",
   "execution_count": 10,
   "metadata": {},
   "outputs": [
    {
     "name": "stdout",
     "output_type": "stream",
     "text": [
      "CPU times: user 308 ms, sys: 3.35 ms, total: 312 ms\n",
      "Wall time: 311 ms\n"
     ]
    }
   ],
   "source": [
    "%%time\n",
    "for i in range(0,len(x)):\n",
    "    z[i] = x[i] + 3.14*y[i]"
   ]
  },
  {
   "cell_type": "code",
   "execution_count": 11,
   "metadata": {},
   "outputs": [
    {
     "name": "stdout",
     "output_type": "stream",
     "text": [
      "CPU times: user 1.08 ms, sys: 2.06 ms, total: 3.14 ms\n",
      "Wall time: 2.64 ms\n"
     ]
    }
   ],
   "source": [
    "%%time\n",
    "z = x+3.14*y"
   ]
  },
  {
   "cell_type": "markdown",
   "metadata": {},
   "source": [
    "## define `triad()` in C"
   ]
  },
  {
   "cell_type": "code",
   "execution_count": 12,
   "metadata": {},
   "outputs": [],
   "source": [
    "from cffi import FFI\n",
    "build_ffi = FFI()"
   ]
  },
  {
   "cell_type": "markdown",
   "metadata": {},
   "source": [
    "## build and load"
   ]
  },
  {
   "cell_type": "code",
   "execution_count": 13,
   "metadata": {},
   "outputs": [],
   "source": [
    "build_ffi.cdef(\"\"\"\n",
    "    int triad(double*, double*, double*, int);\n",
    "\"\"\")\n",
    "\n",
    "build_ffi.set_source(\"_triad\",\n",
    "    r\"\"\"int triad(double *px, double *py, double *pz, int n) {\n",
    "            #pragma omp parallel for\n",
    "            for (int i = 0; i  < n; i++) pz[i] = px[i] + 3.14*py[i];\n",
    "            return 0;\n",
    "        }\n",
    "     \"\"\")"
   ]
  },
  {
   "cell_type": "code",
   "execution_count": 14,
   "metadata": {
    "scrolled": true
   },
   "outputs": [
    {
     "name": "stdout",
     "output_type": "stream",
     "text": [
      "generating ./_triad.c\n",
      "(already up-to-date)\n",
      "the current directory is '/home/manabu/SX-Aurora_TSUBASA/Python'\n",
      "running build_ext\n",
      "building '_triad' extension\n",
      "gcc -pthread -B /opt/anaconda3/envs/jupyter/compiler_compat -Wno-unused-result -Wsign-compare -DNDEBUG -fwrapv -O2 -Wall -fPIC -O2 -isystem /opt/anaconda3/envs/jupyter/include -fPIC -O2 -isystem /opt/anaconda3/envs/jupyter/include -fPIC -I/opt/anaconda3/envs/jupyter/include/python3.8 -c _triad.c -o ./_triad.o\n",
      "gcc -pthread -B /opt/anaconda3/envs/jupyter/compiler_compat -shared -Wl,--allow-shlib-undefined -Wl,-rpath,/opt/anaconda3/envs/jupyter/lib -Wl,-rpath-link,/opt/anaconda3/envs/jupyter/lib -L/opt/anaconda3/envs/jupyter/lib -Wl,--allow-shlib-undefined -Wl,-rpath,/opt/anaconda3/envs/jupyter/lib -Wl,-rpath-link,/opt/anaconda3/envs/jupyter/lib -L/opt/anaconda3/envs/jupyter/lib ./_triad.o -o ./_triad.cpython-38-x86_64-linux-gnu.so\n"
     ]
    }
   ],
   "source": [
    "lib_path = build_ffi.compile(verbose=True)"
   ]
  },
  {
   "cell_type": "markdown",
   "metadata": {},
   "source": [
    "* `import`可能なCPython Shared Objectができる"
   ]
  },
  {
   "cell_type": "code",
   "execution_count": 15,
   "metadata": {},
   "outputs": [
    {
     "data": {
      "text/plain": [
       "'/home/manabu/SX-Aurora_TSUBASA/Python/_triad.cpython-38-x86_64-linux-gnu.so'"
      ]
     },
     "execution_count": 15,
     "metadata": {},
     "output_type": "execute_result"
    }
   ],
   "source": [
    "lib_path"
   ]
  },
  {
   "cell_type": "code",
   "execution_count": 16,
   "metadata": {},
   "outputs": [
    {
     "name": "stdout",
     "output_type": "stream",
     "text": [
      "                 U PyArg_UnpackTuple\r\n",
      "                 U PyErr_Occurred\r\n",
      "                 U PyEval_RestoreThread\r\n",
      "                 U PyEval_SaveThread\r\n",
      "                 U PyImport_ImportModule\r\n",
      "00000000000014c0 T PyInit__triad\r\n",
      "                 U PyLong_FromLong\r\n",
      "                 U PyLong_FromVoidPtr\r\n",
      "                 U PyObject_CallMethod\r\n",
      "                 U PyObject_Free\r\n",
      "                 U PyObject_Malloc\r\n",
      "0000000000003e00 d _DYNAMIC\r\n",
      "0000000000004000 d _GLOBAL_OFFSET_TABLE_\r\n",
      "                 w _ITM_deregisterTMCloneTable\r\n",
      "                 w _ITM_registerTMCloneTable\r\n",
      "                 U _Py_Dealloc\r\n",
      "00000000000021c4 r __FRAME_END__\r\n",
      "0000000000002040 r __GNU_EH_FRAME_HDR\r\n",
      "00000000000040b8 d __TMC_END__\r\n",
      "                 w __cxa_finalize@GLIBC_2.2.5\r\n",
      "0000000000001180 t __do_global_dtors_aux\r\n",
      "0000000000003d58 t __do_global_dtors_aux_fini_array_entry\r\n",
      "0000000000003d60 d __dso_handle\r\n",
      "0000000000003d50 t __frame_dummy_init_array_entry\r\n",
      "                 w __gmon_start__\r\n",
      "00000000000011d0 t _cffi_convert_array_argument\r\n",
      "00000000000012a0 t _cffi_d_triad\r\n",
      "00000000000040e0 b _cffi_exports\r\n",
      "00000000000012b0 t _cffi_f_triad\r\n",
      "0000000000003de0 d _cffi_globals\r\n",
      "0000000000003d80 d _cffi_type_context\r\n",
      "0000000000004080 d _cffi_types\r\n",
      "0000000000001594 t _fini\r\n",
      "0000000000001000 t _init\r\n",
      "00000000000040c0 b completed.7295\r\n",
      "0000000000001110 t deregister_tm_clones\r\n",
      "00000000000011c0 t frame_dummy\r\n",
      "                 U memset@GLIBC_2.2.5\r\n",
      "0000000000001140 t register_tm_clones\r\n",
      "0000000000001260 T triad\r\n"
     ]
    }
   ],
   "source": [
    "!nm $lib_path"
   ]
  },
  {
   "cell_type": "code",
   "execution_count": 17,
   "metadata": {},
   "outputs": [],
   "source": [
    "#lib = ffi.dlopen(lib_path)"
   ]
  },
  {
   "cell_type": "markdown",
   "metadata": {},
   "source": [
    "## load"
   ]
  },
  {
   "cell_type": "code",
   "execution_count": 18,
   "metadata": {},
   "outputs": [],
   "source": [
    "from _triad import lib, ffi"
   ]
  },
  {
   "cell_type": "code",
   "execution_count": 22,
   "metadata": {},
   "outputs": [],
   "source": [
    "px = ffi.cast(\"double *\", x.ctypes.data)\n",
    "py = ffi.cast(\"double *\", y.ctypes.data)\n",
    "#pz = ffi.cast(\"double *\", z.ctypes.data)"
   ]
  },
  {
   "cell_type": "code",
   "execution_count": 23,
   "metadata": {
    "scrolled": true
   },
   "outputs": [
    {
     "data": {
      "text/plain": [
       "(<cdata 'double *' 0x55cab3801210>, <cdata 'double *' 0x55cab3fa2420>)"
      ]
     },
     "execution_count": 23,
     "metadata": {},
     "output_type": "execute_result"
    }
   ],
   "source": [
    "px, py"
   ]
  },
  {
   "cell_type": "markdown",
   "metadata": {},
   "source": [
    "## benchmark"
   ]
  },
  {
   "cell_type": "code",
   "execution_count": 24,
   "metadata": {},
   "outputs": [
    {
     "data": {
      "text/plain": [
       "<cdata 'double *' 0x55cab4ee4840>"
      ]
     },
     "execution_count": 24,
     "metadata": {},
     "output_type": "execute_result"
    }
   ],
   "source": [
    "z = np.zeros_like(x)\n",
    "pz = ffi.cast(\"double *\", z.ctypes.data)\n",
    "pz"
   ]
  },
  {
   "cell_type": "code",
   "execution_count": 25,
   "metadata": {},
   "outputs": [
    {
     "data": {
      "text/plain": [
       "<function _triad.Lib.triad>"
      ]
     },
     "execution_count": 25,
     "metadata": {},
     "output_type": "execute_result"
    }
   ],
   "source": [
    "lib.triad"
   ]
  },
  {
   "cell_type": "code",
   "execution_count": 26,
   "metadata": {},
   "outputs": [
    {
     "name": "stdout",
     "output_type": "stream",
     "text": [
      "CPU times: user 2.28 ms, sys: 0 ns, total: 2.28 ms\n",
      "Wall time: 1.8 ms\n"
     ]
    },
    {
     "data": {
      "text/plain": [
       "0"
      ]
     },
     "execution_count": 26,
     "metadata": {},
     "output_type": "execute_result"
    }
   ],
   "source": [
    "%%time\n",
    "lib.triad(px, py, pz, len(z))"
   ]
  },
  {
   "cell_type": "code",
   "execution_count": 27,
   "metadata": {},
   "outputs": [
    {
     "data": {
      "text/plain": [
       "(0.48085690670269754, 0.48085690670269754)"
      ]
     },
     "execution_count": 27,
     "metadata": {},
     "output_type": "execute_result"
    }
   ],
   "source": [
    "pz[3], px[3]+3.14*py[3]"
   ]
  },
  {
   "cell_type": "code",
   "execution_count": null,
   "metadata": {},
   "outputs": [],
   "source": []
  },
  {
   "cell_type": "code",
   "execution_count": 14,
   "metadata": {},
   "outputs": [],
   "source": [
    "import _imp"
   ]
  },
  {
   "cell_type": "code",
   "execution_count": 15,
   "metadata": {},
   "outputs": [
    {
     "data": {
      "text/plain": [
       "['.cpython-38-x86_64-linux-gnu.so', '.abi3.so', '.so']"
      ]
     },
     "execution_count": 15,
     "metadata": {},
     "output_type": "execute_result"
    }
   ],
   "source": [
    "_imp.extension_suffixes()"
   ]
  },
  {
   "cell_type": "markdown",
   "metadata": {},
   "source": [
    "* [Python/CFFIを利用してC拡張を作成する (1/2) - 2018-01-17 - ククログ](https://www.clear-code.com/blog/2018/1/17.html)\n",
    "* [Python/CFFIを利用してC拡張を作成する (2/2) - 2018-04-05 - ククログ](https://www.clear-code.com/blog/2018/4/5.html)"
   ]
  },
  {
   "cell_type": "code",
   "execution_count": null,
   "metadata": {},
   "outputs": [],
   "source": []
  }
 ],
 "metadata": {
  "kernelspec": {
   "display_name": "Python 3",
   "language": "python",
   "name": "python3"
  },
  "language_info": {
   "codemirror_mode": {
    "name": "ipython",
    "version": 3
   },
   "file_extension": ".py",
   "mimetype": "text/x-python",
   "name": "python",
   "nbconvert_exporter": "python",
   "pygments_lexer": "ipython3",
   "version": "3.8.3"
  }
 },
 "nbformat": 4,
 "nbformat_minor": 5
}
