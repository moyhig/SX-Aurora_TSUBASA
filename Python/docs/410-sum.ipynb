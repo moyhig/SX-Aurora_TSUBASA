{
 "cells": [
  {
   "cell_type": "code",
   "execution_count": 1,
   "metadata": {},
   "outputs": [],
   "source": [
    "import numpy as np"
   ]
  },
  {
   "cell_type": "code",
   "execution_count": 2,
   "metadata": {},
   "outputs": [
    {
     "name": "stdout",
     "output_type": "stream",
     "text": [
      "CPU times: user 10.1 s, sys: 3.47 s, total: 13.6 s\n",
      "Wall time: 13.6 s\n"
     ]
    }
   ],
   "source": [
    "%%time\n",
    "x = np.random.rand(512*2**17)\n",
    "y = np.random.rand(512*2**17)\n",
    "for _ in range(100):\n",
    "    z = x + y"
   ]
  },
  {
   "cell_type": "code",
   "execution_count": 3,
   "metadata": {},
   "outputs": [
    {
     "data": {
      "text/plain": [
       "0.136"
      ]
     },
     "execution_count": 3,
     "metadata": {},
     "output_type": "execute_result"
    }
   ],
   "source": [
    "13.6/100"
   ]
  },
  {
   "cell_type": "code",
   "execution_count": 6,
   "metadata": {},
   "outputs": [
    {
     "data": {
      "text/plain": [
       "11.029411764705882"
      ]
     },
     "execution_count": 6,
     "metadata": {},
     "output_type": "execute_result"
    }
   ],
   "source": [
    "(512/0.136)*3/1024"
   ]
  },
  {
   "cell_type": "code",
   "execution_count": null,
   "metadata": {},
   "outputs": [],
   "source": []
  },
  {
   "cell_type": "code",
   "execution_count": null,
   "metadata": {},
   "outputs": [],
   "source": []
  },
  {
   "cell_type": "code",
   "execution_count": null,
   "metadata": {},
   "outputs": [],
   "source": []
  },
  {
   "cell_type": "code",
   "execution_count": 11,
   "metadata": {},
   "outputs": [],
   "source": [
    "import nlcpy as vp"
   ]
  },
  {
   "cell_type": "code",
   "execution_count": 12,
   "metadata": {},
   "outputs": [],
   "source": [
    "x = vp.random.rand(1024*2**17)\n",
    "y = vp.random.rand(1024*2**17)"
   ]
  },
  {
   "cell_type": "code",
   "execution_count": 16,
   "metadata": {},
   "outputs": [
    {
     "name": "stdout",
     "output_type": "stream",
     "text": [
      "CPU times: user 510 ms, sys: 3.6 ms, total: 513 ms\n",
      "Wall time: 511 ms\n"
     ]
    }
   ],
   "source": [
    "%%time\n",
    "with vp.prof.ftrace_region('sum'):\n",
    "    for _ in range(100):\n",
    "        z = x + y"
   ]
  },
  {
   "cell_type": "code",
   "execution_count": 2,
   "metadata": {},
   "outputs": [
    {
     "data": {
      "text/plain": [
       "0.00511"
      ]
     },
     "execution_count": 2,
     "metadata": {},
     "output_type": "execute_result"
    }
   ],
   "source": [
    "511/1000/100"
   ]
  },
  {
   "cell_type": "code",
   "execution_count": 5,
   "metadata": {},
   "outputs": [
    {
     "data": {
      "text/plain": [
       "587.0841487279844"
      ]
     },
     "execution_count": 5,
     "metadata": {},
     "output_type": "execute_result"
    }
   ],
   "source": [
    "1024/0.00511*3/1024"
   ]
  },
  {
   "cell_type": "code",
   "execution_count": null,
   "metadata": {},
   "outputs": [],
   "source": []
  },
  {
   "cell_type": "code",
   "execution_count": null,
   "metadata": {},
   "outputs": [],
   "source": []
  },
  {
   "cell_type": "code",
   "execution_count": null,
   "metadata": {},
   "outputs": [],
   "source": []
  },
  {
   "cell_type": "code",
   "execution_count": 17,
   "metadata": {},
   "outputs": [
    {
     "data": {
      "text/plain": [
       "{'status': 'ok', 'restart': True}"
      ]
     },
     "execution_count": 17,
     "metadata": {},
     "output_type": "execute_result"
    }
   ],
   "source": [
    "import IPython\n",
    "IPython.Application.instance().kernel.do_shutdown(True)"
   ]
  },
  {
   "cell_type": "code",
   "execution_count": 1,
   "metadata": {
    "scrolled": false
   },
   "outputs": [
    {
     "name": "stdout",
     "output_type": "stream",
     "text": [
      "*----------------------*\r\n",
      "  FTRACE ANALYSIS LIST\r\n",
      "*----------------------*\r\n",
      "\r\n",
      "Execution Date : Thu Jul  7 19:19:29 2022 JST\r\n",
      "Total CPU Time : 0:00'11\"686 (11.686 sec.)\r\n",
      "\r\n",
      "\r\n",
      "FREQUENCY  EXCLUSIVE       AVER.TIME     MOPS   MFLOPS  V.OP  AVER.    VECTOR L1CACHE CPU PORT VLD LLC PROC.NAME  \r\n",
      "           TIME[sec](  % )    [msec]                    RATIO V.LEN      TIME    MISS     CONF HIT E.%            \r\n",
      "\r\n",
      "     2720    11.100( 95.0)     4.081  15613.9   3869.4  99.13 256.0    11.089   0.011    0.000    0.05 nlcpy_add_f64_f64_f64\r\n",
      "      340     1.235( 10.6)     3.633  17538.0   4346.2  99.13 256.0     1.233   0.002    0.000    0.04  -thread0\r\n",
      "      340     1.422( 12.2)     4.181  15238.9   3776.5  99.13 256.0     1.420   0.001    0.000    0.05  -thread1\r\n",
      "      340     1.422( 12.2)     4.181  15238.7   3776.4  99.13 256.0     1.420   0.001    0.000    0.05  -thread2\r\n",
      "      340     1.432( 12.3)     4.212  15126.1   3748.5  99.13 256.0     1.431   0.001    0.000    0.04  -thread3\r\n",
      "      340     1.383( 11.8)     4.068  15664.3   3881.9  99.13 256.0     1.382   0.001    0.000    0.04  -thread4\r\n",
      "      340     1.383( 11.8)     4.067  15668.5   3882.9  99.13 256.0     1.381   0.001    0.000    0.04  -thread5\r\n",
      "      340     1.413( 12.1)     4.155  15334.6   3800.2  99.13 256.0     1.412   0.001    0.000    0.05  -thread6\r\n",
      "      340     1.411( 12.1)     4.149  15356.9   3805.7  99.13 256.0     1.409   0.001    0.000    0.05  -thread7\r\n",
      "      152     0.452(  3.9)     2.971    832.6      0.0   0.00   0.0     0.001   0.304    0.000    0.00 kernel_launcher$1\r\n",
      "       19     0.206(  1.8)    10.831    603.9      0.0   0.00   0.0     0.000   0.158    0.000    0.00  -thread0\r\n",
      "       19     0.024(  0.2)     1.241    912.8      0.0   0.00   0.0     0.000   0.015    0.000    0.00  -thread1\r\n",
      "       19     0.025(  0.2)     1.296    969.1      0.0   0.00   0.0     0.000   0.015    0.000    0.00  -thread2\r\n",
      "       19     0.014(  0.1)     0.714   1099.0      0.0   0.00   0.0     0.000   0.008    0.000    0.00  -thread3\r\n",
      "       19     0.059(  0.5)     3.118   1008.7      0.0   0.00   0.0     0.000   0.037    0.000    0.00  -thread4\r\n",
      "       19     0.059(  0.5)     3.114    984.2      0.0   0.00   0.0     0.000   0.036    0.000    0.00  -thread5\r\n",
      "       19     0.032(  0.3)     1.684   1125.4      0.0   0.00   0.0     0.000   0.018    0.000    0.00  -thread6\r\n",
      "       19     0.034(  0.3)     1.773   1112.6      0.0   0.00   0.0     0.000   0.018    0.000    0.00  -thread7\r\n",
      "        6     0.107(  0.9)    17.847  52710.9   3760.3  99.87 156.0     0.107   0.000    0.000   98.33 random_generate\r\n",
      "     2720     0.014(  0.1)     0.005    413.6      0.0   0.00   0.0     0.000   0.012    0.000    0.00 nlcpy_add\r\n",
      "      340     0.003(  0.0)     0.008    234.1      0.0   0.00   0.0     0.000   0.003    0.000    0.00  -thread0\r\n",
      "      340     0.002(  0.0)     0.005    420.8      0.0   0.00   0.0     0.000   0.001    0.000    0.00  -thread1\r\n",
      "      340     0.002(  0.0)     0.005    461.7      0.0   0.00   0.0     0.000   0.001    0.000    0.00  -thread2\r\n",
      "      340     0.001(  0.0)     0.004    510.3      0.0   0.00   0.0     0.000   0.001    0.000    0.00  -thread3\r\n",
      "      340     0.002(  0.0)     0.006    392.4      0.0   0.00   0.0     0.000   0.002    0.000    0.00  -thread4\r\n",
      "      340     0.002(  0.0)     0.006    393.9      0.0   0.00   0.0     0.000   0.002    0.000    0.00  -thread5\r\n",
      "      340     0.001(  0.0)     0.004    545.6      0.0   0.00   0.0     0.000   0.001    0.000    0.00  -thread6\r\n",
      "      340     0.002(  0.0)     0.005    525.5      0.0   0.00   0.0     0.000   0.001    0.000    0.00  -thread7\r\n",
      "     2720     0.005(  0.0)     0.002    542.3      0.0   0.00   0.0     0.001   0.005    0.000    0.00 call_binary_func\r\n",
      "      340     0.001(  0.0)     0.003    267.8      0.0   0.00   0.0     0.000   0.001    0.000    0.00  -thread0\r\n",
      "      340     0.000(  0.0)     0.001    688.9      0.0   0.00   0.0     0.000   0.000    0.000    0.00  -thread1\r\n",
      "      340     0.000(  0.0)     0.001    681.6      0.0   0.00   0.0     0.000   0.000    0.000    0.00  -thread2\r\n",
      "      340     0.000(  0.0)     0.001    792.0      0.0   0.00   0.0     0.000   0.000    0.000    0.00  -thread3\r\n",
      "      340     0.001(  0.0)     0.002    460.7      0.0   0.00   0.0     0.000   0.001    0.000    0.00  -thread4\r\n",
      "      340     0.001(  0.0)     0.002    464.2      0.0   0.00   0.0     0.000   0.001    0.000    0.00  -thread5\r\n",
      "      340     0.000(  0.0)     0.001    737.9      0.0   0.00   0.0     0.000   0.000    0.000    0.00  -thread6\r\n",
      "      340     0.000(  0.0)     0.001    756.8      0.0   0.00   0.0     0.000   0.000    0.000    0.00  -thread7\r\n",
      "     2720     0.004(  0.0)     0.001    446.8      0.0   0.00   0.0     0.001   0.003    0.000    0.00 run_request\r\n",
      "      340     0.001(  0.0)     0.002    226.8      0.0   0.00   0.0     0.000   0.001    0.000    0.00  -thread0\r\n",
      "      340     0.000(  0.0)     0.001    566.0      0.0   0.00   0.0     0.000   0.000    0.000    0.00  -thread1\r\n",
      "      340     0.000(  0.0)     0.001    649.9      0.0   0.00   0.0     0.000   0.000    0.000    0.00  -thread2\r\n",
      "      340     0.000(  0.0)     0.001    642.6      0.0   0.00   0.0     0.000   0.000    0.000    0.00  -thread3\r\n",
      "      340     0.001(  0.0)     0.002    360.8      0.0   0.00   0.0     0.000   0.001    0.000    0.00  -thread4\r\n",
      "      340     0.001(  0.0)     0.002    357.2      0.0   0.00   0.0     0.000   0.001    0.000    0.00  -thread5\r\n",
      "      340     0.000(  0.0)     0.001    630.4      0.0   0.00   0.0     0.000   0.000    0.000    0.00  -thread6\r\n",
      "      340     0.000(  0.0)     0.001    605.5      0.0   0.00   0.0     0.000   0.000    0.000    0.00  -thread7\r\n",
      "     2720     0.003(  0.0)     0.001    288.3      0.0   0.00   0.0     0.000   0.002    0.000    0.00 retrieve_fpe_flags\r\n",
      "      340     0.001(  0.0)     0.002    140.8      0.0   0.00   0.0     0.000   0.001    0.000    0.00  -thread0\r\n",
      "      340     0.000(  0.0)     0.001    406.9      0.0   0.00   0.0     0.000   0.000    0.000    0.00  -thread1\r\n",
      "      340     0.000(  0.0)     0.001    413.7      0.0   0.00   0.0     0.000   0.000    0.000    0.00  -thread2\r\n",
      "      340     0.000(  0.0)     0.001    435.7      0.0   0.00   0.0     0.000   0.000    0.000    0.00  -thread3\r\n",
      "      340     0.000(  0.0)     0.001    230.5      0.0   0.00   0.0     0.000   0.000    0.000    0.00  -thread4\r\n",
      "      340     0.000(  0.0)     0.001    231.0      0.0   0.00   0.0     0.000   0.000    0.000    0.00  -thread5\r\n",
      "      340     0.000(  0.0)     0.001    415.6      0.0   0.00   0.0     0.000   0.000    0.000    0.00  -thread6\r\n",
      "      340     0.000(  0.0)     0.001    369.9      0.0   0.00   0.0     0.000   0.000    0.000    0.00  -thread7\r\n",
      "     8160     0.002(  0.0)     0.000   2157.6      0.0   0.00   0.0     0.000   0.000    0.000    0.00 nlcpy__get_ptr\r\n",
      "     1020     0.000(  0.0)     0.000   2260.8      0.0   0.00   0.0     0.000   0.000    0.000    0.00  -thread0\r\n",
      "     1020     0.000(  0.0)     0.000   2128.7      0.0   0.00   0.0     0.000   0.000    0.000    0.00  -thread1\r\n",
      "     1020     0.000(  0.0)     0.000   2224.5      0.0   0.00   0.0     0.000   0.000    0.000    0.00  -thread2\r\n",
      "     1020     0.000(  0.0)     0.000   2158.4      0.0   0.00   0.0     0.000   0.000    0.000    0.00  -thread3\r\n",
      "     1020     0.000(  0.0)     0.000   2148.0      0.0   0.00   0.0     0.000   0.000    0.000    0.00  -thread4\r\n",
      "     1020     0.000(  0.0)     0.000   2134.7      0.0   0.00   0.0     0.000   0.000    0.000    0.00  -thread5\r\n",
      "     1020     0.000(  0.0)     0.000   2108.9      0.0   0.00   0.0     0.000   0.000    0.000    0.00  -thread6\r\n",
      "     1020     0.000(  0.0)     0.000   2116.1      0.0   0.00   0.0     0.000   0.000    0.000    0.00  -thread7\r\n",
      "     2720     0.001(  0.0)     0.000   1227.1      0.0   0.00   0.0     0.000   0.000    0.000    0.00 get_binary_func\r\n",
      "      340     0.000(  0.0)     0.000   1216.5      0.0   0.00   0.0     0.000   0.000    0.000    0.00  -thread0\r\n",
      "      340     0.000(  0.0)     0.000   1068.2      0.0   0.00   0.0     0.000   0.000    0.000    0.00  -thread1\r\n",
      "      340     0.000(  0.0)     0.000    963.8      0.0   0.00   0.0     0.000   0.000    0.000    0.00  -thread2\r\n",
      "      340     0.000(  0.0)     0.000   1101.8      0.0   0.00   0.0     0.000   0.000    0.000    0.00  -thread3\r\n",
      "      340     0.000(  0.0)     0.000   1454.9      0.0   0.00   0.0     0.000   0.000    0.000    0.00  -thread4\r\n",
      "      340     0.000(  0.0)     0.000   1348.5      0.0   0.00   0.0     0.000   0.000    0.000    0.00  -thread5\r\n",
      "      340     0.000(  0.0)     0.000   1434.8      0.0   0.00   0.0     0.000   0.000    0.000    0.00  -thread6\r\n",
      "      340     0.000(  0.0)     0.000   1375.4      0.0   0.00   0.0     0.000   0.000    0.000    0.00  -thread7\r\n",
      "       19     0.000(  0.0)     0.004    332.1      0.0   0.00   0.0     0.000   0.000    0.000    0.00 kernel_launcher\r\n",
      "        6     0.000(  0.0)     0.007    182.6      0.0   0.00   0.0     0.000   0.000    0.000    0.00 nlcpy_random_generate_uniform_f64\r\n",
      "        1     0.000(  0.0)     0.020    532.5      0.0   0.00   0.0     0.000   0.000    0.000    0.00 nlcpy_random_set_seed\r\n",
      "        1     0.000(  0.0)     0.007    106.8      0.0   0.00   0.0     0.000   0.000    0.000    0.00 random_destroy_handle\r\n",
      "        1     0.000(  0.0)     0.003    149.9      0.0   0.00   0.0     0.000   0.000    0.000    0.00 nlcpy_fft_destroy_handle\r\n",
      "        1     0.000(  0.0)     0.003    109.4      0.0   0.00   0.0     0.000   0.000    0.000    0.00 nlcpy__mempool_alloc_ve\r\n",
      "        7     0.000(  0.0)     0.000    664.1      0.0   0.00   0.0     0.000   0.000    0.000    0.00 retrieve_fpe_flags\r\n",
      "        1     0.000(  0.0)     0.003    103.9      0.0   0.00   0.0     0.000   0.000    0.000    0.00 nlcpy__mempool_get_memsize_ve\r\n",
      "        1     0.000(  0.0)     0.001    920.4      0.0   0.00   0.0     0.000   0.000    0.000    0.00 nlcpy_profiling_region_begin\r\n",
      "        1     0.000(  0.0)     0.000   1011.3      0.0   0.00   0.0     0.000   0.000    0.000    0.00 nlcpy_profiling_region_end\r\n",
      "------------------------------------------------------------------------------------------------------------------\r\n",
      "    24677    11.686(100.0)     0.474  15346.8   3709.7  98.93 250.9    11.199   0.338    0.000    0.05 total\r\n",
      "\r\n",
      "       43     3.601( 30.8)    83.748  15070.6   3727.1  98.92 256.0     3.456   0.099    0.000    0.04 sum\r\n",
      "        1     0.454(  3.9)   453.808  15001.6   3697.0  98.58 256.0     0.387   0.048    0.000    0.03  -thread0\r\n",
      "        6     0.450(  3.9)    74.997  15049.1   3728.4  99.10 256.0     0.447   0.002    0.000    0.04  -thread1\r\n",
      "        6     0.450(  3.9)    75.073  15036.4   3724.6  99.08 256.0     0.447   0.002    0.000    0.04  -thread2\r\n",
      "        6     0.450(  3.8)    74.976  15062.8   3729.5  99.04 256.0     0.444   0.004    0.000    0.03  -thread3\r\n",
      "        6     0.449(  3.8)    74.843  15118.7   3736.1  98.85 256.0     0.428   0.014    0.000    0.03  -thread4\r\n",
      "        6     0.449(  3.8)    74.830  15122.3   3736.7  98.84 256.0     0.427   0.014    0.000    0.03  -thread5\r\n",
      "        6     0.450(  3.8)    74.933  15083.8   3731.6  98.96 256.0     0.438   0.007    0.000    0.04  -thread6\r\n",
      "        6     0.449(  3.8)    74.907  15091.2   3732.9  98.94 256.0     0.437   0.007    0.000    0.04  -thread7\r\n",
      "------------------------------------------------------------------------------------------------------------------\r\n"
     ]
    }
   ],
   "source": [
    "!/opt/nec/ve/bin/ftrace"
   ]
  },
  {
   "cell_type": "code",
   "execution_count": null,
   "metadata": {},
   "outputs": [],
   "source": []
  },
  {
   "cell_type": "code",
   "execution_count": null,
   "metadata": {},
   "outputs": [],
   "source": []
  },
  {
   "cell_type": "code",
   "execution_count": 11,
   "metadata": {},
   "outputs": [],
   "source": [
    "import numpy as np\n",
    "import nlcpy as vp"
   ]
  },
  {
   "cell_type": "code",
   "execution_count": 12,
   "metadata": {},
   "outputs": [
    {
     "name": "stdout",
     "output_type": "stream",
     "text": [
      "CPU times: user 38.3 ms, sys: 468 µs, total: 38.8 ms\n",
      "Wall time: 38.7 ms\n"
     ]
    }
   ],
   "source": [
    "%%time\n",
    "x = vp.random.rand(2**27)\n",
    "y = vp.random.rand(2**27)\n",
    "z = vp.empty_like(x)"
   ]
  },
  {
   "cell_type": "code",
   "execution_count": 13,
   "metadata": {},
   "outputs": [
    {
     "data": {
      "text/plain": [
       "1073741824"
      ]
     },
     "execution_count": 13,
     "metadata": {},
     "output_type": "execute_result"
    }
   ],
   "source": [
    "z.size*8"
   ]
  },
  {
   "cell_type": "code",
   "execution_count": 14,
   "metadata": {},
   "outputs": [],
   "source": [
    "import nlcpy as vp\n",
    "ve_lib = vp.jit.CustomVELibrary(\n",
    "    code=\"\"\"\n",
    "        int ve_sum(double *px, double *py, double *pz, int n) {\n",
    "            #pragma omp parallel for\n",
    "            for (int i = 0; i  < n; i++) pz[i] = px[i] + py[i];\n",
    "            return 0;\n",
    "        }\n",
    "\"\"\"\n",
    ", cflags=(*vp.jit.get_default_cflags(), \"-ftrace\"), ldflags=(*vp.jit.get_default_ldflags(), \"-ftrace\"))"
   ]
  },
  {
   "cell_type": "code",
   "execution_count": 15,
   "metadata": {},
   "outputs": [
    {
     "data": {
      "text/plain": [
       "<CustomVELibrary(\n",
       "* code:\n",
       "\n",
       "        int ve_sum(double *px, double *py, double *pz, int n) {\n",
       "            #pragma omp parallel for\n",
       "            for (int i = 0; i  < n; i++) pz[i] = px[i] + py[i];\n",
       "            return 0;\n",
       "        }\n",
       "\n",
       "* path: None\n",
       "* cflags:  -c -fpic -O2 -I /opt/anaconda3/lib/python3.8/site-packages/nlcpy/include -fopenmp -ftrace\n",
       "* ldflags:  -fpic -shared -fopenmp -ftrace\n",
       "* log_stream: None\n",
       "* compiler: /opt/nec/ve/bin/ncc\n",
       "* use_nlc: False\n",
       "* ftrace: False\n",
       "* ID: 1892634_2022-07-07.18:11:43.965039\n",
       "* src_path: /tmp/tmpzpi20ie3/1892634_2022-07-07.18:11:43.965039.c\n",
       "* obj_path: /tmp/tmpzpi20ie3/1892634_2022-07-07.18:11:43.965039.o\n",
       "* lib_path: /tmp/tmpzpi20ie3/1892634_2022-07-07.18:11:43.965039.so\n",
       "* lib: <nlcpy.veo._veo.VeoLibrary object at 0x7fae7fd1fd60>\n",
       ")>"
      ]
     },
     "execution_count": 15,
     "metadata": {},
     "output_type": "execute_result"
    }
   ],
   "source": [
    "ve_lib"
   ]
  },
  {
   "cell_type": "code",
   "execution_count": 16,
   "metadata": {},
   "outputs": [],
   "source": [
    "import nlcpy.ve_types as ve_types"
   ]
  },
  {
   "cell_type": "code",
   "execution_count": 17,
   "metadata": {},
   "outputs": [],
   "source": [
    "ve_sum = ve_lib.get_function(\n",
    "    \"ve_sum\",\n",
    "    args_type=(ve_types.uint64, ve_types.uint64, ve_types.uint64, ve_types.int32),\n",
    "    ret_type=ve_types.int32\n",
    ")"
   ]
  },
  {
   "cell_type": "code",
   "execution_count": 18,
   "metadata": {},
   "outputs": [
    {
     "name": "stdout",
     "output_type": "stream",
     "text": [
      "CPU times: user 26 µs, sys: 21 µs, total: 47 µs\n",
      "Wall time: 50.3 µs\n"
     ]
    }
   ],
   "source": [
    "%%time\n",
    "ve_sum(x.ve_adr, y.ve_adr, z.ve_adr, z.size)"
   ]
  },
  {
   "cell_type": "code",
   "execution_count": 19,
   "metadata": {},
   "outputs": [
    {
     "name": "stdout",
     "output_type": "stream",
     "text": [
      "CPU times: user 460 ms, sys: 2.94 ms, total: 463 ms\n",
      "Wall time: 462 ms\n"
     ]
    }
   ],
   "source": [
    "%%time\n",
    "with vp.prof.ftrace_region('ve_sum'):\n",
    "    for _ in range(100):\n",
    "        ve_sum(x.ve_adr, y.ve_adr, z.ve_adr, z.size)"
   ]
  },
  {
   "cell_type": "code",
   "execution_count": null,
   "metadata": {},
   "outputs": [],
   "source": []
  },
  {
   "cell_type": "code",
   "execution_count": 20,
   "metadata": {},
   "outputs": [
    {
     "data": {
      "text/plain": [
       "{'status': 'ok', 'restart': True}"
      ]
     },
     "execution_count": 20,
     "metadata": {},
     "output_type": "execute_result"
    }
   ],
   "source": [
    "import IPython\n",
    "IPython.Application.instance().kernel.do_shutdown(True)"
   ]
  },
  {
   "cell_type": "code",
   "execution_count": 1,
   "metadata": {
    "scrolled": false
   },
   "outputs": [
    {
     "name": "stdout",
     "output_type": "stream",
     "text": [
      "*----------------------*\r\n",
      "  FTRACE ANALYSIS LIST\r\n",
      "*----------------------*\r\n",
      "\r\n",
      "Execution Date : Thu Jul  7 18:11:56 2022 JST\r\n",
      "Total CPU Time : 0:00'03\"722 (3.722 sec.)\r\n",
      "\r\n",
      "\r\n",
      "FREQUENCY  EXCLUSIVE       AVER.TIME     MOPS   MFLOPS  V.OP  AVER.    VECTOR L1CACHE CPU PORT VLD LLC PROC.NAME  \r\n",
      "           TIME[sec](  % )    [msec]                    RATIO V.LEN      TIME    MISS     CONF HIT E.%            \r\n",
      "\r\n",
      "      808     3.686( 99.0)     4.561  14846.7   3678.2  99.10 256.0     3.519   0.004    0.000    0.08 ve_sum$1\r\n",
      "      101     0.462( 12.4)     4.578  14806.0   3664.6  99.00 256.0     0.380   0.000    0.000    0.06  -thread0\r\n",
      "      101     0.461( 12.4)     4.561  14847.5   3678.4  99.10 256.0     0.440   0.000    0.000    0.08  -thread1\r\n",
      "      101     0.461( 12.4)     4.560  14851.5   3679.4  99.10 256.0     0.440   0.000    0.000    0.08  -thread2\r\n",
      "      101     0.460( 12.4)     4.557  14855.0   3681.4  99.13 256.0     0.460   0.000    0.000    0.06  -thread3\r\n",
      "      101     0.460( 12.4)     4.558  14856.2   3680.9  99.11 256.0     0.447   0.001    0.000    0.07  -thread4\r\n",
      "      101     0.460( 12.4)     4.558  14855.2   3680.6  99.11 256.0     0.446   0.001    0.000    0.07  -thread5\r\n",
      "      101     0.460( 12.4)     4.559  14849.7   3679.7  99.12 256.0     0.454   0.000    0.000    0.08  -thread6\r\n",
      "      101     0.460( 12.4)     4.558  14852.9   3680.5  99.12 256.0     0.454   0.000    0.000    0.08  -thread7\r\n",
      "        2     0.036(  1.0)    17.855  52687.2   3758.6  99.87 156.0     0.036   0.000    0.000   97.62 random_generate\r\n",
      "      101     0.000(  0.0)     0.004    382.3      0.0   0.00   0.0     0.000   0.000    0.000    0.00 ve_sum\r\n",
      "        1     0.000(  0.0)     0.020    521.4      0.0   0.00   0.0     0.000   0.000    0.000    0.00 nlcpy_random_set_seed\r\n",
      "        2     0.000(  0.0)     0.008    165.2      0.0   0.00   0.0     0.000   0.000    0.000    0.00 nlcpy_random_generate_uniform_f64\r\n",
      "        1     0.000(  0.0)     0.008    102.5      0.0   0.00   0.0     0.000   0.000    0.000    0.00 random_destroy_handle\r\n",
      "        1     0.000(  0.0)     0.003    152.2      0.0   0.00   0.0     0.000   0.000    0.000    0.00 nlcpy_fft_destroy_handle\r\n",
      "        1     0.000(  0.0)     0.003    109.5      0.0   0.00   0.0     0.000   0.000    0.000    0.00 nlcpy__mempool_alloc_ve\r\n",
      "        1     0.000(  0.0)     0.003    103.4      0.0   0.00   0.0     0.000   0.000    0.000    0.00 nlcpy__mempool_get_memsize_ve\r\n",
      "        3     0.000(  0.0)     0.000    610.1      0.0   0.00   0.0     0.000   0.000    0.000    0.00 retrieve_fpe_flags\r\n",
      "        1     0.000(  0.0)     0.001    873.0      0.0   0.00   0.0     0.000   0.000    0.000    0.00 nlcpy_profiling_region_begin\r\n",
      "        1     0.000(  0.0)     0.000   1052.6      0.0   0.00   0.0     0.000   0.000    0.000    0.00 nlcpy_profiling_region_end\r\n",
      "------------------------------------------------------------------------------------------------------------------\r\n",
      "      923     3.722(100.0)     4.032  15208.0   3678.5  99.12 250.6     3.555   0.004    0.000    0.08 total\r\n",
      "\r\n",
      "      701     3.649( 98.0)     5.205  14847.7   3678.4  99.10 256.0     3.485   0.005    0.000    0.08 ve_sum\r\n",
      "        1     0.459( 12.3)   458.537  14783.4   3658.9  99.00 256.0     0.376   0.002    0.000    0.06  -thread0\r\n",
      "      100     0.456( 12.2)     4.557  14860.8   3681.7  99.10 256.0     0.436   0.000    0.000    0.08  -thread1\r\n",
      "      100     0.456( 12.3)     4.560  14851.2   3679.3  99.10 256.0     0.435   0.000    0.000    0.08  -thread2\r\n",
      "      100     0.456( 12.2)     4.556  14857.8   3682.1  99.13 256.0     0.455   0.000    0.000    0.06  -thread3\r\n",
      "      100     0.456( 12.2)     4.557  14859.1   3681.6  99.11 256.0     0.442   0.001    0.000    0.07  -thread4\r\n",
      "      100     0.456( 12.2)     4.557  14859.4   3681.7  99.11 256.0     0.441   0.001    0.000    0.07  -thread5\r\n",
      "      100     0.456( 12.2)     4.558  14855.3   3681.1  99.12 256.0     0.450   0.000    0.000    0.08  -thread6\r\n",
      "      100     0.456( 12.2)     4.558  14854.7   3680.9  99.12 256.0     0.449   0.000    0.000    0.08  -thread7\r\n",
      "------------------------------------------------------------------------------------------------------------------\r\n"
     ]
    }
   ],
   "source": [
    "!/opt/nec/ve/bin/ftrace"
   ]
  },
  {
   "cell_type": "code",
   "execution_count": 9,
   "metadata": {},
   "outputs": [
    {
     "data": {
      "text/plain": [
       "0.00462"
      ]
     },
     "execution_count": 9,
     "metadata": {},
     "output_type": "execute_result"
    }
   ],
   "source": [
    "462/1000/100"
   ]
  },
  {
   "cell_type": "code",
   "execution_count": 10,
   "metadata": {},
   "outputs": [
    {
     "data": {
      "text/plain": [
       "216.45021645021646"
      ]
     },
     "execution_count": 10,
     "metadata": {},
     "output_type": "execute_result"
    }
   ],
   "source": [
    "1./_"
   ]
  },
  {
   "cell_type": "code",
   "execution_count": 11,
   "metadata": {},
   "outputs": [
    {
     "data": {
      "text/plain": [
       "649.3506493506494"
      ]
     },
     "execution_count": 11,
     "metadata": {},
     "output_type": "execute_result"
    }
   ],
   "source": [
    "_*3"
   ]
  },
  {
   "cell_type": "code",
   "execution_count": null,
   "metadata": {},
   "outputs": [],
   "source": []
  }
 ],
 "metadata": {
  "kernelspec": {
   "display_name": "Python 3",
   "language": "python",
   "name": "python3"
  },
  "language_info": {
   "codemirror_mode": {
    "name": "ipython",
    "version": 3
   },
   "file_extension": ".py",
   "mimetype": "text/x-python",
   "name": "python",
   "nbconvert_exporter": "python",
   "pygments_lexer": "ipython3",
   "version": "3.8.3"
  }
 },
 "nbformat": 4,
 "nbformat_minor": 4
}
