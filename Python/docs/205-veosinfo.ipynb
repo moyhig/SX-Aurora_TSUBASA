{
 "cells": [
  {
   "cell_type": "markdown",
   "id": "6df6ea4d",
   "metadata": {},
   "source": [
    "# SX-Aurora TSUBASA VE info\n",
    "\n",
    "* [SX-Aurora/veosinfo: VEOS information library for SX-Aurora Vector Engine](https://github.com/SX-Aurora/veosinfo)\n",
    "* [SX-Aurora/py-veosinfo: Python bindings to VEOS information library for SX-Aurora Vector Engine](https://github.com/SX-Aurora/py-veosinfo)"
   ]
  },
  {
   "cell_type": "markdown",
   "id": "f23dfa80",
   "metadata": {},
   "source": [
    "* [Xeon Gold 6226 - Intel - WikiChip](https://en.wikichip.org/wiki/intel/xeon_gold/6226)"
   ]
  },
  {
   "cell_type": "code",
   "execution_count": 3,
   "id": "373649ea",
   "metadata": {},
   "outputs": [],
   "source": [
    "from veosinfo import *"
   ]
  },
  {
   "cell_type": "code",
   "execution_count": 6,
   "id": "9eb70fa1",
   "metadata": {},
   "outputs": [
    {
     "data": {
      "text/plain": [
       "{'machine': b've', 'processor': b've', 'hw_platform': b've'}"
      ]
     },
     "execution_count": 6,
     "metadata": {},
     "output_type": "execute_result"
    }
   ],
   "source": [
    "arch_info(1)"
   ]
  },
  {
   "cell_type": "code",
   "execution_count": 7,
   "id": "fa698456",
   "metadata": {},
   "outputs": [
    {
     "data": {
      "text/plain": [
       "{'cores': 8,\n",
       " 'thread_per_core': 1,\n",
       " 'core_per_socket': 8,\n",
       " 'socket': 1,\n",
       " 'vendor': b'0x1bcf',\n",
       " 'family': b'1',\n",
       " 'model': b'18',\n",
       " 'modelname': b'10C',\n",
       " 'mhz': b'1400',\n",
       " 'stepping': b'0',\n",
       " 'bogomips': b'1400',\n",
       " 'op_mode': b'64 bit',\n",
       " 'cache_name': [b'cache_l1i', b'cache_l1d', b'cache_l2', b'cache_llc'],\n",
       " 'cache_size': [32, 32, 256, 16384]}"
      ]
     },
     "execution_count": 7,
     "metadata": {},
     "output_type": "execute_result"
    }
   ],
   "source": [
    "cpu_info(0)"
   ]
  },
  {
   "cell_type": "code",
   "execution_count": 37,
   "id": "7c56e372",
   "metadata": {},
   "outputs": [
    {
     "data": {
      "text/plain": [
       "(67584, 21082112)"
      ]
     },
     "execution_count": 37,
     "metadata": {},
     "output_type": "execute_result"
    }
   ],
   "source": [
    "mem_info(0)['kb_main_used'], mem_info(1)['kb_main_free']"
   ]
  },
  {
   "cell_type": "code",
   "execution_count": 36,
   "id": "aa039976",
   "metadata": {},
   "outputs": [
    {
     "data": {
      "text/plain": [
       "(4083712, 21082112)"
      ]
     },
     "execution_count": 36,
     "metadata": {},
     "output_type": "execute_result"
    }
   ],
   "source": [
    "mem_info(1)['kb_main_used'], mem_info(1)['kb_main_free']"
   ]
  },
  {
   "cell_type": "code",
   "execution_count": 10,
   "id": "fa716334",
   "metadata": {},
   "outputs": [
    {
     "data": {
      "text/plain": [
       "{'nodeid': [0, 1], 'status': [0, 0], 'cores': [8, 8], 'total_node_count': 2}"
      ]
     },
     "execution_count": 10,
     "metadata": {},
     "output_type": "execute_result"
    }
   ],
   "source": [
    "node_info()"
   ]
  },
  {
   "cell_type": "code",
   "execution_count": 40,
   "id": "4f4996a9",
   "metadata": {},
   "outputs": [
    {
     "data": {
      "text/plain": [
       "{'pgfree': 0,\n",
       " 'pgscan_direct': 0,\n",
       " 'pgsteal': 0,\n",
       " 'pswpin': 0,\n",
       " 'pswpout': 0,\n",
       " 'pgfault': 0,\n",
       " 'pgmajfault': 0,\n",
       " 'pgscan_kswapd': 0}"
      ]
     },
     "execution_count": 40,
     "metadata": {},
     "output_type": "execute_result"
    }
   ],
   "source": [
    "vmstat_info(1)"
   ]
  },
  {
   "cell_type": "code",
   "execution_count": 41,
   "id": "6f4374e6",
   "metadata": {},
   "outputs": [
    {
     "data": {
      "text/plain": [
       "167256.906143"
      ]
     },
     "execution_count": 41,
     "metadata": {},
     "output_type": "execute_result"
    }
   ],
   "source": [
    "uptime_info(1)"
   ]
  },
  {
   "cell_type": "code",
   "execution_count": null,
   "id": "08fcc8fb",
   "metadata": {},
   "outputs": [],
   "source": []
  },
  {
   "cell_type": "code",
   "execution_count": 13,
   "id": "0e846d64",
   "metadata": {},
   "outputs": [],
   "source": [
    "import os\n",
    "os.environ[\"VE_NODE_NUMBER\"] = \"1\""
   ]
  },
  {
   "cell_type": "code",
   "execution_count": 15,
   "id": "d2feaa87",
   "metadata": {},
   "outputs": [],
   "source": [
    "import nlcpy as vp"
   ]
  },
  {
   "cell_type": "code",
   "execution_count": 20,
   "id": "15ef949f",
   "metadata": {},
   "outputs": [],
   "source": [
    "p=vp.veo._get_veo_proc()"
   ]
  },
  {
   "cell_type": "code",
   "execution_count": 27,
   "id": "cdc3c1d4",
   "metadata": {},
   "outputs": [
    {
     "data": {
      "text/plain": [
       "-1"
      ]
     },
     "execution_count": 27,
     "metadata": {},
     "output_type": "execute_result"
    }
   ],
   "source": [
    "p.nodeid"
   ]
  },
  {
   "cell_type": "code",
   "execution_count": 29,
   "id": "f5c2c431",
   "metadata": {},
   "outputs": [
    {
     "ename": "TypeError",
     "evalue": "__init__() takes at least 1 positional argument (0 given)",
     "output_type": "error",
     "traceback": [
      "\u001b[0;31m---------------------------------------------------------------------------\u001b[0m",
      "\u001b[0;31mTypeError\u001b[0m                                 Traceback (most recent call last)",
      "Input \u001b[0;32mIn [29]\u001b[0m, in \u001b[0;36m<cell line: 1>\u001b[0;34m()\u001b[0m\n\u001b[0;32m----> 1\u001b[0m \u001b[43mvp\u001b[49m\u001b[38;5;241;43m.\u001b[39;49m\u001b[43mveo\u001b[49m\u001b[38;5;241;43m.\u001b[39;49m\u001b[43mVeoProc\u001b[49m\u001b[43m(\u001b[49m\u001b[43m)\u001b[49m\n",
      "File \u001b[0;32mnlcpy/veo/_veo.pyx:486\u001b[0m, in \u001b[0;36mnlcpy.veo._veo.VeoProc.__init__\u001b[0;34m()\u001b[0m\n",
      "\u001b[0;31mTypeError\u001b[0m: __init__() takes at least 1 positional argument (0 given)"
     ]
    }
   ],
   "source": [
    "vp.veo."
   ]
  },
  {
   "cell_type": "code",
   "execution_count": 25,
   "id": "6e0bb3a2",
   "metadata": {},
   "outputs": [],
   "source": [
    "lib=vp.veo._veo._get_veo_lib()"
   ]
  },
  {
   "cell_type": "code",
   "execution_count": 32,
   "id": "816b6ba0",
   "metadata": {},
   "outputs": [
    {
     "ename": "SyntaxError",
     "evalue": "invalid syntax (<ipython-input-32-ceddb4dfb351>, line 1)",
     "output_type": "error",
     "traceback": [
      "\u001b[0;36m  Input \u001b[0;32mIn [32]\u001b[0;36m\u001b[0m\n\u001b[0;31m    from libveo cimport *\u001b[0m\n\u001b[0m                ^\u001b[0m\n\u001b[0;31mSyntaxError\u001b[0m\u001b[0;31m:\u001b[0m invalid syntax\n"
     ]
    }
   ],
   "source": [
    "from libveo cimport *"
   ]
  },
  {
   "cell_type": "code",
   "execution_count": null,
   "id": "debc96c8",
   "metadata": {},
   "outputs": [],
   "source": []
  }
 ],
 "metadata": {
  "kernelspec": {
   "display_name": "Python 3",
   "language": "python",
   "name": "python3"
  },
  "language_info": {
   "codemirror_mode": {
    "name": "ipython",
    "version": 3
   },
   "file_extension": ".py",
   "mimetype": "text/x-python",
   "name": "python",
   "nbconvert_exporter": "python",
   "pygments_lexer": "ipython3",
   "version": "3.8.13"
  }
 },
 "nbformat": 4,
 "nbformat_minor": 5
}
