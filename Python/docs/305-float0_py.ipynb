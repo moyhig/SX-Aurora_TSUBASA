{
 "cells": [
  {
   "cell_type": "markdown",
   "id": "946c1e7c-5418-4f9d-8a9a-584550dc5361",
   "metadata": {},
   "source": [
    "# Float 0\n",
    "\n",
    "* [Double-precision floating-point format - Wikipedia](https://en.wikipedia.org/wiki/Double-precision_floating-point_format)"
   ]
  },
  {
   "cell_type": "code",
   "execution_count": 1,
   "id": "77950af2-a37d-4c70-b213-833d33a70956",
   "metadata": {},
   "outputs": [],
   "source": [
    "import numpy as np"
   ]
  },
  {
   "cell_type": "code",
   "execution_count": 2,
   "id": "3ec206e3-2f82-4ee5-a5d9-a2c2fe9ec5da",
   "metadata": {},
   "outputs": [],
   "source": [
    "x=np.float64(0)"
   ]
  },
  {
   "cell_type": "code",
   "execution_count": 4,
   "id": "be8af043-36c4-4509-9909-9d4a1da5eced",
   "metadata": {},
   "outputs": [
    {
     "data": {
      "text/plain": [
       "False"
      ]
     },
     "execution_count": 4,
     "metadata": {},
     "output_type": "execute_result"
    }
   ],
   "source": [
    "bool(x)"
   ]
  },
  {
   "cell_type": "code",
   "execution_count": 5,
   "id": "ce7b237d-0eb7-4d3b-882a-ea72b5f9a0fa",
   "metadata": {},
   "outputs": [
    {
     "data": {
      "text/plain": [
       "b'\\x00\\x00\\x00\\x00\\x00\\x00\\x00\\x00'"
      ]
     },
     "execution_count": 5,
     "metadata": {},
     "output_type": "execute_result"
    }
   ],
   "source": [
    "x.tobytes()"
   ]
  },
  {
   "cell_type": "markdown",
   "id": "1c6e416e-e545-44ad-bf58-2777d4ff5ec8",
   "metadata": {},
   "source": [
    "* [c - Why does malloc initialize the values to 0 in gcc? - Stack Overflow](https://stackoverflow.com/questions/8029584/why-does-malloc-initialize-the-values-to-0-in-gcc)"
   ]
  },
  {
   "cell_type": "code",
   "execution_count": 7,
   "id": "b70e3db1-7dbb-4444-a22c-272a7da4df59",
   "metadata": {},
   "outputs": [],
   "source": [
    "y = np.frombuffer(b'\\xff\\xff\\xff\\xff\\xff\\xff\\xff\\xff', dtype=np.float64)"
   ]
  },
  {
   "cell_type": "code",
   "execution_count": 9,
   "id": "1ce6cc5f-e3d2-4cab-ab9e-67b10743f452",
   "metadata": {},
   "outputs": [
    {
     "data": {
      "text/plain": [
       "(array([nan]), b'\\xff\\xff\\xff\\xff\\xff\\xff\\xff\\xff')"
      ]
     },
     "execution_count": 9,
     "metadata": {},
     "output_type": "execute_result"
    }
   ],
   "source": [
    "y, y.tobytes()"
   ]
  },
  {
   "cell_type": "code",
   "execution_count": null,
   "id": "da2cdccf-279f-47e9-afef-1cd66828dfbe",
   "metadata": {},
   "outputs": [],
   "source": []
  }
 ],
 "metadata": {
  "kernelspec": {
   "display_name": "Python 3",
   "language": "python",
   "name": "python3"
  },
  "language_info": {
   "codemirror_mode": {
    "name": "ipython",
    "version": 3
   },
   "file_extension": ".py",
   "mimetype": "text/x-python",
   "name": "python",
   "nbconvert_exporter": "python",
   "pygments_lexer": "ipython3",
   "version": "3.8.13"
  }
 },
 "nbformat": 4,
 "nbformat_minor": 5
}
