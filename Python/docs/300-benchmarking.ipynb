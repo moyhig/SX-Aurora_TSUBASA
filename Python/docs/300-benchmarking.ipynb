{
 "cells": [
  {
   "cell_type": "markdown",
   "id": "ff1a81d3",
   "metadata": {},
   "source": [
    "## Benchmarking\n",
    "\n",
    "* STREAM\n",
    "  - sum, triad\n",
    "* Linpack TPP\n",
    "  - DGSEV\n",
    "* Linpack HPC\n",
    "  - DGEMM\n",
    "\n",
    "* [Frequent Asked Questions on the LINPACK Benchmark](http://www.netlib.org/utk/people/JackDongarra/faq-linpack.html)\n",
    "* [LAPACK Benchmark](https://www.netlib.org/lapack/lug/node71.html)\n",
    "* [MJR's Linpack Page](https://www.mjr19.org.uk/linpack/)"
   ]
  },
  {
   "cell_type": "markdown",
   "id": "b9690efa",
   "metadata": {},
   "source": [
    "* malloc\n",
    "  - nlcpy: asarray(), get(), asnumpy()\n",
    "* copy\n",
    "  - STREAM: sum, triad\n",
    "  - nlcpy: copy()\n",
    "    - [nlcpy/core.pyx at bdd85ca36b5dfc8ea1a60876656099ff5193d07c · SX-Aurora/nlcpy](https://github.com/SX-Aurora/nlcpy/blob/bdd85ca36b5dfc8ea1a60876656099ff5193d07c/nlcpy/core/core.pyx#L931)\n",
    "* HPL\n",
    "  - linalg.solve \n",
    "    - dgesev\n",
    "      - [python - Difference between numpy.linalg.solve and numpy.linalg.lu_solve - Stack Overflow](https://stackoverflow.com/questions/44672029/difference-between-numpy-linalg-solve-and-numpy-linalg-lu-solve)"
   ]
  },
  {
   "cell_type": "markdown",
   "id": "846e117f",
   "metadata": {},
   "source": [
    "* ftrace\n",
    "  - `FTRACE=yes python setup.py wheel`"
   ]
  },
  {
   "cell_type": "code",
   "execution_count": 1,
   "id": "2fbd6adf",
   "metadata": {},
   "outputs": [],
   "source": [
    "import numpy as np\n",
    "import nlcpy as vp"
   ]
  },
  {
   "cell_type": "code",
   "execution_count": null,
   "id": "3a88204b",
   "metadata": {},
   "outputs": [],
   "source": []
  }
 ],
 "metadata": {
  "kernelspec": {
   "display_name": "Python 3",
   "language": "python",
   "name": "python3"
  },
  "language_info": {
   "codemirror_mode": {
    "name": "ipython",
    "version": 3
   },
   "file_extension": ".py",
   "mimetype": "text/x-python",
   "name": "python",
   "nbconvert_exporter": "python",
   "pygments_lexer": "ipython3",
   "version": "3.8.13"
  }
 },
 "nbformat": 4,
 "nbformat_minor": 5
}
