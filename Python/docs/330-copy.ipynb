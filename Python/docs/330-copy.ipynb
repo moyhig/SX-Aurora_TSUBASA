{
 "cells": [
  {
   "cell_type": "markdown",
   "id": "4787c698",
   "metadata": {},
   "source": [
    "# 0-copy"
   ]
  },
  {
   "cell_type": "markdown",
   "id": "ec9eb975",
   "metadata": {},
   "source": [
    "* [NumPyのコピー(copy)とビュー(view)を分かりやすく解説 - DeepAge](https://deepage.net/features/numpy-copyview.html)\n",
    "* [Python: NumPy 配列の操作でメモリのコピーが生じているか調べる - CUBE SUGAR CONTAINER](https://blog.amedama.jp/entry/numpy-copy-and-view)\n",
    "* [NumPy: Determine if ndarray is view or copy and if it shares memory | note.nkmk.me](https://note.nkmk.me/en/python-numpy-view-copy-shares-memory/)\n",
    "* [Copies and views — NumPy v1.23 Manual](https://numpy.org/doc/stable/user/basics.copies.html)\n",
    "* [numpy.ndarray.base — NumPy v1.23 Manual](https://numpy.org/doc/stable/reference/generated/numpy.ndarray.base.html)\n",
    "* [numpy.ndarray.view — NumPy v1.23 Manual](https://numpy.org/doc/stable/reference/generated/numpy.ndarray.view.html)"
   ]
  },
  {
   "cell_type": "markdown",
   "id": "751fdb07",
   "metadata": {},
   "source": [
    "* Julia - \"Views (SubArrays and other view types)\"\n",
    "  * [Arrays · The Julia Language](https://docs.julialang.org/en/v1/base/arrays/#Views-(SubArrays-and-other-view-types))"
   ]
  },
  {
   "cell_type": "markdown",
   "id": "b8c31f9e",
   "metadata": {},
   "source": [
    "* Julia iterators\n",
    "  - \"Tricked out iterators in Julia\"\n",
    "    - [Slender Means](http://slendermeans.org/julia-iterators.html)"
   ]
  },
  {
   "cell_type": "code",
   "execution_count": null,
   "id": "b39078c1",
   "metadata": {},
   "outputs": [],
   "source": []
  }
 ],
 "metadata": {
  "kernelspec": {
   "display_name": "Python 3",
   "language": "python",
   "name": "python3"
  },
  "language_info": {
   "codemirror_mode": {
    "name": "ipython",
    "version": 3
   },
   "file_extension": ".py",
   "mimetype": "text/x-python",
   "name": "python",
   "nbconvert_exporter": "python",
   "pygments_lexer": "ipython3",
   "version": "3.8.13"
  }
 },
 "nbformat": 4,
 "nbformat_minor": 5
}
