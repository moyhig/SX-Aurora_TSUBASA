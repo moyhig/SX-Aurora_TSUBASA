{
 "cells": [
  {
   "cell_type": "markdown",
   "id": "dfa9b5a3",
   "metadata": {},
   "source": [
    "# Array creation"
   ]
  },
  {
   "cell_type": "markdown",
   "id": "4acc48b0",
   "metadata": {},
   "source": [
    "## NumPy"
   ]
  },
  {
   "cell_type": "code",
   "execution_count": 1,
   "id": "16301dba",
   "metadata": {},
   "outputs": [],
   "source": [
    "import numpy as np"
   ]
  },
  {
   "cell_type": "code",
   "execution_count": 2,
   "id": "dc905d8d",
   "metadata": {},
   "outputs": [
    {
     "name": "stdout",
     "output_type": "stream",
     "text": [
      "CPU times: user 7 µs, sys: 9 µs, total: 16 µs\n",
      "Wall time: 17.6 µs\n"
     ]
    }
   ],
   "source": [
    "%%time\n",
    "x0 = np.empty((2**27,), dtype=np.float64)"
   ]
  },
  {
   "cell_type": "code",
   "execution_count": 3,
   "id": "4a396cf6",
   "metadata": {},
   "outputs": [
    {
     "name": "stdout",
     "output_type": "stream",
     "text": [
      "CPU times: user 180 µs, sys: 0 ns, total: 180 µs\n",
      "Wall time: 137 µs\n"
     ]
    }
   ],
   "source": [
    "%%time\n",
    "x0 = np.zeros((2**27,), dtype=np.float64)"
   ]
  },
  {
   "cell_type": "code",
   "execution_count": 4,
   "id": "acc942fd",
   "metadata": {},
   "outputs": [
    {
     "name": "stdout",
     "output_type": "stream",
     "text": [
      "CPU times: user 44.7 ms, sys: 65 ms, total: 110 ms\n",
      "Wall time: 109 ms\n"
     ]
    }
   ],
   "source": [
    "%%time\n",
    "x0 = np.ones((2**27,), dtype=np.float64)"
   ]
  },
  {
   "cell_type": "code",
   "execution_count": 5,
   "id": "ac7c51ec",
   "metadata": {},
   "outputs": [
    {
     "name": "stdout",
     "output_type": "stream",
     "text": [
      "CPU times: user 816 ms, sys: 70.6 ms, total: 887 ms\n",
      "Wall time: 888 ms\n"
     ]
    }
   ],
   "source": [
    "%%time\n",
    "x0 = np.random.random_sample((2**27,))"
   ]
  },
  {
   "cell_type": "markdown",
   "id": "d7690015",
   "metadata": {},
   "source": [
    "* [Python memory usage of numpy arrays - Stack Overflow](https://stackoverflow.com/questions/11784329/python-memory-usage-of-numpy-arrays)"
   ]
  },
  {
   "cell_type": "code",
   "execution_count": 13,
   "id": "e5524b05",
   "metadata": {},
   "outputs": [
    {
     "data": {
      "text/plain": [
       "(134217728, (8,), 8, 1073741824)"
      ]
     },
     "execution_count": 13,
     "metadata": {},
     "output_type": "execute_result"
    }
   ],
   "source": [
    "x0.size, x0.strides, x0.dtype.alignment, x0.nbytes"
   ]
  },
  {
   "cell_type": "code",
   "execution_count": 6,
   "id": "07fe9a3c",
   "metadata": {},
   "outputs": [
    {
     "data": {
      "text/plain": [
       "1073741936"
      ]
     },
     "execution_count": 6,
     "metadata": {},
     "output_type": "execute_result"
    }
   ],
   "source": [
    "from sys import getsizeof\n",
    "getsizeof(x0)"
   ]
  },
  {
   "cell_type": "markdown",
   "id": "04daff09",
   "metadata": {},
   "source": [
    "* [c - How to extract a memory address from inside a Python object - Stack Overflow](https://stackoverflow.com/questions/64486387/how-to-extract-a-memory-address-from-inside-a-python-object)\n",
    "* [python - how to get the memory address of a numpy array for C - Stack Overflow](https://stackoverflow.com/questions/11264838/how-to-get-the-memory-address-of-a-numpy-array-for-c)"
   ]
  },
  {
   "cell_type": "code",
   "execution_count": 16,
   "id": "a9cab5f9",
   "metadata": {},
   "outputs": [
    {
     "data": {
      "text/plain": [
       "'0x7f7448f68010'"
      ]
     },
     "execution_count": 16,
     "metadata": {},
     "output_type": "execute_result"
    }
   ],
   "source": [
    "hex(x0.__array_interface__['data'][0])"
   ]
  },
  {
   "cell_type": "code",
   "execution_count": 24,
   "id": "60a6eb8e",
   "metadata": {},
   "outputs": [
    {
     "data": {
      "text/plain": [
       "(<memory at 0x7f74c6aebdc0>, '0x7f74c6aebf40')"
      ]
     },
     "execution_count": 24,
     "metadata": {},
     "output_type": "execute_result"
    }
   ],
   "source": [
    "x0.data, hex(id(x0.data))"
   ]
  },
  {
   "cell_type": "code",
   "execution_count": 25,
   "id": "1c085a6a",
   "metadata": {},
   "outputs": [],
   "source": [
    "import sys\n",
    "import ctypes\n",
    "buffer_object_size=sys.getsizeof(x0.data)\n",
    "buffer_pointer_size = ctypes.sizeof(ctypes.c_void_p)\n",
    "buffer_pointer_addr = id(x0.data) + buffer_object_size - buffer_pointer_size"
   ]
  },
  {
   "cell_type": "code",
   "execution_count": 26,
   "id": "c410517c",
   "metadata": {},
   "outputs": [
    {
     "data": {
      "text/plain": [
       "(184, 8, '0x7f74c6aebff0')"
      ]
     },
     "execution_count": 26,
     "metadata": {},
     "output_type": "execute_result"
    }
   ],
   "source": [
    "buffer_object_size, buffer_pointer_size, hex(buffer_pointer_addr)"
   ]
  },
  {
   "cell_type": "code",
   "execution_count": null,
   "id": "36ffc275",
   "metadata": {},
   "outputs": [],
   "source": []
  },
  {
   "cell_type": "markdown",
   "id": "1421168a",
   "metadata": {},
   "source": [
    "## NLCPy"
   ]
  },
  {
   "cell_type": "code",
   "execution_count": 27,
   "id": "a3ed4ce0",
   "metadata": {},
   "outputs": [],
   "source": [
    "import nlcpy as vp"
   ]
  },
  {
   "cell_type": "code",
   "execution_count": 28,
   "id": "9112aba7",
   "metadata": {},
   "outputs": [
    {
     "name": "stdout",
     "output_type": "stream",
     "text": [
      "CPU times: user 898 µs, sys: 0 ns, total: 898 µs\n",
      "Wall time: 906 µs\n"
     ]
    }
   ],
   "source": [
    "%%time\n",
    "x1 = vp.empty((2**27,), dtype=vp.float64)"
   ]
  },
  {
   "cell_type": "code",
   "execution_count": 29,
   "id": "dd185281",
   "metadata": {},
   "outputs": [
    {
     "name": "stdout",
     "output_type": "stream",
     "text": [
      "CPU times: user 1.59 ms, sys: 0 ns, total: 1.59 ms\n",
      "Wall time: 1.6 ms\n"
     ]
    }
   ],
   "source": [
    "%%time\n",
    "x1 = vp.zeros((2**27,), dtype=vp.float64)"
   ]
  },
  {
   "cell_type": "code",
   "execution_count": 30,
   "id": "548bb836",
   "metadata": {},
   "outputs": [
    {
     "name": "stdout",
     "output_type": "stream",
     "text": [
      "CPU times: user 921 µs, sys: 0 ns, total: 921 µs\n",
      "Wall time: 933 µs\n"
     ]
    }
   ],
   "source": [
    "%%time\n",
    "x1 = vp.ones((2**27,), dtype=vp.float64)"
   ]
  },
  {
   "cell_type": "code",
   "execution_count": 31,
   "id": "4fc54699",
   "metadata": {},
   "outputs": [
    {
     "name": "stdout",
     "output_type": "stream",
     "text": [
      "CPU times: user 24.1 ms, sys: 82 µs, total: 24.2 ms\n",
      "Wall time: 24.1 ms\n"
     ]
    }
   ],
   "source": [
    "%%time\n",
    "x1 = vp.random.random_sample((2**27,))"
   ]
  },
  {
   "cell_type": "code",
   "execution_count": 32,
   "id": "aea5b894",
   "metadata": {},
   "outputs": [
    {
     "data": {
      "text/plain": [
       "((134217728,), 1073741824)"
      ]
     },
     "execution_count": 32,
     "metadata": {},
     "output_type": "execute_result"
    }
   ],
   "source": [
    "x1.shape, x1.nbytes"
   ]
  },
  {
   "cell_type": "code",
   "execution_count": 33,
   "id": "268c0659",
   "metadata": {},
   "outputs": [
    {
     "data": {
      "text/plain": [
       "160"
      ]
     },
     "execution_count": 33,
     "metadata": {},
     "output_type": "execute_result"
    }
   ],
   "source": [
    "from sys import getsizeof\n",
    "getsizeof(x1)"
   ]
  },
  {
   "cell_type": "code",
   "execution_count": 35,
   "id": "e80fcc77",
   "metadata": {},
   "outputs": [
    {
     "data": {
      "text/plain": [
       "'0x6100dc000010'"
      ]
     },
     "execution_count": 35,
     "metadata": {},
     "output_type": "execute_result"
    }
   ],
   "source": [
    "hex(x1.ve_adr)"
   ]
  },
  {
   "cell_type": "markdown",
   "id": "9e014cce",
   "metadata": {},
   "source": [
    "## CuPy"
   ]
  },
  {
   "cell_type": "markdown",
   "id": "5a7abb07",
   "metadata": {},
   "source": [
    "T.B.W."
   ]
  },
  {
   "cell_type": "code",
   "execution_count": null,
   "id": "a211c487",
   "metadata": {},
   "outputs": [],
   "source": []
  }
 ],
 "metadata": {
  "kernelspec": {
   "display_name": "Python 3",
   "language": "python",
   "name": "python3"
  },
  "language_info": {
   "codemirror_mode": {
    "name": "ipython",
    "version": 3
   },
   "file_extension": ".py",
   "mimetype": "text/x-python",
   "name": "python",
   "nbconvert_exporter": "python",
   "pygments_lexer": "ipython3",
   "version": "3.8.13"
  }
 },
 "nbformat": 4,
 "nbformat_minor": 5
}
