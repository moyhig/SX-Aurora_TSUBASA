{
 "cells": [
  {
   "cell_type": "markdown",
   "id": "35eab79e",
   "metadata": {},
   "source": [
    "# Differences: NumPy, NLCPy, CuPy\n",
    "* [Notices and Restrictions — nlcpy 2.1.1 documentation](https://sxauroratsubasa.sakura.ne.jp/documents/nlcpy/en/notices.html)\n",
    "* [Differences between CuPy and NumPy — CuPy 10.6.0 documentation](https://docs.cupy.dev/en/stable/user_guide/difference.html)"
   ]
  },
  {
   "cell_type": "markdown",
   "id": "157fffa8",
   "metadata": {},
   "source": [
    "## Scalar (non-array type) data on VE"
   ]
  },
  {
   "cell_type": "code",
   "execution_count": 1,
   "id": "70b82cb7",
   "metadata": {},
   "outputs": [],
   "source": [
    "import numpy as np\n",
    "import nlcpy as vp"
   ]
  },
  {
   "cell_type": "code",
   "execution_count": 51,
   "id": "cb107843",
   "metadata": {},
   "outputs": [
    {
     "data": {
      "text/plain": [
       "3.0"
      ]
     },
     "execution_count": 51,
     "metadata": {},
     "output_type": "execute_result"
    }
   ],
   "source": [
    "x0 = np.sum([1.,2.])\n",
    "x0"
   ]
  },
  {
   "cell_type": "code",
   "execution_count": 52,
   "id": "3ad2e3d4",
   "metadata": {},
   "outputs": [
    {
     "data": {
      "text/plain": [
       "(numpy.float64, ())"
      ]
     },
     "execution_count": 52,
     "metadata": {},
     "output_type": "execute_result"
    }
   ],
   "source": [
    "type(x0), x0.shape"
   ]
  },
  {
   "cell_type": "markdown",
   "id": "39e3dbc1",
   "metadata": {},
   "source": [
    "VE側ではスカラー (非配列データ) 型としては扱えない制限がある:"
   ]
  },
  {
   "cell_type": "code",
   "execution_count": 49,
   "id": "e2ee802c",
   "metadata": {},
   "outputs": [
    {
     "data": {
      "text/plain": [
       "array(3.)"
      ]
     },
     "execution_count": 49,
     "metadata": {},
     "output_type": "execute_result"
    }
   ],
   "source": [
    "x1 = vp.sum([1.,2.])\n",
    "x1"
   ]
  },
  {
   "cell_type": "code",
   "execution_count": 50,
   "id": "677a2736",
   "metadata": {},
   "outputs": [
    {
     "data": {
      "text/plain": [
       "(nlcpy.core.core.ndarray, ())"
      ]
     },
     "execution_count": 50,
     "metadata": {},
     "output_type": "execute_result"
    }
   ],
   "source": [
    "type(x1), x1.shape"
   ]
  },
  {
   "cell_type": "code",
   "execution_count": 59,
   "id": "b3ec6e71",
   "metadata": {},
   "outputs": [
    {
     "data": {
      "text/plain": [
       "(numpy.float64, numpy.float64)"
      ]
     },
     "execution_count": 59,
     "metadata": {},
     "output_type": "execute_result"
    }
   ],
   "source": [
    "np.float64, vp.float64"
   ]
  },
  {
   "cell_type": "markdown",
   "id": "25e6373c",
   "metadata": {},
   "source": [
    "NumPyと整合性をとるには、`numpy.float64()` で型変換するのが最善と思われる:"
   ]
  },
  {
   "cell_type": "code",
   "execution_count": 82,
   "id": "055fade1",
   "metadata": {},
   "outputs": [
    {
     "data": {
      "text/plain": [
       "(3.0, 3.0)"
      ]
     },
     "execution_count": 82,
     "metadata": {},
     "output_type": "execute_result"
    }
   ],
   "source": [
    "vp.float64(x1), x1.dtype.type(x1)"
   ]
  },
  {
   "cell_type": "code",
   "execution_count": 86,
   "id": "de871f66",
   "metadata": {},
   "outputs": [
    {
     "data": {
      "text/plain": [
       "3.0"
      ]
     },
     "execution_count": 86,
     "metadata": {},
     "output_type": "execute_result"
    }
   ],
   "source": [
    "x2 = x1.dtype.type(x1)\n",
    "x2"
   ]
  },
  {
   "cell_type": "code",
   "execution_count": 87,
   "id": "a1ef0604",
   "metadata": {},
   "outputs": [
    {
     "data": {
      "text/plain": [
       "(numpy.float64, ())"
      ]
     },
     "execution_count": 87,
     "metadata": {},
     "output_type": "execute_result"
    }
   ],
   "source": [
    "type(x2), x2.shape"
   ]
  },
  {
   "cell_type": "markdown",
   "id": "d6c1b59c",
   "metadata": {},
   "source": [
    "`nlcpy.ndarray.get()` で明示的にVHに転送してから型変換しても同じ:"
   ]
  },
  {
   "cell_type": "code",
   "execution_count": 88,
   "id": "c26d788c",
   "metadata": {},
   "outputs": [
    {
     "data": {
      "text/plain": [
       "array(3.)"
      ]
     },
     "execution_count": 88,
     "metadata": {},
     "output_type": "execute_result"
    }
   ],
   "source": [
    "x3 = x1.get()\n",
    "x3"
   ]
  },
  {
   "cell_type": "code",
   "execution_count": 89,
   "id": "cfacd2b4",
   "metadata": {
    "scrolled": true
   },
   "outputs": [
    {
     "data": {
      "text/plain": [
       "(numpy.ndarray, ())"
      ]
     },
     "execution_count": 89,
     "metadata": {},
     "output_type": "execute_result"
    }
   ],
   "source": [
    "type(x3), x3.shape"
   ]
  },
  {
   "cell_type": "code",
   "execution_count": 91,
   "id": "28af20fd",
   "metadata": {},
   "outputs": [
    {
     "data": {
      "text/plain": [
       "3.0"
      ]
     },
     "execution_count": 91,
     "metadata": {},
     "output_type": "execute_result"
    }
   ],
   "source": [
    "x4 = x3.dtype.type(x3)\n",
    "x4"
   ]
  },
  {
   "cell_type": "code",
   "execution_count": 92,
   "id": "a245ddd0",
   "metadata": {},
   "outputs": [
    {
     "data": {
      "text/plain": [
       "(numpy.float64, ())"
      ]
     },
     "execution_count": 92,
     "metadata": {},
     "output_type": "execute_result"
    }
   ],
   "source": [
    "type(x4), x4.shape"
   ]
  },
  {
   "cell_type": "markdown",
   "id": "3ab6ab84",
   "metadata": {},
   "source": [
    "もしくは整合性を犠牲にして･･･\n",
    "* [Convert list or numpy array of single element to float in python - Stack Overflow](https://stackoverflow.com/questions/30311172/convert-list-or-numpy-array-of-single-element-to-float-in-python)"
   ]
  },
  {
   "cell_type": "code",
   "execution_count": 45,
   "id": "b58a390a",
   "metadata": {
    "scrolled": true
   },
   "outputs": [
    {
     "data": {
      "text/plain": [
       "(3.0, float)"
      ]
     },
     "execution_count": 45,
     "metadata": {},
     "output_type": "execute_result"
    }
   ],
   "source": [
    "x1.get().item(), type(x1.get().item())"
   ]
  },
  {
   "cell_type": "code",
   "execution_count": 46,
   "id": "05a121ae",
   "metadata": {
    "scrolled": true
   },
   "outputs": [
    {
     "data": {
      "text/plain": [
       "3.0"
      ]
     },
     "execution_count": 46,
     "metadata": {},
     "output_type": "execute_result"
    }
   ],
   "source": [
    "float(x1.get())"
   ]
  },
  {
   "cell_type": "code",
   "execution_count": null,
   "id": "3a88204b",
   "metadata": {},
   "outputs": [],
   "source": []
  }
 ],
 "metadata": {
  "kernelspec": {
   "display_name": "Python 3",
   "language": "python",
   "name": "python3"
  },
  "language_info": {
   "codemirror_mode": {
    "name": "ipython",
    "version": 3
   },
   "file_extension": ".py",
   "mimetype": "text/x-python",
   "name": "python",
   "nbconvert_exporter": "python",
   "pygments_lexer": "ipython3",
   "version": "3.8.13"
  }
 },
 "nbformat": 4,
 "nbformat_minor": 5
}
