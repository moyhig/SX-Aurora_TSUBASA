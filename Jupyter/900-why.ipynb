{
 "cells": [
  {
   "cell_type": "code",
   "execution_count": 1,
   "id": "53072d09",
   "metadata": {},
   "outputs": [
    {
     "name": "stdout",
     "output_type": "stream",
     "text": [
      "Julia Version 1.7.3\n",
      "Commit 742b9abb4d (2022-05-06 12:58 UTC)\n",
      "Platform Info:\n",
      "  OS: Linux (x86_64-redhat-linux)\n",
      "  CPU: Intel(R) Xeon(R) Gold 6226 CPU @ 2.70GHz\n",
      "  WORD_SIZE: 64\n",
      "  LIBM: libopenlibm\n",
      "  LLVM: libLLVM-12.0.1 (ORCJIT, cascadelake)\n",
      "Environment:\n",
      "  JULIA_DEPOT_PATH = /home/manabu/.julia-1.7.3\n"
     ]
    }
   ],
   "source": [
    "versioninfo()"
   ]
  },
  {
   "cell_type": "code",
   "execution_count": 2,
   "id": "a4c7948d",
   "metadata": {},
   "outputs": [
    {
     "name": "stdout",
     "output_type": "stream",
     "text": [
      "conda 4.8.3\n"
     ]
    },
    {
     "data": {
      "text/plain": [
       "Process(`\u001b[4mconda\u001b[24m \u001b[4m--version\u001b[24m`, ProcessExited(0))"
      ]
     },
     "execution_count": 2,
     "metadata": {},
     "output_type": "execute_result"
    }
   ],
   "source": [
    "run(`conda --version`)"
   ]
  },
  {
   "cell_type": "code",
   "execution_count": 3,
   "id": "7ec59b09",
   "metadata": {},
   "outputs": [
    {
     "name": "stdout",
     "output_type": "stream",
     "text": [
      "# conda environments:\n",
      "#\n",
      "base                     /opt/anaconda3\n",
      "jupyter               *  /opt/anaconda3/envs/jupyter\n",
      "\n"
     ]
    },
    {
     "data": {
      "text/plain": [
       "Process(`\u001b[4mconda\u001b[24m \u001b[4minfo\u001b[24m \u001b[4m--envs\u001b[24m`, ProcessExited(0))"
      ]
     },
     "execution_count": 3,
     "metadata": {},
     "output_type": "execute_result"
    }
   ],
   "source": [
    "run(`conda info --envs`)"
   ]
  },
  {
   "cell_type": "code",
   "execution_count": 4,
   "id": "21483317",
   "metadata": {},
   "outputs": [
    {
     "name": "stdout",
     "output_type": "stream",
     "text": [
      "# packages in environment at /opt/anaconda3/envs/jupyter:\n",
      "#\n",
      "# Name                    Version                   Build  Channel\n",
      "_libgcc_mutex             0.1                 conda_forge    conda-forge\n",
      "_openmp_mutex             4.5                       2_gnu    conda-forge\n",
      "alsa-lib                  1.2.6.1              h7f98852_0    conda-forge\n",
      "argon2-cffi               21.3.0             pyhd8ed1ab_0    conda-forge\n",
      "argon2-cffi-bindings      21.2.0           py38h0a891b7_2    conda-forge\n",
      "asttokens                 2.0.5              pyhd8ed1ab_0    conda-forge\n",
      "attr                      2.5.1                h166bdaf_0    conda-forge\n",
      "attrs                     21.4.0             pyhd8ed1ab_0    conda-forge\n",
      "backcall                  0.2.0              pyh9f0ad1d_0    conda-forge\n",
      "backports                 1.0                        py_2    conda-forge\n",
      "backports.functools_lru_cache 1.6.4              pyhd8ed1ab_0    conda-forge\n",
      "beautifulsoup4            4.11.1             pyha770c72_0    conda-forge\n",
      "bleach                    5.0.0              pyhd8ed1ab_0    conda-forge\n",
      "bzip2                     1.0.8                h7f98852_4    conda-forge\n",
      "ca-certificates           2022.6.15            ha878542_0    conda-forge\n",
      "cffi                      1.15.0           py38h3931269_0    conda-forge\n",
      "cython                    0.29.30          py38hfa26641_0    conda-forge\n",
      "dbus                      1.13.6               h5008d03_3    conda-forge\n",
      "decorator                 5.1.1              pyhd8ed1ab_0    conda-forge\n",
      "defusedxml                0.7.1              pyhd8ed1ab_0    conda-forge\n",
      "entrypoints               0.4                pyhd8ed1ab_0    conda-forge\n",
      "executing                 0.8.3              pyhd8ed1ab_0    conda-forge\n",
      "expat                     2.4.8                h27087fc_0    conda-forge\n",
      "fftw                      3.3.10          nompi_h77c792f_102    conda-forge\n",
      "flit-core                 3.7.1              pyhd8ed1ab_0    conda-forge\n",
      "font-ttf-dejavu-sans-mono 2.37                 hab24e00_0    conda-forge\n",
      "font-ttf-inconsolata      3.000                h77eed37_0    conda-forge\n",
      "font-ttf-source-code-pro  2.038                h77eed37_0    conda-forge\n",
      "font-ttf-ubuntu           0.83                 hab24e00_0    conda-forge\n",
      "fontconfig                2.14.0               h8e229c2_0    conda-forge\n",
      "fonts-conda-ecosystem     1                             0    conda-forge\n",
      "fonts-conda-forge         1                             0    conda-forge\n",
      "freetype                  2.10.4               h0708190_1    conda-forge\n",
      "gettext                   0.19.8.1          h73d1719_1008    conda-forge\n",
      "glib                      2.70.2               h780b84a_4    conda-forge\n",
      "glib-tools                2.70.2               h780b84a_4    conda-forge\n",
      "gst-plugins-base          1.20.3               hf6a322e_0    conda-forge\n",
      "gstreamer                 1.20.3               hd4edc92_0    conda-forge\n",
      "icu                       70.1                 h27087fc_0    conda-forge\n",
      "importlib-metadata        4.11.4           py38h578d9bd_0    conda-forge\n",
      "importlib_resources       5.8.0              pyhd8ed1ab_0    conda-forge\n",
      "ipykernel                 5.5.5            py38hd0cf306_0    conda-forge\n",
      "ipython                   8.4.0            py38h578d9bd_0    conda-forge\n",
      "ipython_genutils          0.2.0                      py_1    conda-forge\n",
      "ipywidgets                7.7.1              pyhd8ed1ab_0    conda-forge\n",
      "jack                      1.9.18            h8c3723f_1002    conda-forge\n",
      "jedi                      0.18.1           py38h578d9bd_1    conda-forge\n",
      "jinja2                    3.1.2              pyhd8ed1ab_1    conda-forge\n",
      "jpeg                      9e                   h166bdaf_1    conda-forge\n",
      "jsonschema                4.6.0              pyhd8ed1ab_0    conda-forge\n",
      "jupyter                   1.0.0            py38h578d9bd_7    conda-forge\n",
      "jupyter_client            7.3.4              pyhd8ed1ab_0    conda-forge\n",
      "jupyter_console           6.4.4              pyhd8ed1ab_0    conda-forge\n",
      "jupyter_core              4.10.0           py38h578d9bd_0    conda-forge\n",
      "jupyterlab_pygments       0.2.2              pyhd8ed1ab_0    conda-forge\n",
      "jupyterlab_widgets        1.1.1              pyhd8ed1ab_0    conda-forge\n",
      "keyutils                  1.6.1                h166bdaf_0    conda-forge\n",
      "krb5                      1.19.3               h3790be6_0    conda-forge\n",
      "ld_impl_linux-64          2.36.1               hea4e1c9_2    conda-forge\n",
      "libblas                   3.9.0           15_linux64_openblas    conda-forge\n",
      "libcap                    2.64                 ha37c62d_0    conda-forge\n",
      "libcblas                  3.9.0           15_linux64_openblas    conda-forge\n",
      "libclang                  14.0.5          default_h2e3cab8_0    conda-forge\n",
      "libclang13                14.0.5          default_h3a83d3e_0    conda-forge\n",
      "libcups                   2.3.3                hf5a7f15_1    conda-forge\n",
      "libdb                     6.2.32               h9c3ff4c_0    conda-forge\n",
      "libedit                   3.1.20191231         he28a2e2_2    conda-forge\n",
      "libevent                  2.1.10               h9b69904_4    conda-forge\n",
      "libffi                    3.4.2                h7f98852_5    conda-forge\n",
      "libflac                   1.3.4                h27087fc_0    conda-forge\n",
      "libgcc-ng                 12.1.0              h8d9b700_16    conda-forge\n",
      "libgfortran-ng            12.1.0              h69a702a_16    conda-forge\n",
      "libgfortran5              12.1.0              hdcd56e2_16    conda-forge\n",
      "libglib                   2.70.2               h174f98d_4    conda-forge\n",
      "libgomp                   12.1.0              h8d9b700_16    conda-forge\n",
      "libiconv                  1.16                 h516909a_0    conda-forge\n",
      "liblapack                 3.9.0           15_linux64_openblas    conda-forge\n",
      "libllvm14                 14.0.6               he0ac6c6_0    conda-forge\n",
      "libnsl                    2.0.0                h7f98852_0    conda-forge\n",
      "libogg                    1.3.4                h7f98852_1    conda-forge\n",
      "libopenblas               0.3.20          pthreads_h78a6416_0    conda-forge\n",
      "libopus                   1.3.1                h7f98852_1    conda-forge\n",
      "libpng                    1.6.37               h21135ba_2    conda-forge\n",
      "libpq                     14.4                 hd77ab85_0    conda-forge\n",
      "libsndfile                1.0.31               h9c3ff4c_1    conda-forge\n",
      "libsodium                 1.0.18               h36c2ea0_1    conda-forge\n",
      "libstdcxx-ng              12.1.0              ha89aaad_16    conda-forge\n",
      "libtool                   2.4.6             h9c3ff4c_1008    conda-forge\n",
      "libudev1                  249                  h166bdaf_4    conda-forge\n",
      "libuuid                   2.32.1            h7f98852_1000    conda-forge\n",
      "libvorbis                 1.3.7                h9c3ff4c_0    conda-forge\n",
      "libxcb                    1.13              h7f98852_1004    conda-forge\n",
      "libxkbcommon              1.0.3                he3ba5ed_0    conda-forge\n",
      "libxml2                   2.9.14               h22db469_0    conda-forge\n",
      "libzlib                   1.2.12               h166bdaf_1    conda-forge\n",
      "lz4-c                     1.9.3                h9c3ff4c_1    conda-forge\n",
      "markupsafe                2.1.1            py38h0a891b7_1    conda-forge\n",
      "matplotlib-inline         0.1.3              pyhd8ed1ab_0    conda-forge\n",
      "mistune                   0.8.4           py38h497a2fe_1005    conda-forge\n",
      "mysql-common              8.0.29               haf5c9bc_1    conda-forge\n",
      "mysql-libs                8.0.29               h28c427c_1    conda-forge\n",
      "nbclient                  0.6.4              pyhd8ed1ab_1    conda-forge\n",
      "nbconvert                 6.5.0              pyhd8ed1ab_0    conda-forge\n",
      "nbconvert-core            6.5.0              pyhd8ed1ab_0    conda-forge\n",
      "nbconvert-pandoc          6.5.0              pyhd8ed1ab_0    conda-forge\n",
      "nbformat                  5.4.0              pyhd8ed1ab_0    conda-forge\n",
      "ncurses                   6.3                  h27087fc_1    conda-forge\n",
      "nest-asyncio              1.5.5              pyhd8ed1ab_0    conda-forge\n",
      "nlcpy                     2.1.1                    pypi_0    pypi\n",
      "notebook                  6.4.12             pyha770c72_0    conda-forge\n",
      "nspr                      4.32                 h9c3ff4c_1    conda-forge\n",
      "nss                       3.78                 h2350873_0    conda-forge\n",
      "numpy                     1.23.0           py38h3a7f9d9_0    conda-forge\n",
      "openssl                   1.1.1p               h166bdaf_0    conda-forge\n",
      "packaging                 21.3               pyhd8ed1ab_0    conda-forge\n",
      "pandoc                    2.18                 ha770c72_0    conda-forge\n",
      "pandocfilters             1.5.0              pyhd8ed1ab_0    conda-forge\n",
      "parso                     0.8.3              pyhd8ed1ab_0    conda-forge\n",
      "pcre                      8.45                 h9c3ff4c_0    conda-forge\n",
      "pexpect                   4.8.0              pyh9f0ad1d_2    conda-forge\n",
      "pickleshare               0.7.5                   py_1003    conda-forge\n",
      "pip                       22.1.2             pyhd8ed1ab_0    conda-forge\n",
      "portaudio                 19.6.0               h57a0ea0_5    conda-forge\n",
      "prometheus_client         0.14.1             pyhd8ed1ab_0    conda-forge\n",
      "prompt-toolkit            3.0.29             pyha770c72_0    conda-forge\n",
      "prompt_toolkit            3.0.29               hd8ed1ab_0    conda-forge\n",
      "psutil                    5.9.1            py38h0a891b7_0    conda-forge\n",
      "pthread-stubs             0.4               h36c2ea0_1001    conda-forge\n",
      "ptyprocess                0.7.0              pyhd3deb0d_0    conda-forge\n",
      "pulseaudio                14.0                 h7f54b18_8    conda-forge\n",
      "pure_eval                 0.2.2              pyhd8ed1ab_0    conda-forge\n",
      "pycparser                 2.21               pyhd8ed1ab_0    conda-forge\n",
      "pygments                  2.12.0             pyhd8ed1ab_0    conda-forge\n",
      "pyparsing                 3.0.9              pyhd8ed1ab_0    conda-forge\n",
      "pyqt                      5.15.4           py38h7492b6b_1    conda-forge\n",
      "pyqt5-sip                 12.9.0           py38hfa26641_1    conda-forge\n",
      "pyrsistent                0.18.1           py38h0a891b7_1    conda-forge\n",
      "python                    3.8.13          h582c2e5_0_cpython    conda-forge\n",
      "python-dateutil           2.8.2              pyhd8ed1ab_0    conda-forge\n",
      "python-fastjsonschema     2.15.3             pyhd8ed1ab_0    conda-forge\n",
      "python_abi                3.8                      2_cp38    conda-forge\n",
      "pyzmq                     23.2.0           py38hfc09fa9_0    conda-forge\n",
      "qt-main                   5.15.4               ha5833f6_2    conda-forge\n",
      "qtconsole                 5.3.1              pyhd8ed1ab_0    conda-forge\n",
      "qtconsole-base            5.3.1              pyha770c72_0    conda-forge\n",
      "qtpy                      2.1.0              pyhd8ed1ab_0    conda-forge\n",
      "readline                  8.1.2                h0f457ee_0    conda-forge\n",
      "send2trash                1.8.0              pyhd8ed1ab_0    conda-forge\n",
      "setuptools                62.6.0           py38h578d9bd_0    conda-forge\n",
      "sip                       6.5.1            py38h709712a_2    conda-forge\n",
      "six                       1.16.0             pyh6c4a22f_0    conda-forge\n",
      "soupsieve                 2.3.1              pyhd8ed1ab_0    conda-forge\n",
      "sqlite                    3.38.5               h4ff8645_0    conda-forge\n",
      "stack_data                0.3.0              pyhd8ed1ab_0    conda-forge\n",
      "terminado                 0.15.0           py38h578d9bd_0    conda-forge\n",
      "tinycss2                  1.1.1              pyhd8ed1ab_0    conda-forge\n",
      "tk                        8.6.12               h27826a3_0    conda-forge\n",
      "toml                      0.10.2             pyhd8ed1ab_0    conda-forge\n",
      "tornado                   6.1              py38h0a891b7_3    conda-forge\n",
      "traitlets                 5.3.0              pyhd8ed1ab_0    conda-forge\n",
      "tzdata                    2022a                h191b570_0    conda-forge\n",
      "wcwidth                   0.2.5              pyh9f0ad1d_2    conda-forge\n",
      "webencodings              0.5.1                      py_1    conda-forge\n",
      "wheel                     0.37.1             pyhd8ed1ab_0    conda-forge\n",
      "widgetsnbextension        3.6.1              pyha770c72_0    conda-forge\n",
      "xcb-util                  0.4.0                h166bdaf_0    conda-forge\n",
      "xcb-util-image            0.4.0                h166bdaf_0    conda-forge\n",
      "xcb-util-keysyms          0.4.0                h166bdaf_0    conda-forge\n",
      "xcb-util-renderutil       0.3.9                h166bdaf_0    conda-forge\n",
      "xcb-util-wm               0.4.1                h166bdaf_0    conda-forge\n",
      "xorg-libxau               1.0.9                h7f98852_0    conda-forge\n",
      "xorg-libxdmcp             1.1.3                h7f98852_0    conda-forge\n",
      "xz                        5.2.5                h516909a_1    conda-forge\n",
      "zeromq                    4.3.4                h9c3ff4c_1    conda-forge\n",
      "zipp                      3.8.0              pyhd8ed1ab_0    conda-forge\n",
      "zlib                      1.2.12               h166bdaf_1    conda-forge\n",
      "zstd                      1.5.2                h8a70e8d_1    conda-forge\n"
     ]
    },
    {
     "data": {
      "text/plain": [
       "Process(`\u001b[4mconda\u001b[24m \u001b[4mlist\u001b[24m \u001b[4m-n\u001b[24m \u001b[4mjupyter\u001b[24m`, ProcessExited(0))"
      ]
     },
     "execution_count": 4,
     "metadata": {},
     "output_type": "execute_result"
    }
   ],
   "source": [
    "run(`conda list -n jupyter`)"
   ]
  },
  {
   "cell_type": "code",
   "execution_count": 4,
   "id": "fecdc850",
   "metadata": {},
   "outputs": [],
   "source": [
    "using PyCall"
   ]
  },
  {
   "cell_type": "code",
   "execution_count": 11,
   "id": "bbed036c",
   "metadata": {},
   "outputs": [
    {
     "data": {
      "text/plain": [
       "(3, 8, 13, \"final\", 0)"
      ]
     },
     "execution_count": 11,
     "metadata": {},
     "output_type": "execute_result"
    }
   ],
   "source": [
    "py_sys = pyimport(\"sys\")\n",
    "py_sys.version_info"
   ]
  },
  {
   "cell_type": "markdown",
   "id": "8043075f",
   "metadata": {},
   "source": [
    "# Why using..."
   ]
  },
  {
   "cell_type": "markdown",
   "id": "919d482a",
   "metadata": {},
   "source": [
    "## Pythonを使う理由\n",
    "\n",
    "* `int` が多倍長なので桁溢れを気にせずプログラミングできる\n",
    "* `numpy` が使える"
   ]
  },
  {
   "cell_type": "code",
   "execution_count": 56,
   "id": "c17e02e2",
   "metadata": {},
   "outputs": [
    {
     "data": {
      "text/plain": [
       "PyObject <class 'int'>"
      ]
     },
     "execution_count": 56,
     "metadata": {},
     "output_type": "execute_result"
    }
   ],
   "source": [
    "py\"type\"(BigInt(2)^129)"
   ]
  },
  {
   "cell_type": "code",
   "execution_count": 53,
   "id": "a3ceeffa",
   "metadata": {},
   "outputs": [
    {
     "data": {
      "text/plain": [
       "\"340282366920938463463374607431768211455\""
      ]
     },
     "execution_count": 53,
     "metadata": {},
     "output_type": "execute_result"
    }
   ],
   "source": [
    "string(typemax(UInt128), base=10)"
   ]
  },
  {
   "cell_type": "code",
   "execution_count": 55,
   "id": "820b17aa",
   "metadata": {},
   "outputs": [
    {
     "data": {
      "text/plain": [
       "680564733841876926926749214863536422912"
      ]
     },
     "execution_count": 55,
     "metadata": {},
     "output_type": "execute_result"
    }
   ],
   "source": [
    "BigInt(2)^129"
   ]
  },
  {
   "cell_type": "markdown",
   "id": "c5f2963d",
   "metadata": {},
   "source": [
    "## Juliaを使う理由"
   ]
  },
  {
   "cell_type": "markdown",
   "id": "3438e5a7",
   "metadata": {},
   "source": [
    "* `numpy` を使わなくても早い\n",
    "* `numpy` も使える\n",
    "* `Cxx.jl` が使えた・・・また使えるようになる"
   ]
  },
  {
   "cell_type": "markdown",
   "id": "372f9174",
   "metadata": {},
   "source": [
    "* [Integers and Floating-Point Numbers · The Julia Language](https://docs.julialang.org/en/v1/manual/integers-and-floating-point-numbers/)"
   ]
  },
  {
   "cell_type": "code",
   "execution_count": 6,
   "id": "0c631d0e",
   "metadata": {},
   "outputs": [
    {
     "data": {
      "text/plain": [
       "(-2147483648, 2147483647)"
      ]
     },
     "execution_count": 6,
     "metadata": {},
     "output_type": "execute_result"
    }
   ],
   "source": [
    "typemin(Int32), typemax(Int32)"
   ]
  },
  {
   "cell_type": "code",
   "execution_count": 7,
   "id": "f44edd32",
   "metadata": {},
   "outputs": [
    {
     "data": {
      "text/plain": [
       "(-9223372036854775808, 9223372036854775807)"
      ]
     },
     "execution_count": 7,
     "metadata": {},
     "output_type": "execute_result"
    }
   ],
   "source": [
    "typemin(Int64), typemax(Int64)"
   ]
  },
  {
   "cell_type": "code",
   "execution_count": 8,
   "id": "61719485",
   "metadata": {},
   "outputs": [
    {
     "data": {
      "text/plain": [
       "(-170141183460469231731687303715884105728, 170141183460469231731687303715884105727)"
      ]
     },
     "execution_count": 8,
     "metadata": {},
     "output_type": "execute_result"
    }
   ],
   "source": [
    "typemin(Int128), typemax(Int128)"
   ]
  },
  {
   "cell_type": "markdown",
   "id": "87843f18",
   "metadata": {},
   "source": [
    "* [Iteration utilities · The Julia Language](https://docs.julialang.org/en/v1/base/iterators/)"
   ]
  },
  {
   "cell_type": "code",
   "execution_count": 12,
   "id": "b407b27d",
   "metadata": {},
   "outputs": [
    {
     "data": {
      "text/plain": [
       "Base.Generator{UnitRange{Int64}, typeof(identity)}(identity, 1:100)"
      ]
     },
     "execution_count": 12,
     "metadata": {},
     "output_type": "execute_result"
    }
   ],
   "source": [
    "itr = (i for i in 1:100)"
   ]
  },
  {
   "cell_type": "code",
   "execution_count": 14,
   "id": "0e284e0a",
   "metadata": {},
   "outputs": [
    {
     "data": {
      "text/plain": [
       "10-element Vector{Int64}:\n",
       "  1\n",
       "  2\n",
       "  3\n",
       "  4\n",
       "  5\n",
       "  6\n",
       "  7\n",
       "  8\n",
       "  9\n",
       " 10"
      ]
     },
     "execution_count": 14,
     "metadata": {},
     "output_type": "execute_result"
    }
   ],
   "source": [
    "collect(Iterators.take(itr,10))"
   ]
  },
  {
   "cell_type": "markdown",
   "id": "44f7906d",
   "metadata": {},
   "source": [
    "* \"Dot Syntax for Vectorizing Functions\"\n",
    "  - [Functions · The Julia Language](https://docs.julialang.org/en/v1/manual/functions/#man-vectorized-1)"
   ]
  },
  {
   "cell_type": "code",
   "execution_count": 17,
   "id": "b9ffa292",
   "metadata": {},
   "outputs": [],
   "source": [
    "#import Pkg; Pkg.add(\"LLVM\")\n",
    "using LLVM"
   ]
  },
  {
   "cell_type": "code",
   "execution_count": 18,
   "id": "2fb2a2d5",
   "metadata": {},
   "outputs": [],
   "source": [
    "InitializeAllTargets()"
   ]
  },
  {
   "cell_type": "code",
   "execution_count": 27,
   "id": "33dc7d8b",
   "metadata": {},
   "outputs": [
    {
     "data": {
      "text/plain": [
       "2-element Vector{String}:\n",
       " \"x86-64\"\n",
       " \"x86\""
      ]
     },
     "execution_count": 27,
     "metadata": {},
     "output_type": "execute_result"
    }
   ],
   "source": [
    "name.(collect(targets()))"
   ]
  },
  {
   "cell_type": "code",
   "execution_count": 24,
   "id": "fd5234bd",
   "metadata": {},
   "outputs": [
    {
     "data": {
      "text/plain": [
       "LLVM.TargetIterator()"
      ]
     },
     "execution_count": 24,
     "metadata": {},
     "output_type": "execute_result"
    }
   ],
   "source": [
    "targets()"
   ]
  },
  {
   "cell_type": "code",
   "execution_count": 20,
   "id": "a2d57c50",
   "metadata": {},
   "outputs": [
    {
     "data": {
      "text/plain": [
       "2-element Vector{Target}:\n",
       " LLVM.Target(x86-64): 64-bit X86: EM64T and AMD64\n",
       " LLVM.Target(x86): 32-bit X86: Pentium-Pro and above"
      ]
     },
     "execution_count": 20,
     "metadata": {},
     "output_type": "execute_result"
    }
   ],
   "source": [
    "collect(targets())"
   ]
  },
  {
   "cell_type": "code",
   "execution_count": 22,
   "id": "6759b588",
   "metadata": {},
   "outputs": [
    {
     "data": {
      "text/plain": [
       "typeof(name) (singleton type of function name, subtype of Function)"
      ]
     },
     "execution_count": 22,
     "metadata": {},
     "output_type": "execute_result"
    }
   ],
   "source": [
    "typeof(name)"
   ]
  },
  {
   "cell_type": "code",
   "execution_count": 23,
   "id": "4397011a",
   "metadata": {},
   "outputs": [
    {
     "data": {
      "text/plain": [
       "name (generic function with 10 methods)"
      ]
     },
     "execution_count": 23,
     "metadata": {},
     "output_type": "execute_result"
    }
   ],
   "source": [
    "name"
   ]
  },
  {
   "cell_type": "code",
   "execution_count": 25,
   "id": "87b138c3",
   "metadata": {},
   "outputs": [
    {
     "data": {
      "text/html": [
       "# 10 methods for generic function <b>name</b>:<ul><li> name(typ::<b>DIType</b>) in LLVM at <a href=\"file:///home/manabu/.julia-1.7.3/packages/LLVM/WjSQG/src/debuginfo.jl\" target=\"_blank\">/home/manabu/.julia-1.7.3/packages/LLVM/WjSQG/src/debuginfo.jl:127</a></li> <li> name(scope::<b>DIScope</b>) in LLVM at <a href=\"file:///home/manabu/.julia-1.7.3/packages/LLVM/WjSQG/src/debuginfo.jl\" target=\"_blank\">/home/manabu/.julia-1.7.3/packages/LLVM/WjSQG/src/debuginfo.jl:69</a></li> <li> name(structtyp::<b>LLVM.StructType</b>) in LLVM at <a href=\"file:///home/manabu/.julia-1.7.3/packages/LLVM/WjSQG/src/core/type.jl\" target=\"_blank\">/home/manabu/.julia-1.7.3/packages/LLVM/WjSQG/src/core/type.jl:199</a></li> <li> name(mod::<b>LLVM.Module</b>) in LLVM at <a href=\"file:///home/manabu/.julia-1.7.3/packages/LLVM/WjSQG/src/core/module.jl\" target=\"_blank\">/home/manabu/.julia-1.7.3/packages/LLVM/WjSQG/src/core/module.jl:47</a></li> <li> name(node::<b>NamedMDNode</b>) in LLVM at <a href=\"file:///home/manabu/.julia-1.7.3/packages/LLVM/WjSQG/src/core/module.jl\" target=\"_blank\">/home/manabu/.julia-1.7.3/packages/LLVM/WjSQG/src/core/module.jl:88</a></li> <li> name(bb::<b>BasicBlock</b>) in LLVM at <a href=\"file:///home/manabu/.julia-1.7.3/packages/LLVM/WjSQG/src/core/basicblock.jl\" target=\"_blank\">/home/manabu/.julia-1.7.3/packages/LLVM/WjSQG/src/core/basicblock.jl:31</a></li> <li> name(val::<b>Value</b>) in LLVM at <a href=\"file:///home/manabu/.julia-1.7.3/packages/LLVM/WjSQG/src/core/value.jl\" target=\"_blank\">/home/manabu/.julia-1.7.3/packages/LLVM/WjSQG/src/core/value.jl:50</a></li> <li> name(intr::<b>Intrinsic</b>) in LLVM at <a href=\"file:///home/manabu/.julia-1.7.3/packages/LLVM/WjSQG/src/core/function.jl\" target=\"_blank\">/home/manabu/.julia-1.7.3/packages/LLVM/WjSQG/src/core/function.jl:181</a></li> <li> name(intr::<b>Intrinsic</b>, params::<b>Vector{<:LLVMType}</b>) in LLVM at <a href=\"file:///home/manabu/.julia-1.7.3/packages/LLVM/WjSQG/src/core/function.jl\" target=\"_blank\">/home/manabu/.julia-1.7.3/packages/LLVM/WjSQG/src/core/function.jl:187</a></li> <li> name(t::<b>Target</b>) in LLVM at <a href=\"file:///home/manabu/.julia-1.7.3/packages/LLVM/WjSQG/src/target.jl\" target=\"_blank\">/home/manabu/.julia-1.7.3/packages/LLVM/WjSQG/src/target.jl:38</a></li> </ul>"
      ],
      "text/plain": [
       "# 10 methods for generic function \"name\":\n",
       "[1] name(typ::DIType) in LLVM at /home/manabu/.julia-1.7.3/packages/LLVM/WjSQG/src/debuginfo.jl:127\n",
       "[2] name(scope::DIScope) in LLVM at /home/manabu/.julia-1.7.3/packages/LLVM/WjSQG/src/debuginfo.jl:69\n",
       "[3] name(structtyp::LLVM.StructType) in LLVM at /home/manabu/.julia-1.7.3/packages/LLVM/WjSQG/src/core/type.jl:199\n",
       "[4] name(mod::LLVM.Module) in LLVM at /home/manabu/.julia-1.7.3/packages/LLVM/WjSQG/src/core/module.jl:47\n",
       "[5] name(node::NamedMDNode) in LLVM at /home/manabu/.julia-1.7.3/packages/LLVM/WjSQG/src/core/module.jl:88\n",
       "[6] name(bb::BasicBlock) in LLVM at /home/manabu/.julia-1.7.3/packages/LLVM/WjSQG/src/core/basicblock.jl:31\n",
       "[7] name(val::Value) in LLVM at /home/manabu/.julia-1.7.3/packages/LLVM/WjSQG/src/core/value.jl:50\n",
       "[8] name(intr::Intrinsic) in LLVM at /home/manabu/.julia-1.7.3/packages/LLVM/WjSQG/src/core/function.jl:181\n",
       "[9] name(intr::Intrinsic, params::Vector{<:LLVMType}) in LLVM at /home/manabu/.julia-1.7.3/packages/LLVM/WjSQG/src/core/function.jl:187\n",
       "[10] name(t::Target) in LLVM at /home/manabu/.julia-1.7.3/packages/LLVM/WjSQG/src/target.jl:38"
      ]
     },
     "execution_count": 25,
     "metadata": {},
     "output_type": "execute_result"
    }
   ],
   "source": [
    "methods(name)"
   ]
  },
  {
   "cell_type": "code",
   "execution_count": null,
   "id": "1c199988",
   "metadata": {},
   "outputs": [],
   "source": []
  },
  {
   "cell_type": "markdown",
   "id": "49ceb226",
   "metadata": {},
   "source": [
    "## SX-Auroraで使う理由"
   ]
  },
  {
   "cell_type": "markdown",
   "id": "a1be5a35",
   "metadata": {},
   "source": [
    "* オフローディングすると`numpy`やJuliaよりも圧倒的に (20倍くらい!?) 早い"
   ]
  },
  {
   "cell_type": "code",
   "execution_count": null,
   "id": "a4724c66",
   "metadata": {},
   "outputs": [],
   "source": []
  }
 ],
 "metadata": {
  "kernelspec": {
   "display_name": "Julia 1.7.3",
   "language": "julia",
   "name": "julia-1.7"
  },
  "language_info": {
   "file_extension": ".jl",
   "mimetype": "application/julia",
   "name": "julia",
   "version": "1.7.3"
  }
 },
 "nbformat": 4,
 "nbformat_minor": 5
}
