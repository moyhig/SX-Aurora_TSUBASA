{
 "cells": [
  {
   "cell_type": "markdown",
   "id": "0d730a3e",
   "metadata": {},
   "source": [
    "# STREAMBenchmark.jl\n",
    "\n",
    "* [JuliaPerf/STREAMBenchmark.jl: A version of the STREAM benchmark which measures the sustainable memory bandwidth.](https://github.com/JuliaPerf/STREAMBenchmark.jl)\n",
    "* [JuliaSIMD/LoopVectorization.jl: Macro(s) for vectorizing loops.](https://github.com/JuliaSIMD/LoopVectorization.jl)"
   ]
  },
  {
   "cell_type": "code",
   "execution_count": 1,
   "id": "4bb8ab93",
   "metadata": {},
   "outputs": [
    {
     "name": "stdout",
     "output_type": "stream",
     "text": [
      "Julia Version 1.7.3\n",
      "Commit 742b9abb4d (2022-05-06 12:58 UTC)\n",
      "Platform Info:\n",
      "  OS: Linux (x86_64-redhat-linux)\n",
      "  CPU: Intel(R) Xeon(R) Gold 6226 CPU @ 2.70GHz\n",
      "  WORD_SIZE: 64\n",
      "  LIBM: libopenlibm\n",
      "  LLVM: libLLVM-12.0.1 (ORCJIT, cascadelake)\n",
      "Environment:\n",
      "  JULIA_DEPOT_PATH = /home/manabu/.julia-1.7.3\n",
      "  JULIA_NUM_THREADS = 12\n"
     ]
    }
   ],
   "source": [
    "versioninfo()"
   ]
  },
  {
   "cell_type": "code",
   "execution_count": 2,
   "id": "77718cd8",
   "metadata": {
    "scrolled": true
   },
   "outputs": [
    {
     "data": {
      "text/plain": [
       "12"
      ]
     },
     "execution_count": 2,
     "metadata": {},
     "output_type": "execute_result"
    }
   ],
   "source": [
    "Threads.nthreads()"
   ]
  },
  {
   "cell_type": "code",
   "execution_count": 3,
   "id": "ec48d2b6",
   "metadata": {},
   "outputs": [],
   "source": [
    "#import Pkg; Pkg.add(\"ThreadPinning\")\n",
    "using ThreadPinning"
   ]
  },
  {
   "cell_type": "code",
   "execution_count": 29,
   "id": "fd9fceb5",
   "metadata": {},
   "outputs": [
    {
     "name": "stdout",
     "output_type": "stream",
     "text": [
      "\n",
      "\u001b[0m\u001b[1m| \u001b[22m\u001b[33m\u001b[1m0\u001b[22m\u001b[39m,\u001b[33m\u001b[1m1\u001b[22m\u001b[39m,\u001b[33m\u001b[1m2\u001b[22m\u001b[39m,\u001b[33m\u001b[1m3\u001b[22m\u001b[39m,\u001b[33m\u001b[1m4\u001b[22m\u001b[39m,\u001b[33m\u001b[1m5\u001b[22m\u001b[39m,\u001b[33m\u001b[1m6\u001b[22m\u001b[39m,\u001b[33m\u001b[1m7\u001b[22m\u001b[39m,\u001b[33m\u001b[1m8\u001b[22m\u001b[39m,\u001b[33m\u001b[1m9\u001b[22m\u001b[39m,\u001b[33m\u001b[1m10\u001b[22m\u001b[39m,\u001b[33m\u001b[1m11\u001b[22m\u001b[39m,\u001b[90m12\u001b[39m,\u001b[90m13\u001b[39m,\u001b[90m14\u001b[39m,\u001b[90m15\u001b[39m,\n",
      "  \u001b[90m16\u001b[39m,\u001b[90m17\u001b[39m,\u001b[90m18\u001b[39m,\u001b[90m19\u001b[39m,\u001b[90m20\u001b[39m,\u001b[90m21\u001b[39m,\u001b[90m22\u001b[39m,\u001b[90m23\u001b[39m\u001b[0m\u001b[1m | \u001b[22m\n",
      "\n",
      "\u001b[33m\u001b[1m#\u001b[22m\u001b[39m = Julia thread, \u001b[90m#\u001b[39m = HT, \u001b[95m\u001b[1m#\u001b[22m\u001b[39m = Julia thread on HT, \u001b[0m\u001b[1m|\u001b[22m = Socket seperator\n",
      "\n",
      "Julia threads: \u001b[32m12\u001b[39m\n",
      "├ Occupied CPU-threads: \u001b[32m12\u001b[39m\n",
      "└ Mapping (Thread => CPUID): 1 => 0, 2 => 1, 3 => 2, 4 => 3, 5 => 4, ...\n",
      "\n"
     ]
    }
   ],
   "source": [
    "threadinfo()"
   ]
  },
  {
   "cell_type": "code",
   "execution_count": 28,
   "id": "17a3c530",
   "metadata": {},
   "outputs": [],
   "source": [
    "pinthreads(:compact)"
   ]
  },
  {
   "cell_type": "code",
   "execution_count": 5,
   "id": "41806513",
   "metadata": {},
   "outputs": [],
   "source": [
    "#import Pkg; Pkg.add(\"STREAMBenchmark\")\n",
    "using STREAMBenchmark"
   ]
  },
  {
   "cell_type": "code",
   "execution_count": 7,
   "id": "af8ee4e6",
   "metadata": {},
   "outputs": [
    {
     "data": {
      "text/plain": [
       "19.25"
      ]
     },
     "execution_count": 7,
     "metadata": {},
     "output_type": "execute_result"
    }
   ],
   "source": [
    "STREAMBenchmark.last_cachesize() / 1024 /1024"
   ]
  },
  {
   "cell_type": "code",
   "execution_count": 8,
   "id": "65018f4f",
   "metadata": {},
   "outputs": [
    {
     "data": {
      "text/plain": [
       "9.625"
      ]
     },
     "execution_count": 8,
     "metadata": {},
     "output_type": "execute_result"
    }
   ],
   "source": [
    "STREAMBenchmark.default_vector_length() / 1024 / 1024"
   ]
  },
  {
   "cell_type": "code",
   "execution_count": 9,
   "id": "b60288fd",
   "metadata": {},
   "outputs": [
    {
     "data": {
      "text/plain": [
       "9.625"
      ]
     },
     "execution_count": 9,
     "metadata": {},
     "output_type": "execute_result"
    }
   ],
   "source": [
    "STREAMBenchmark.default_vector_length() / 1024 / 1024"
   ]
  },
  {
   "cell_type": "code",
   "execution_count": 8,
   "id": "f0779668",
   "metadata": {},
   "outputs": [
    {
     "name": "stdout",
     "output_type": "stream",
     "text": [
      "╔══╡ Multi-threaded:\n",
      "╠══╡ (12 threads)\n",
      "╟─ COPY:  119028.2 MB/s\n",
      "╟─ SCALE: 117682.5 MB/s\n",
      "╟─ ADD:   106470.1 MB/s\n",
      "╟─ TRIAD: 114864.0 MB/s\n",
      "╟─────────────────────\n",
      "║ Median: 116273.2 MB/s\n",
      "╚═════════════════════\n"
     ]
    },
    {
     "data": {
      "text/plain": [
       "(median = 116273.2, minimum = 106470.1, maximum = 119028.2)"
      ]
     },
     "execution_count": 8,
     "metadata": {},
     "output_type": "execute_result"
    }
   ],
   "source": [
    "memory_bandwidth(verbose=true)"
   ]
  },
  {
   "cell_type": "code",
   "execution_count": 6,
   "id": "45b39a53",
   "metadata": {},
   "outputs": [
    {
     "name": "stdout",
     "output_type": "stream",
     "text": [
      "╔══╡ Single-threaded:\n",
      "╟─ COPY:  22871.2 MB/s\n",
      "╟─ SCALE: 23005.5 MB/s\n",
      "╟─ ADD:   20066.4 MB/s\n",
      "╟─ TRIAD: 19901.2 MB/s\n",
      "╟─────────────────────\n",
      "║ Median: 21468.8 MB/s\n",
      "╚═════════════════════\n",
      "\n",
      "╔══╡ Multi-threaded:\n",
      "╠══╡ (12 threads)\n",
      "╟─ COPY:  89700.4 MB/s\n",
      "╟─ SCALE: 116668.5 MB/s\n",
      "╟─ ADD:   114404.0 MB/s\n",
      "╟─ TRIAD: 113976.9 MB/s\n",
      "╟─────────────────────\n",
      "║ Median: 114190.4 MB/s\n",
      "╚═════════════════════\n",
      "\n"
     ]
    },
    {
     "data": {
      "text/plain": [
       "(single = (median = 21468.8, minimum = 19901.2, maximum = 23005.5), multi = (median = 114190.4, minimum = 89700.4, maximum = 116668.5))"
      ]
     },
     "execution_count": 6,
     "metadata": {},
     "output_type": "execute_result"
    }
   ],
   "source": [
    "benchmark()"
   ]
  },
  {
   "cell_type": "code",
   "execution_count": 12,
   "id": "5935cb39",
   "metadata": {},
   "outputs": [
    {
     "name": "stdout",
     "output_type": "stream",
     "text": [
      "1: 2523136 => 155508.2\n",
      "2: 5046272 => 122824.1\n",
      "3: 7569408 => 118074.6\n",
      "4: 10092544 => 115707.4\n"
     ]
    },
    {
     "data": {
      "text/plain": [
       "Dict{Int64, Float64} with 4 entries:\n",
       "  7569408  => 1.18075e5\n",
       "  2523136  => 1.55508e5\n",
       "  5046272  => 1.22824e5\n",
       "  10092544 => 1.15707e5"
      ]
     },
     "execution_count": 12,
     "metadata": {},
     "output_type": "execute_result"
    }
   ],
   "source": [
    "STREAMBenchmark.vector_length_dependence()"
   ]
  },
  {
   "cell_type": "code",
   "execution_count": 13,
   "id": "c6d25a46",
   "metadata": {},
   "outputs": [
    {
     "name": "stdout",
     "output_type": "stream",
     "text": [
      "# Threads: 1\tMax. memory bandwidth: 22707.2\n",
      "# Threads: 2\tMax. memory bandwidth: 43882.3\n",
      "# Threads: 3\tMax. memory bandwidth: 63514.0\n",
      "# Threads: 4\tMax. memory bandwidth: 79941.0\n",
      "# Threads: 5\tMax. memory bandwidth: 94599.4\n",
      "# Threads: 6\tMax. memory bandwidth: 102420.3\n",
      "# Threads: 7\tMax. memory bandwidth: 107036.7\n",
      "# Threads: 8\tMax. memory bandwidth: 111792.3\n",
      "# Threads: 9\tMax. memory bandwidth: 114532.9\n",
      "# Threads: 10\tMax. memory bandwidth: 116031.9\n",
      "# Threads: 11\tMax. memory bandwidth: 118681.9\n",
      "# Threads: 12\tMax. memory bandwidth: 119601.9\n"
     ]
    },
    {
     "data": {
      "text/plain": [
       "12-element Vector{Float64}:\n",
       "  22707.2\n",
       "  43882.3\n",
       "  63514.0\n",
       "  79941.0\n",
       "  94599.4\n",
       " 102420.3\n",
       " 107036.7\n",
       " 111792.3\n",
       " 114532.9\n",
       " 116031.9\n",
       " 118681.9\n",
       " 119601.9"
      ]
     },
     "execution_count": 13,
     "metadata": {},
     "output_type": "execute_result"
    }
   ],
   "source": [
    "y = scaling_benchmark()"
   ]
  },
  {
   "cell_type": "code",
   "execution_count": 22,
   "id": "7c78eb35",
   "metadata": {
    "scrolled": true
   },
   "outputs": [],
   "source": [
    "#import Pkg; Pkg.add(\"UnicodePlots\")\n",
    "using UnicodePlots"
   ]
  },
  {
   "cell_type": "code",
   "execution_count": 25,
   "id": "ba9a5d1d",
   "metadata": {},
   "outputs": [
    {
     "data": {
      "text/plain": [
       "                            \u001b[97;1mBandwidth Scaling\u001b[0m             \n",
       "               \u001b[38;5;8m+----------------------------------------+\u001b[0m \n",
       "        \u001b[38;5;8m120000\u001b[0m \u001b[38;5;8m|\u001b[0m                 \u001b[38;5;2m_\u001b[0m\u001b[38;5;2m_\u001b[0m\u001b[38;5;2m-\u001b[0m\u001b[38;5;2m-\u001b[0m\u001b[38;5;2m-\u001b[0m\u001b[38;5;2m-\u001b[0m\u001b[38;5;2m-\u001b[0m\u001b[38;5;2m,\u001b[0m               \u001b[38;5;8m|\u001b[0m \u001b[38;5;8m\u001b[0m\n",
       "              \u001b[38;5;8m\u001b[0m \u001b[38;5;8m|\u001b[0m             \u001b[38;5;2m.\u001b[0m\u001b[38;5;2mr\u001b[0m\u001b[38;5;2m/\u001b[0m\u001b[38;5;2m\"\u001b[0m                       \u001b[38;5;8m|\u001b[0m \u001b[38;5;8m\u001b[0m\n",
       "              \u001b[38;5;8m\u001b[0m \u001b[38;5;8m|\u001b[0m            \u001b[38;5;2m.\u001b[0m\u001b[38;5;2m'\u001b[0m                          \u001b[38;5;8m|\u001b[0m \u001b[38;5;8m\u001b[0m\n",
       "              \u001b[38;5;8m\u001b[0m \u001b[38;5;8m|\u001b[0m         \u001b[38;5;2m.\u001b[0m\u001b[38;5;2mr\u001b[0m\u001b[38;5;2m\"\u001b[0m                            \u001b[38;5;8m|\u001b[0m \u001b[38;5;8m\u001b[0m\n",
       "              \u001b[38;5;8m\u001b[0m \u001b[38;5;8m|\u001b[0m        \u001b[38;5;2m.\u001b[0m\u001b[38;5;2m/\u001b[0m                              \u001b[38;5;8m|\u001b[0m \u001b[38;5;8m\u001b[0m\n",
       "              \u001b[38;5;8m\u001b[0m \u001b[38;5;8m|\u001b[0m        \u001b[38;5;2m,\u001b[0m                               \u001b[38;5;8m|\u001b[0m \u001b[38;5;8m\u001b[0m\n",
       "              \u001b[38;5;8m\u001b[0m \u001b[38;5;8m|\u001b[0m       \u001b[38;5;2m/\u001b[0m                                \u001b[38;5;8m|\u001b[0m \u001b[38;5;8m\u001b[0m\n",
       "   MB/s       \u001b[38;5;8m\u001b[0m \u001b[38;5;8m|\u001b[0m      \u001b[38;5;2m.\u001b[0m\u001b[38;5;2m`\u001b[0m                                \u001b[38;5;8m|\u001b[0m \u001b[38;5;8m\u001b[0m\n",
       "              \u001b[38;5;8m\u001b[0m \u001b[38;5;8m|\u001b[0m     \u001b[38;5;2m.\u001b[0m\u001b[38;5;2m`\u001b[0m                                 \u001b[38;5;8m|\u001b[0m \u001b[38;5;8m\u001b[0m\n",
       "              \u001b[38;5;8m\u001b[0m \u001b[38;5;8m|\u001b[0m     \u001b[38;5;2m.\u001b[0m                                  \u001b[38;5;8m|\u001b[0m \u001b[38;5;8m\u001b[0m\n",
       "              \u001b[38;5;8m\u001b[0m \u001b[38;5;8m|\u001b[0m    \u001b[38;5;2m.\u001b[0m                                   \u001b[38;5;8m|\u001b[0m \u001b[38;5;8m\u001b[0m\n",
       "              \u001b[38;5;8m\u001b[0m \u001b[38;5;8m|\u001b[0m   \u001b[38;5;2m,\u001b[0m\u001b[38;5;2m`\u001b[0m                                   \u001b[38;5;8m|\u001b[0m \u001b[38;5;8m\u001b[0m\n",
       "              \u001b[38;5;8m\u001b[0m \u001b[38;5;8m|\u001b[0m   \u001b[38;5;2m,\u001b[0m                                    \u001b[38;5;8m|\u001b[0m \u001b[38;5;8m\u001b[0m\n",
       "              \u001b[38;5;8m\u001b[0m \u001b[38;5;8m|\u001b[0m  \u001b[38;5;2m/\u001b[0m                                     \u001b[38;5;8m|\u001b[0m \u001b[38;5;8m\u001b[0m\n",
       "         \u001b[38;5;8m20000\u001b[0m \u001b[38;5;8m|\u001b[0m  \u001b[38;5;2m`\u001b[0m                                     \u001b[38;5;8m|\u001b[0m \u001b[38;5;8m\u001b[0m\n",
       "               \u001b[38;5;8m+----------------------------------------+\u001b[0m \n",
       "                \u001b[38;5;8m0\u001b[0m                  \u001b[38;5;8m\u001b[0m                   \u001b[38;5;8m20\u001b[0m  \n",
       "                                 # cores                  "
      ]
     },
     "execution_count": 25,
     "metadata": {},
     "output_type": "execute_result"
    }
   ],
   "source": [
    "lineplot(1:length(y), y, title = \"Bandwidth Scaling\", xlabel = \"# cores\", ylabel = \"MB/s\", border = :ascii, canvas = AsciiCanvas)"
   ]
  },
  {
   "cell_type": "code",
   "execution_count": 12,
   "id": "13686b4c",
   "metadata": {},
   "outputs": [
    {
     "name": "stdout",
     "output_type": "stream",
     "text": [
      "- Creating folder \"stream\"\n",
      "- Downloading C STREAM benchmark\n",
      "- Done.\n"
     ]
    }
   ],
   "source": [
    "STREAMBenchmark.download_original_STREAM()"
   ]
  },
  {
   "cell_type": "code",
   "execution_count": 41,
   "id": "3cafa2b8",
   "metadata": {},
   "outputs": [
    {
     "name": "stdout",
     "output_type": "stream",
     "text": [
      "- Trying to compile \"stream.c\" using gcc -march=skylake-avx512\n"
     ]
    },
    {
     "ename": "LoadError",
     "evalue": "Unknown compiler option: gcc -march=skylake-avx512.",
     "output_type": "error",
     "traceback": [
      "Unknown compiler option: gcc -march=skylake-avx512.",
      "",
      "Stacktrace:",
      " [1] error(s::String)",
      "   @ Base ./error.jl:33",
      " [2] compile_original_STREAM(; compiler::String, multithreading::Bool)",
      "   @ STREAMBenchmark ~/.julia-1.7.3/packages/STREAMBenchmark/Jew1E/src/original.jl:42",
      " [3] top-level scope",
      "   @ In[41]:1",
      " [4] eval",
      "   @ ./boot.jl:373 [inlined]",
      " [5] include_string(mapexpr::typeof(REPL.softscope), mod::Module, code::String, filename::String)",
      "   @ Base ./loading.jl:1196"
     ]
    }
   ],
   "source": [
    "STREAMBenchmark.compile_original_STREAM(compiler=\"gcc\", multithreading=true)"
   ]
  },
  {
   "cell_type": "code",
   "execution_count": 31,
   "id": "d1d1cb85",
   "metadata": {},
   "outputs": [
    {
     "data": {
      "text/plain": [
       "77.0"
      ]
     },
     "execution_count": 31,
     "metadata": {},
     "output_type": "execute_result"
    }
   ],
   "source": [
    "8*10092544/1024/1024"
   ]
  },
  {
   "cell_type": "code",
   "execution_count": 13,
   "id": "e830c61a",
   "metadata": {},
   "outputs": [
    {
     "name": "stdout",
     "output_type": "stream",
     "text": [
      "-------------------------------------------------------------\n",
      "STREAM version $Revision: 5.10 $\n",
      "-------------------------------------------------------------\n",
      "This system uses 8 bytes per array element.\n",
      "-------------------------------------------------------------\n",
      "Array size = 10092544 (elements), Offset = 0 (elements)\n",
      "Memory per array = 77.0 MiB (= 0.1 GiB).\n",
      "Total memory required = 231.0 MiB (= 0.2 GiB).\n",
      "Each kernel will be executed 10 times.\n",
      " The *best* time for each kernel (excluding the first iteration)\n",
      " will be used to compute the reported bandwidth.\n",
      "-------------------------------------------------------------\n",
      "Number of Threads requested = 12\n",
      "Number of Threads counted = 12\n",
      "-------------------------------------------------------------\n",
      "Your clock granularity/precision appears to be 1 microseconds.\n",
      "Each test below will take on the order of 1521 microseconds.\n",
      "   (= 1521 clock ticks)\n",
      "Increase the size of the arrays if this shows that\n",
      "you are not getting at least 20 clock ticks per test.\n",
      "-------------------------------------------------------------\n",
      "WARNING -- The above is only a rough guideline.\n",
      "For best results, please be sure you know the\n",
      "precision of your system timer.\n",
      "-------------------------------------------------------------\n",
      "Function    Best Rate MB/s  Avg time     Min time     Max time\n",
      "Copy:          104586.0     0.001561     0.001544     0.001585\n",
      "Scale:          77743.2     0.002091     0.002077     0.002111\n",
      "Add:            85683.5     0.002836     0.002827     0.002846\n",
      "Triad:          86692.4     0.002801     0.002794     0.002811\n",
      "-------------------------------------------------------------\n",
      "Solution Validates: avg error less than 1.000000e-13 on all three arrays\n",
      "-------------------------------------------------------------\n"
     ]
    }
   ],
   "source": [
    "STREAMBenchmark.execute_original_STREAM()"
   ]
  },
  {
   "cell_type": "code",
   "execution_count": 12,
   "id": "497e23a1",
   "metadata": {},
   "outputs": [
    {
     "data": {
      "text/plain": [
       "\"12\""
      ]
     },
     "execution_count": 12,
     "metadata": {},
     "output_type": "execute_result"
    }
   ],
   "source": [
    "ENV[\"OMP_NUM_THREADS\"]=\"12\""
   ]
  },
  {
   "cell_type": "code",
   "execution_count": 14,
   "id": "cdb84fa0",
   "metadata": {},
   "outputs": [
    {
     "name": "stdout",
     "output_type": "stream",
     "text": [
      "-------------------------------------------------------------\n",
      "STREAM version $Revision: 5.10 $\n",
      "-------------------------------------------------------------\n",
      "This system uses 8 bytes per array element.\n",
      "-------------------------------------------------------------\n",
      "Array size = 10092544 (elements), Offset = 0 (elements)\n",
      "Memory per array = 77.0 MiB (= 0.1 GiB).\n",
      "Total memory required = 231.0 MiB (= 0.2 GiB).\n",
      "Each kernel will be executed 10 times.\n",
      " The *best* time for each kernel (excluding the first iteration)\n",
      " will be used to compute the reported bandwidth.\n",
      "-------------------------------------------------------------\n",
      "Number of Threads requested = 12\n",
      "Number of Threads counted = 12\n",
      "-------------------------------------------------------------\n",
      "Your clock granularity/precision appears to be 1 microseconds.\n",
      "Each test below will take on the order of 1552 microseconds.\n",
      "   (= 1552 clock ticks)\n",
      "Increase the size of the arrays if this shows that\n",
      "you are not getting at least 20 clock ticks per test.\n",
      "-------------------------------------------------------------\n",
      "WARNING -- The above is only a rough guideline.\n",
      "For best results, please be sure you know the\n",
      "precision of your system timer.\n",
      "-------------------------------------------------------------\n",
      "Function    Best Rate MB/s  Avg time     Min time     Max time\n",
      "Copy:          104715.4     0.001561     0.001542     0.001578\n",
      "Scale:          76349.8     0.002132     0.002115     0.002146\n",
      "Add:            85080.7     0.002854     0.002847     0.002866\n",
      "Triad:          86914.9     0.002824     0.002787     0.002866\n",
      "-------------------------------------------------------------\n",
      "Solution Validates: avg error less than 1.000000e-13 on all three arrays\n",
      "-------------------------------------------------------------\n"
     ]
    },
    {
     "data": {
      "text/plain": [
       "Process(`\u001b[4mstream/a.out\u001b[24m`, ProcessExited(0))"
      ]
     },
     "execution_count": 14,
     "metadata": {},
     "output_type": "execute_result"
    }
   ],
   "source": [
    "run(`stream/a.out`)"
   ]
  },
  {
   "cell_type": "code",
   "execution_count": 25,
   "id": "febfabb1",
   "metadata": {},
   "outputs": [
    {
     "data": {
      "text/plain": [
       "`\u001b[4mstream/a.out\u001b[24m`"
      ]
     },
     "execution_count": 25,
     "metadata": {},
     "output_type": "execute_result"
    }
   ],
   "source": [
    "cmd = "
   ]
  },
  {
   "cell_type": "code",
   "execution_count": 9,
   "id": "952b1b51",
   "metadata": {},
   "outputs": [
    {
     "name": "stdout",
     "output_type": "stream",
     "text": [
      "-------------------------------------------------------------\n",
      "STREAM version $Revision: 5.10 $\n",
      "-------------------------------------------------------------\n",
      "This system uses 8 bytes per array element.\n",
      "-------------------------------------------------------------\n",
      "Array size = 10092544 (elements), Offset = 0 (elements)\n",
      "Memory per array = 77.0 MiB (= 0.1 GiB).\n",
      "Total memory required = 231.0 MiB (= 0.2 GiB).\n",
      "Each kernel will be executed 10 times.\n",
      " The *best* time for each kernel (excluding the first iteration)\n",
      " will be used to compute the reported bandwidth.\n",
      "-------------------------------------------------------------\n",
      "Number of Threads requested = 24\n",
      "Number of Threads counted = 24\n",
      "-------------------------------------------------------------\n",
      "Your clock granularity/precision appears to be 1 microseconds.\n",
      "Each test below will take on the order of 1551 microseconds.\n",
      "   (= 1551 clock ticks)\n",
      "Increase the size of the arrays if this shows that\n",
      "you are not getting at least 20 clock ticks per test.\n",
      "-------------------------------------------------------------\n",
      "WARNING -- The above is only a rough guideline.\n",
      "For best results, please be sure you know the\n",
      "precision of your system timer.\n",
      "-------------------------------------------------------------\n",
      "Function    Best Rate MB/s  Avg time     Min time     Max time\n",
      "Copy:           97159.5     0.001683     0.001662     0.001717\n",
      "Scale:          78237.2     0.002099     0.002064     0.002213\n",
      "Add:            85052.2     0.002887     0.002848     0.002959\n",
      "Triad:          84903.0     0.002877     0.002853     0.002924\n",
      "-------------------------------------------------------------\n",
      "Solution Validates: avg error less than 1.000000e-13 on all three arrays\n",
      "-------------------------------------------------------------\n"
     ]
    },
    {
     "data": {
      "text/plain": [
       "Process(`\u001b[4mstream/a.out\u001b[24m`, ProcessExited(0))"
      ]
     },
     "execution_count": 9,
     "metadata": {},
     "output_type": "execute_result"
    }
   ],
   "source": [
    "run(`stream/a.out`)"
   ]
  },
  {
   "cell_type": "code",
   "execution_count": null,
   "id": "956e0bbc",
   "metadata": {},
   "outputs": [],
   "source": []
  },
  {
   "cell_type": "markdown",
   "id": "bb790f6c",
   "metadata": {},
   "source": [
    "* [CPU/SIMD Optimizations — NumPy v1.24.dev0 Manual](https://numpy.org/devdocs/reference/simd/index.html)\n",
    "* [NEP 38 — Using SIMD optimization instructions for performance — NumPy Enhancement Proposals](https://numpy.org/neps/nep-0038-SIMD-optimizations.html)"
   ]
  },
  {
   "cell_type": "markdown",
   "id": "c3f1ebab",
   "metadata": {},
   "source": [
    "* [Multi-Threading · The Julia Language](https://docs.julialang.org/en/v1/manual/multi-threading/)\n",
    "* [Home · LoopVectorization.jl](https://docs.juliahub.com/LoopVectorization/4TogI/0.12.12/)\n",
    "  - [Multithreading · LoopVectorization.jl](https://docs.juliahub.com/LoopVectorization/4TogI/0.12.12/examples/multithreading/)\n",
    "* [ThreadPinning · ThreadPinning.jl](https://carstenbauer.github.io/ThreadPinning.jl/dev/)"
   ]
  },
  {
   "cell_type": "code",
   "execution_count": 18,
   "id": "7e963d7e",
   "metadata": {},
   "outputs": [],
   "source": [
    "using PyCall"
   ]
  },
  {
   "cell_type": "code",
   "execution_count": 19,
   "id": "89d4f092",
   "metadata": {},
   "outputs": [],
   "source": [
    "np = pyimport(\"numpy\");"
   ]
  },
  {
   "cell_type": "code",
   "execution_count": 20,
   "id": "9af62d20",
   "metadata": {},
   "outputs": [
    {
     "data": {
      "text/plain": [
       "131072"
      ]
     },
     "execution_count": 20,
     "metadata": {},
     "output_type": "execute_result"
    }
   ],
   "source": [
    "const N = 2^17"
   ]
  },
  {
   "cell_type": "code",
   "execution_count": 103,
   "id": "48e8ac82",
   "metadata": {},
   "outputs": [
    {
     "name": "stdout",
     "output_type": "stream",
     "text": [
      "  0.009057 seconds (2 allocations: 77.000 MiB)\n",
      "  0.008506 seconds (2 allocations: 77.000 MiB)\n"
     ]
    }
   ],
   "source": [
    "@time x0 = rand(Float64, (77*N,));\n",
    "@time y0 = rand(Float64, (77*N,));"
   ]
  },
  {
   "cell_type": "code",
   "execution_count": 42,
   "id": "1a40244c",
   "metadata": {},
   "outputs": [],
   "source": [
    "using LoopVectorization"
   ]
  },
  {
   "cell_type": "code",
   "execution_count": 105,
   "id": "8bb10d3f",
   "metadata": {},
   "outputs": [
    {
     "name": "stdout",
     "output_type": "stream",
     "text": [
      "  0.020797 seconds (330 allocations: 7.656 KiB)\n"
     ]
    }
   ],
   "source": [
    "@time for j in 1:10\n",
    "    @avxt for i in eachindex(x0)\n",
    "        @inbounds y0[i] = x0[i]\n",
    "    end\n",
    "end"
   ]
  },
  {
   "cell_type": "code",
   "execution_count": 106,
   "id": "5f5b79f2",
   "metadata": {},
   "outputs": [
    {
     "data": {
      "text/plain": [
       "77.0"
      ]
     },
     "execution_count": 106,
     "metadata": {},
     "output_type": "execute_result"
    }
   ],
   "source": [
    "sizeof(x0)/1024/1024"
   ]
  },
  {
   "cell_type": "code",
   "execution_count": 111,
   "id": "673ffd2c",
   "metadata": {},
   "outputs": [
    {
     "data": {
      "text/plain": [
       "72.31361494446315"
      ]
     },
     "execution_count": 111,
     "metadata": {},
     "output_type": "execute_result"
    }
   ],
   "source": [
    "2*77/(0.020797/10)/1024"
   ]
  },
  {
   "cell_type": "code",
   "execution_count": null,
   "id": "e62c1ce3",
   "metadata": {},
   "outputs": [],
   "source": []
  },
  {
   "cell_type": "code",
   "execution_count": 41,
   "id": "6aaa1050",
   "metadata": {},
   "outputs": [],
   "source": [
    "using Base.Threads: nthreads, @threads"
   ]
  },
  {
   "cell_type": "code",
   "execution_count": 59,
   "id": "5daec841",
   "metadata": {},
   "outputs": [
    {
     "data": {
      "text/plain": [
       "@threaded (macro with 1 method)"
      ]
     },
     "execution_count": 59,
     "metadata": {},
     "output_type": "execute_result"
    }
   ],
   "source": [
    "avxt() = true\n",
    "macro threaded(code)\n",
    "    return esc(:(if $(@__MODULE__).avxt()\n",
    "                     @avxt($code)\n",
    "                 else\n",
    "                     @threads(:static, $code)\n",
    "                 end))\n",
    "end"
   ]
  }
 ],
 "metadata": {
  "kernelspec": {
   "display_name": "Julia 1.7.3",
   "language": "julia",
   "name": "julia-1.7"
  },
  "language_info": {
   "file_extension": ".jl",
   "mimetype": "application/julia",
   "name": "julia",
   "version": "1.7.3"
  }
 },
 "nbformat": 4,
 "nbformat_minor": 5
}
