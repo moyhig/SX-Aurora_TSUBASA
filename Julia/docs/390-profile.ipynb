{
 "cells": [
  {
   "cell_type": "markdown",
   "id": "823d9224",
   "metadata": {},
   "source": [
    "# Profiling"
   ]
  },
  {
   "cell_type": "code",
   "execution_count": 1,
   "id": "fdff2067",
   "metadata": {},
   "outputs": [
    {
     "name": "stdout",
     "output_type": "stream",
     "text": [
      "Julia Version 1.7.3\n",
      "Commit 742b9abb4d (2022-05-06 12:58 UTC)\n",
      "Platform Info:\n",
      "  OS: Linux (x86_64-redhat-linux)\n",
      "  CPU: Intel(R) Xeon(R) Gold 6226 CPU @ 2.70GHz\n",
      "  WORD_SIZE: 64\n",
      "  LIBM: libopenlibm\n",
      "  LLVM: libLLVM-12.0.1 (ORCJIT, cascadelake)\n",
      "Environment:\n",
      "  JULIA_DEPOT_PATH = /home/manabu/.julia-1.7.3\n"
     ]
    }
   ],
   "source": [
    "versioninfo()"
   ]
  },
  {
   "cell_type": "markdown",
   "id": "2ea3c475",
   "metadata": {},
   "source": [
    "---"
   ]
  },
  {
   "cell_type": "code",
   "execution_count": 2,
   "id": "47047209",
   "metadata": {},
   "outputs": [],
   "source": [
    "using PyCall"
   ]
  },
  {
   "cell_type": "code",
   "execution_count": 3,
   "id": "7b0cf5f1-eaed-47d1-aec8-02a31332dd91",
   "metadata": {},
   "outputs": [
    {
     "data": {
      "text/plain": [
       "\"1\""
      ]
     },
     "execution_count": 3,
     "metadata": {},
     "output_type": "execute_result"
    }
   ],
   "source": [
    "ENV[\"VE_NODE_NUMBER\"] = \"1\""
   ]
  },
  {
   "cell_type": "code",
   "execution_count": 5,
   "id": "bd9db6d7",
   "metadata": {},
   "outputs": [],
   "source": [
    "np = pyimport(\"numpy\");\n",
    "vp = pyimport(\"nlcpy\");"
   ]
  },
  {
   "cell_type": "markdown",
   "id": "032776e9-66f0-4d51-99b5-2bbdfdf52679",
   "metadata": {},
   "source": [
    "---"
   ]
  },
  {
   "cell_type": "code",
   "execution_count": null,
   "id": "1f7b02bb",
   "metadata": {},
   "outputs": [],
   "source": []
  },
  {
   "cell_type": "code",
   "execution_count": 7,
   "id": "a75fe340-ea30-4f13-b744-a6234436e0f2",
   "metadata": {},
   "outputs": [
    {
     "data": {
      "text/plain": [
       "(1.0, 1024.0)"
      ]
     },
     "execution_count": 7,
     "metadata": {},
     "output_type": "execute_result"
    }
   ],
   "source": [
    "@. 8*(2^17, 2^27)/1024/1024"
   ]
  },
  {
   "cell_type": "code",
   "execution_count": 117,
   "id": "bae273c6-0a8c-428f-a261-3ab28078c9a4",
   "metadata": {},
   "outputs": [
    {
     "name": "stdout",
     "output_type": "stream",
     "text": [
      "  0.106476 seconds (2 allocations: 1.000 GiB)\n"
     ]
    }
   ],
   "source": [
    "# native\n",
    "@time x0 = rand(Float64, (2^17,2^10));"
   ]
  },
  {
   "cell_type": "markdown",
   "id": "e621ce26-6036-4e13-8815-eae67fee4fef",
   "metadata": {},
   "source": [
    "* [JuliaPy/PyCall.jl: Package to call Python functions from the Julia language](https://github.com/JuliaPy/PyCall.jl)\n",
    "  - \"By default, they are passed from Julia to Python without making a copy, but from Python to Julia a copy is made; no-copy conversion of Python to Julia arrays can be achieved with the `PyArray` type below.\""
   ]
  },
  {
   "cell_type": "code",
   "execution_count": 133,
   "id": "cb34a8ef-7aa7-4556-914c-6f37645bed2c",
   "metadata": {},
   "outputs": [
    {
     "name": "stdout",
     "output_type": "stream",
     "text": [
      "  2.957480 seconds (59 allocations: 1.000 GiB, 0.15% gc time)\n"
     ]
    }
   ],
   "source": [
    "# numpy -> native\n",
    "@time x1 = np.random.random_sample((2^17,2^10));"
   ]
  },
  {
   "cell_type": "code",
   "execution_count": 129,
   "id": "60e3667a-4c0f-4392-948b-e8ae20d0b3f4",
   "metadata": {},
   "outputs": [
    {
     "name": "stdout",
     "output_type": "stream",
     "text": [
      "  0.885265 seconds (26 allocations: 1.078 KiB)\n"
     ]
    }
   ],
   "source": [
    "# PyArray (numpy)\n",
    "@time x2 = @pycall np.random.random_sample((2^17,2^10))::PyArray;"
   ]
  },
  {
   "cell_type": "markdown",
   "id": "733170d2-c053-4da0-a603-0ccdc90fcbd7",
   "metadata": {},
   "source": [
    "* [Profiling · The Julia Language](https://docs.julialang.org/en/v1/manual/profile/)"
   ]
  },
  {
   "cell_type": "code",
   "execution_count": 123,
   "id": "8517b4ae-63c7-483a-8fae-de41391db41c",
   "metadata": {},
   "outputs": [],
   "source": [
    "using Profile\n",
    "Profile.clear()"
   ]
  },
  {
   "cell_type": "code",
   "execution_count": 124,
   "id": "06d73d17-ae97-4169-bdec-99726fc394bc",
   "metadata": {},
   "outputs": [],
   "source": [
    "# numpy -> native\n",
    "@profile x1 = np.random.random_sample((2^17,2^10));"
   ]
  },
  {
   "cell_type": "code",
   "execution_count": 125,
   "id": "1b65b3a4-8f2b-4414-b50a-1ae68ee97892",
   "metadata": {},
   "outputs": [
    {
     "name": "stdout",
     "output_type": "stream",
     "text": [
      "Overhead ╎ [+additional indent] Count File:Line; Function\n",
      "=========================================================\n",
      "    ╎2945 @Base/task.jl:429; (::IJulia.var\"#15#18\")()\n",
      "    ╎ 2945 ...lia/src/eventloop.jl:8; eventloop(socket::ZMQ.Socket)\n",
      "    ╎  2945 @Base/essentials.jl:714; invokelatest\n",
      "    ╎   2945 @Base/essentials.jl:716; #invokelatest#2\n",
      "    ╎    2945 ...execute_request.jl:67; execute_request(socket::ZMQ.S...\n",
      "    ╎     2945 ...SoftGlobalScope.jl:65; softscope_include_string(m::...\n",
      "    ╎    ╎ 2945 @Base/loading.jl:1196; include_string(mapexpr::typ...\n",
      "    ╎    ╎  2945 @Base/boot.jl:373; eval\n",
      "    ╎    ╎   2945 ...l/src/pyfncall.jl:86; (::PyObject)(args::Tuple{In...\n",
      "    ╎    ╎    2945 .../src/pyfncall.jl:86; #_#114\n",
      "    ╎    ╎     2146 .../conversions.jl:835; convert(#unused#::Type{Py...\n",
      "    ╎    ╎    ╎ 2146 .../src/pyarray.jl:267; convert(#unused#::Type{A...\n",
      "    ╎    ╎    ╎  2146 .../src/pyarray.jl:252; pyocopy(a::PyArray{Float...\n",
      "    ╎    ╎    ╎   88   ...src/pyarray.jl:148; copy\n",
      "    ╎    ╎    ╎    88   @Base/boot.jl:474; Array\n",
      "    ╎    ╎    ╎     88   @Base/boot.jl:467; Array\n",
      "  86╎    ╎    ╎    ╎ 88   @Base/boot.jl:459; Array\n",
      "    ╎    ╎    ╎    ╎  2    ...src/PyCall.jl:123; pydecref(o::PyObject)\n",
      "   2╎    ╎    ╎    ╎   2    ...rc/PyCall.jl:118; pydecref_\n",
      "    ╎    ╎    ╎   2058 ...src/pyarray.jl:152; copy\n",
      "    ╎    ╎    ╎    2058 ...stractarray.jl:998; copyto!(dest::Matrix{F...\n",
      "  48╎    ╎    ╎     48   ...tractarray.jl:0; copyto_unaliased!(des...\n",
      "    ╎    ╎    ╎     2010 ...tractarray.jl:1024; copyto_unaliased!(des...\n",
      "    ╎    ╎    ╎    ╎ 3    ...tractarray.jl:1142; iterate\n",
      "    ╎    ╎    ╎    ╎  3    ...imensional.jl:388; iterate\n",
      "   3╎    ╎    ╎    ╎   3    ...mensional.jl:413; __inc\n",
      "    ╎    ╎    ╎    ╎ 106  ...tractarray.jl:1144; iterate\n",
      "    ╎    ╎    ╎    ╎  52   ...rc/pyarray.jl:180; getindex\n",
      "  38╎    ╎    ╎    ╎   38   ...ractarray.jl:654; checkbounds\n",
      "  14╎    ╎    ╎    ╎   14   ...ractarray.jl:656; checkbounds\n",
      "    ╎    ╎    ╎    ╎  54   ...rc/pyarray.jl:181; getindex\n",
      "    ╎    ╎    ╎    ╎   27   ...c/pyarray.jl:159; data_index\n",
      "    ╎    ╎    ╎    ╎    27   @Base/ntuple.jl:49; ntuple\n",
      "    ╎    ╎    ╎    ╎     27   .../pyarray.jl:160; #15\n",
      "  27╎    ╎    ╎    ╎    ╎ 27   @Base/int.jl:88; *\n",
      "    ╎    ╎    ╎    ╎   27   ...c/pyarray.jl:157; unsafe_data_load\n",
      "  27╎    ╎    ╎    ╎    27   ...e/pointer.jl:105; unsafe_load\n",
      "1901╎    ╎    ╎    ╎ 1901 @Base/array.jl:903; setindex!\n",
      "    ╎    ╎     799  ...src/pyfncall.jl:11; _pycall!\n",
      "    ╎    ╎    ╎ 799  ...src/pyfncall.jl:29; _pycall!(ret::PyObject, o...\n",
      "    ╎    ╎    ╎  799  ...src/pyfncall.jl:42; __pycall!\n",
      "    ╎    ╎    ╎   799  @Base/c.jl:458; disable_sigint\n",
      "    ╎    ╎    ╎    799  ...rc/pyfncall.jl:43; #107\n",
      " 798╎    ╎    ╎     799  ...c/exception.jl:95; macro expansion\n",
      "Total snapshots: 6044\n"
     ]
    }
   ],
   "source": [
    "Profile.print()"
   ]
  },
  {
   "cell_type": "code",
   "execution_count": 134,
   "id": "fe8b4c88-0d8e-4b71-ad66-6d7cb9a2affc",
   "metadata": {},
   "outputs": [
    {
     "name": "stdout",
     "output_type": "stream",
     "text": [
      "  0.001867 seconds (10 allocations: 464 bytes)\n"
     ]
    }
   ],
   "source": [
    "# nlcpy\n",
    "@time x3 = vp.random.random_sample((2^17,2^10));"
   ]
  },
  {
   "cell_type": "code",
   "execution_count": 172,
   "id": "1fa91e58-8dc8-4c8a-ae04-94b09d431ee5",
   "metadata": {},
   "outputs": [
    {
     "data": {
      "text/plain": [
       "(Matrix{Float64}, Matrix{Float64}, PyArray{Float64, 2}, PyObject)"
      ]
     },
     "execution_count": 172,
     "metadata": {},
     "output_type": "execute_result"
    }
   ],
   "source": [
    "@. typeof((x0,x1,x2,x3))"
   ]
  },
  {
   "cell_type": "code",
   "execution_count": null,
   "id": "a7616a35-0522-4721-8211-bb8df94ba74f",
   "metadata": {},
   "outputs": [],
   "source": []
  },
  {
   "cell_type": "code",
   "execution_count": 136,
   "id": "addda885-48c9-41b6-a034-86aefa8a913b",
   "metadata": {},
   "outputs": [
    {
     "data": {
      "text/plain": [
       "((131072, 1024), (131072, 1024), (131072, 1024), (131072,))"
      ]
     },
     "execution_count": 136,
     "metadata": {},
     "output_type": "execute_result"
    }
   ],
   "source": [
    "@. size((x0,x1,x2,x3))"
   ]
  },
  {
   "cell_type": "code",
   "execution_count": 170,
   "id": "fb77a724-52b8-48eb-ac37-342716021ca9",
   "metadata": {},
   "outputs": [
    {
     "data": {
      "text/plain": [
       "(PyObject, PyObject)"
      ]
     },
     "execution_count": 170,
     "metadata": {},
     "output_type": "execute_result"
    }
   ],
   "source": [
    "@. typeof((x2.o,x3))"
   ]
  },
  {
   "cell_type": "code",
   "execution_count": 168,
   "id": "2f33fa28-9e51-42c4-b9ef-f42a21a8cef6",
   "metadata": {},
   "outputs": [
    {
     "data": {
      "text/plain": [
       "((131072, 1024), (131072, 1024))"
      ]
     },
     "execution_count": 168,
     "metadata": {},
     "output_type": "execute_result"
    }
   ],
   "source": [
    "x2.o.shape, x3.shape"
   ]
  },
  {
   "cell_type": "code",
   "execution_count": null,
   "id": "ab35f667-828a-4349-897b-ba009a09b4e6",
   "metadata": {},
   "outputs": [],
   "source": []
  },
  {
   "cell_type": "markdown",
   "id": "6a82b8d3-afb2-42d9-bc4b-e5c27ed05997",
   "metadata": {},
   "source": [
    "`PyObject` (`numpy.ndarray`) へのアクセス:"
   ]
  },
  {
   "cell_type": "code",
   "execution_count": 139,
   "id": "fb34f75d-2fd4-45d5-90bd-ff73b2b65345",
   "metadata": {},
   "outputs": [
    {
     "data": {
      "text/plain": [
       "PyObject"
      ]
     },
     "execution_count": 139,
     "metadata": {},
     "output_type": "execute_result"
    }
   ],
   "source": [
    "typeof(x2.o)"
   ]
  },
  {
   "cell_type": "code",
   "execution_count": 16,
   "id": "048ce53a-3cae-4580-a5c4-9713b64c9317",
   "metadata": {},
   "outputs": [
    {
     "data": {
      "text/plain": [
       "((131072, 1024), (131072, 1024))"
      ]
     },
     "execution_count": 16,
     "metadata": {},
     "output_type": "execute_result"
    }
   ],
   "source": [
    "x2.o.shape, py\"$x2.shape\""
   ]
  },
  {
   "cell_type": "code",
   "execution_count": 18,
   "id": "54de8c70-5c89-4ef4-88bc-84baa95c5cb0",
   "metadata": {},
   "outputs": [
    {
     "data": {
      "text/plain": [
       "\"7f91e69fa010\""
      ]
     },
     "execution_count": 18,
     "metadata": {},
     "output_type": "execute_result"
    }
   ],
   "source": [
    "string(x2.o.__array_interface__[\"data\"][1], base=16)"
   ]
  },
  {
   "cell_type": "code",
   "execution_count": 138,
   "id": "babee309-0968-4d5b-be62-aff79d33706d",
   "metadata": {},
   "outputs": [
    {
     "data": {
      "text/plain": [
       "(Ptr{Float64} @0x00007f8f329bc010, Ptr{Nothing} @0x00007f8f329bc010)"
      ]
     },
     "execution_count": 138,
     "metadata": {},
     "output_type": "execute_result"
    }
   ],
   "source": [
    "x2.data, x2.info.pybuf.buf.buf"
   ]
  },
  {
   "cell_type": "code",
   "execution_count": null,
   "id": "ac0595af",
   "metadata": {},
   "outputs": [],
   "source": []
  }
 ],
 "metadata": {
  "kernelspec": {
   "display_name": "Julia 1.7.3",
   "language": "julia",
   "name": "julia-1.7"
  },
  "language_info": {
   "file_extension": ".jl",
   "mimetype": "application/julia",
   "name": "julia",
   "version": "1.7.3"
  }
 },
 "nbformat": 4,
 "nbformat_minor": 5
}
