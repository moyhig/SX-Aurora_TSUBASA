{
 "cells": [
  {
   "cell_type": "markdown",
   "id": "0e4f150b",
   "metadata": {},
   "source": [
    "# STREAM Benchmark\n",
    "\n",
    "* [John McCalpin's blog » STREAM benchmark](https://sites.utexas.edu/jdm4372/tag/stream-benchmark/)\n",
    "  - [https://www.cs.virginia.edu/stream/stream2/stream2.f](https://www.cs.virginia.edu/stream/stream2/stream2.f)"
   ]
  },
  {
   "cell_type": "markdown",
   "id": "88ebeb76",
   "metadata": {},
   "source": [
    "* STREAM1\n",
    "  - Copy: `C[i] = A[i]`\n",
    "  - Scale: `B[i] = scalar * C[i]`\n",
    "  - Add: `C[i] = A[i] + B[i]`\n",
    "  - Triad `A[i] = B[i] + scalar * C[i]`"
   ]
  },
  {
   "cell_type": "markdown",
   "id": "a8b5a378",
   "metadata": {},
   "source": [
    "* STERAM2\n",
    "  - Fill: `A[i] = 0`\n",
    "  - Copy: `A[i] = B[i]`\n",
    "  - DAXPY: `A[i] = A[i] + scalar * B[i]`\n",
    "  - Dot: `sum += A[i] * B[i]`"
   ]
  },
  {
   "cell_type": "code",
   "execution_count": null,
   "id": "35b65804",
   "metadata": {},
   "outputs": [],
   "source": []
  }
 ],
 "metadata": {
  "kernelspec": {
   "display_name": "Python 3",
   "language": "python",
   "name": "python3"
  },
  "language_info": {
   "codemirror_mode": {
    "name": "ipython",
    "version": 3
   },
   "file_extension": ".py",
   "mimetype": "text/x-python",
   "name": "python",
   "nbconvert_exporter": "python",
   "pygments_lexer": "ipython3",
   "version": "3.8.13"
  }
 },
 "nbformat": 4,
 "nbformat_minor": 5
}
