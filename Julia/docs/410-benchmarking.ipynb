{
 "cells": [
  {
   "cell_type": "markdown",
   "id": "823d9224",
   "metadata": {},
   "source": [
    "# Benchmarking"
   ]
  },
  {
   "cell_type": "code",
   "execution_count": 1,
   "id": "fdff2067",
   "metadata": {},
   "outputs": [
    {
     "name": "stdout",
     "output_type": "stream",
     "text": [
      "Julia Version 1.7.3\n",
      "Commit 742b9abb4d (2022-05-06 12:58 UTC)\n",
      "Platform Info:\n",
      "  OS: Linux (x86_64-redhat-linux)\n",
      "  CPU: Intel(R) Xeon(R) Gold 6226 CPU @ 2.70GHz\n",
      "  WORD_SIZE: 64\n",
      "  LIBM: libopenlibm\n",
      "  LLVM: libLLVM-12.0.1 (ORCJIT, cascadelake)\n",
      "Environment:\n",
      "  JULIA_DEPOT_PATH = /home/manabu/.julia-1.7.3\n",
      "  JULIA_NUM_THREADS = 12\n"
     ]
    }
   ],
   "source": [
    "versioninfo()"
   ]
  },
  {
   "cell_type": "markdown",
   "id": "2ea3c475",
   "metadata": {},
   "source": [
    "---"
   ]
  },
  {
   "cell_type": "code",
   "execution_count": 2,
   "id": "47047209",
   "metadata": {},
   "outputs": [],
   "source": [
    "using PyCall"
   ]
  },
  {
   "cell_type": "code",
   "execution_count": 6,
   "id": "4c569f14-e558-4465-9af6-9eb5d9a31c34",
   "metadata": {},
   "outputs": [
    {
     "data": {
      "text/plain": [
       "\"0\""
      ]
     },
     "execution_count": 6,
     "metadata": {},
     "output_type": "execute_result"
    }
   ],
   "source": [
    "ENV[\"VE_NODE_NUMBER\"] = \"0\""
   ]
  },
  {
   "cell_type": "code",
   "execution_count": 7,
   "id": "b759229b",
   "metadata": {},
   "outputs": [
    {
     "data": {
      "text/plain": [
       "\"12\""
      ]
     },
     "execution_count": 7,
     "metadata": {},
     "output_type": "execute_result"
    }
   ],
   "source": [
    "ENV[\"OMP_NUM_THREADS\"] = \"12\""
   ]
  },
  {
   "cell_type": "code",
   "execution_count": 8,
   "id": "c7c3850f",
   "metadata": {},
   "outputs": [
    {
     "data": {
      "text/plain": [
       "\"AVX512\""
      ]
     },
     "execution_count": 8,
     "metadata": {},
     "output_type": "execute_result"
    }
   ],
   "source": [
    "ENV[\"MKL_ENABLE_INSTRUCTIONS\"] = \"AVX512\""
   ]
  },
  {
   "cell_type": "code",
   "execution_count": 9,
   "id": "20bae118",
   "metadata": {},
   "outputs": [],
   "source": [
    "np = pyimport(\"numpy\");\n",
    "vp = pyimport(\"nlcpy\");"
   ]
  },
  {
   "cell_type": "markdown",
   "id": "6680ff33-83be-42af-9b22-f8d95fefe255",
   "metadata": {},
   "source": [
    "---"
   ]
  },
  {
   "cell_type": "code",
   "execution_count": 10,
   "id": "603237d7-cd37-4627-8466-02cf99db46e4",
   "metadata": {},
   "outputs": [
    {
     "data": {
      "text/plain": [
       "134217728"
      ]
     },
     "execution_count": 10,
     "metadata": {},
     "output_type": "execute_result"
    }
   ],
   "source": [
    "const N = 2^27"
   ]
  },
  {
   "cell_type": "code",
   "execution_count": 11,
   "id": "1f16263d",
   "metadata": {},
   "outputs": [
    {
     "name": "stdout",
     "output_type": "stream",
     "text": [
      "  0.171696 seconds (2 allocations: 1.000 GiB, 36.17% gc time)\n",
      "  0.113920 seconds (2 allocations: 1.000 GiB, 3.83% gc time)\n"
     ]
    }
   ],
   "source": [
    "# native\n",
    "@time x0 = rand(Float64, (N,));\n",
    "@time y0 = rand(Float64, (N,));"
   ]
  },
  {
   "cell_type": "markdown",
   "id": "75869125",
   "metadata": {},
   "source": [
    "### axpy"
   ]
  },
  {
   "cell_type": "code",
   "execution_count": 14,
   "id": "59e4d2fb",
   "metadata": {},
   "outputs": [
    {
     "data": {
      "text/plain": [
       "(Ptr{Float64} @0x00007f59eadf8040, Ptr{Float64} @0x00007f5a6adfa040)"
      ]
     },
     "execution_count": 14,
     "metadata": {},
     "output_type": "execute_result"
    }
   ],
   "source": [
    "pointer(x0), pointer(y0)"
   ]
  },
  {
   "cell_type": "code",
   "execution_count": 15,
   "id": "8151bb87",
   "metadata": {},
   "outputs": [
    {
     "name": "stdout",
     "output_type": "stream",
     "text": [
      "  0.546139 seconds (435.19 k allocations: 2.023 GiB, 2.50% gc time, 18.88% compilation time)\n"
     ]
    }
   ],
   "source": [
    "# native\n",
    "@time y0 += 3.14*x0;"
   ]
  },
  {
   "cell_type": "code",
   "execution_count": 16,
   "id": "441bc8d8",
   "metadata": {},
   "outputs": [
    {
     "data": {
      "text/plain": [
       "(Ptr{Float64} @0x00007f59eadf8040, Ptr{Float64} @0x00007f5aaadfb040)"
      ]
     },
     "execution_count": 16,
     "metadata": {},
     "output_type": "execute_result"
    }
   ],
   "source": [
    "pointer(x0), pointer(y0)"
   ]
  },
  {
   "cell_type": "markdown",
   "id": "02f03936-0a6a-40a6-a4b4-26b9015f45f2",
   "metadata": {},
   "source": [
    "厳密にaxpyではない･･･\n",
    "* alloc時間が加算されている"
   ]
  },
  {
   "cell_type": "markdown",
   "id": "c269519e-cc7f-45c9-9c96-09b70a351d98",
   "metadata": {},
   "source": [
    "### BLAS"
   ]
  },
  {
   "cell_type": "code",
   "execution_count": 21,
   "id": "2bf4932a",
   "metadata": {},
   "outputs": [],
   "source": [
    "using LinearAlgebra"
   ]
  },
  {
   "cell_type": "code",
   "execution_count": 24,
   "id": "dcb39689",
   "metadata": {
    "tags": []
   },
   "outputs": [
    {
     "data": {
      "text/plain": [
       "(Ptr{Float64} @0x00007f5a2adf9040, Ptr{Float64} @0x00007f5a6adfa040)"
      ]
     },
     "execution_count": 24,
     "metadata": {},
     "output_type": "execute_result"
    }
   ],
   "source": [
    "pointer(x0), pointer(y0)"
   ]
  },
  {
   "cell_type": "code",
   "execution_count": 27,
   "id": "644c409a",
   "metadata": {
    "tags": []
   },
   "outputs": [
    {
     "name": "stdout",
     "output_type": "stream",
     "text": [
      "  0.031929 seconds\n"
     ]
    }
   ],
   "source": [
    "# native\n",
    "@time LinearAlgebra.BLAS.axpy!(3.14, x0, y0);"
   ]
  },
  {
   "cell_type": "code",
   "execution_count": 26,
   "id": "b74f0277-d676-40c7-8d16-d55780eb761d",
   "metadata": {
    "tags": []
   },
   "outputs": [
    {
     "data": {
      "text/plain": [
       "(Ptr{Float64} @0x00007f5a2adf9040, Ptr{Float64} @0x00007f5a6adfa040)"
      ]
     },
     "execution_count": 26,
     "metadata": {},
     "output_type": "execute_result"
    }
   ],
   "source": [
    "pointer(x0), pointer(y0)"
   ]
  },
  {
   "cell_type": "markdown",
   "id": "3a302d36-9c80-4cd1-a1f1-d96a1bfd0187",
   "metadata": {},
   "source": [
    "2-load/1-store, 2-flop:\n",
    "* 94.0 GB/s\n",
    "* 62.7 GFlop/s"
   ]
  },
  {
   "cell_type": "code",
   "execution_count": 30,
   "id": "8b215c69-6df3-44c3-bbe2-c6cd383d0823",
   "metadata": {},
   "outputs": [
    {
     "data": {
      "text/plain": [
       "(93.95847035610261, 62.63898023740174)"
      ]
     },
     "execution_count": 30,
     "metadata": {},
     "output_type": "execute_result"
    }
   ],
   "source": [
    "3*1.0/0.031929, 2*1.0/0.031929"
   ]
  },
  {
   "cell_type": "markdown",
   "id": "4584a215-7242-46a6-8e9f-abe9470a5c56",
   "metadata": {},
   "source": [
    "### native code (loop vectorization)"
   ]
  },
  {
   "cell_type": "code",
   "execution_count": 31,
   "id": "6d4f00b2",
   "metadata": {},
   "outputs": [],
   "source": [
    "#using Base.Threads: nthreads, @threads"
   ]
  },
  {
   "cell_type": "code",
   "execution_count": 12,
   "id": "1bdcbeb2",
   "metadata": {},
   "outputs": [],
   "source": [
    "#import Pkg; Pkg.add(\"LoopVectorization\")\n",
    "using LoopVectorization"
   ]
  },
  {
   "cell_type": "code",
   "execution_count": 13,
   "id": "ee9055c9",
   "metadata": {},
   "outputs": [
    {
     "data": {
      "text/plain": [
       "12"
      ]
     },
     "execution_count": 13,
     "metadata": {},
     "output_type": "execute_result"
    }
   ],
   "source": [
    "Threads.nthreads()"
   ]
  },
  {
   "cell_type": "code",
   "execution_count": 15,
   "id": "7439a801",
   "metadata": {},
   "outputs": [
    {
     "name": "stdout",
     "output_type": "stream",
     "text": [
      "  0.038088 seconds (33 allocations: 784 bytes)\n"
     ]
    }
   ],
   "source": [
    "@time @avxt for i in eachindex(x0)\n",
    "    @inbounds y0[i] = 3.14*x0[i]\n",
    "end"
   ]
  },
  {
   "cell_type": "code",
   "execution_count": 16,
   "id": "b0d37b43-b0f3-426f-900a-c0b72c1a4db5",
   "metadata": {},
   "outputs": [
    {
     "data": {
      "text/plain": [
       "(2.628910833478654, 52.50997689561017)"
      ]
     },
     "execution_count": 16,
     "metadata": {},
     "output_type": "execute_result"
    }
   ],
   "source": [
    "3*1.0/1.141157, 2*1.0/0.038088"
   ]
  },
  {
   "cell_type": "markdown",
   "id": "ae279c85-335a-4130-b873-e0aefd6a64a4",
   "metadata": {},
   "source": [
    "### Dot"
   ]
  },
  {
   "cell_type": "code",
   "execution_count": 51,
   "id": "c1ae6a7e",
   "metadata": {},
   "outputs": [
    {
     "name": "stdout",
     "output_type": "stream",
     "text": [
      "  0.023695 seconds (1 allocation: 16 bytes)\n"
     ]
    },
    {
     "data": {
      "text/plain": [
       "3.3553767931433145e7"
      ]
     },
     "execution_count": 51,
     "metadata": {},
     "output_type": "execute_result"
    }
   ],
   "source": [
    "@time _ = x0 ⋅ y0"
   ]
  },
  {
   "cell_type": "code",
   "execution_count": 52,
   "id": "17127938",
   "metadata": {},
   "outputs": [
    {
     "name": "stdout",
     "output_type": "stream",
     "text": [
      "  0.023541 seconds (1 allocation: 16 bytes)\n"
     ]
    },
    {
     "data": {
      "text/plain": [
       "3.3553767931433145e7"
      ]
     },
     "execution_count": 52,
     "metadata": {},
     "output_type": "execute_result"
    }
   ],
   "source": [
    "@time _ = LinearAlgebra.BLAS.dot(x0,y0)"
   ]
  },
  {
   "cell_type": "markdown",
   "id": "ac25042a-4acf-40af-8850-a2188e51817d",
   "metadata": {},
   "source": [
    "2-load/0-store, 2-flop:\n",
    "* 84.4 GB/s\n",
    "* 84.4 GFlop/s"
   ]
  },
  {
   "cell_type": "code",
   "execution_count": 53,
   "id": "ab0a613c",
   "metadata": {},
   "outputs": [
    {
     "data": {
      "text/plain": [
       "84.40599282549061"
      ]
     },
     "execution_count": 53,
     "metadata": {},
     "output_type": "execute_result"
    }
   ],
   "source": [
    "2*1.0/0.023695"
   ]
  },
  {
   "cell_type": "markdown",
   "id": "2ec3bf35-5670-481c-9d93-c37701ce885d",
   "metadata": {},
   "source": [
    "## Comparison"
   ]
  },
  {
   "cell_type": "code",
   "execution_count": 66,
   "id": "a11a530a",
   "metadata": {},
   "outputs": [
    {
     "name": "stdout",
     "output_type": "stream",
     "text": [
      "  0.885777 seconds (19 allocations: 800 bytes)\n",
      "  0.881678 seconds (19 allocations: 800 bytes)\n"
     ]
    }
   ],
   "source": [
    "# PyArray (numpy)\n",
    "@time x1 = @pycall np.random.random_sample((N,))::PyArray;\n",
    "@time y1 = @pycall np.random.random_sample((N,))::PyArray;"
   ]
  },
  {
   "cell_type": "code",
   "execution_count": 57,
   "id": "f146e577",
   "metadata": {},
   "outputs": [
    {
     "name": "stdout",
     "output_type": "stream",
     "text": [
      "  0.000055 seconds (19 allocations: 848 bytes)\n",
      "  0.000039 seconds (19 allocations: 848 bytes)\n"
     ]
    }
   ],
   "source": [
    "@time x1 = @pycall np.asarray(x0)::PyArray;\n",
    "@time y1 = @pycall np.asarray(x0)::PyArray;"
   ]
  },
  {
   "cell_type": "code",
   "execution_count": null,
   "id": "f0aba987",
   "metadata": {},
   "outputs": [],
   "source": []
  },
  {
   "cell_type": "code",
   "execution_count": 58,
   "id": "faf3c9b6",
   "metadata": {},
   "outputs": [],
   "source": [
    "blas = pyimport(\"scipy.linalg.blas\");"
   ]
  },
  {
   "cell_type": "code",
   "execution_count": 59,
   "id": "9a7661c8",
   "metadata": {},
   "outputs": [
    {
     "data": {
      "text/plain": [
       "(PyArray{Float64, 1}, PyArray{Float64, 1})"
      ]
     },
     "execution_count": 59,
     "metadata": {},
     "output_type": "execute_result"
    }
   ],
   "source": [
    "typeof.((x1,y1))"
   ]
  },
  {
   "cell_type": "code",
   "execution_count": 60,
   "id": "c02bc2a9",
   "metadata": {},
   "outputs": [
    {
     "data": {
      "text/plain": [
       "(Ptr{Float64} @0x00007f55156a1040, Ptr{Float64} @0x00007f55156a1040)"
      ]
     },
     "execution_count": 60,
     "metadata": {},
     "output_type": "execute_result"
    }
   ],
   "source": [
    "x1.data, y1.data"
   ]
  },
  {
   "cell_type": "code",
   "execution_count": 70,
   "id": "3fb1bb33",
   "metadata": {},
   "outputs": [
    {
     "name": "stdout",
     "output_type": "stream",
     "text": [
      "  0.031510 seconds (35 allocations: 1.547 KiB)\n"
     ]
    }
   ],
   "source": [
    "# PyArray (numpy)\n",
    "@time _ = @pycall blas.daxpy(x1,y1,a=3.14)::PyArray;"
   ]
  },
  {
   "cell_type": "code",
   "execution_count": 71,
   "id": "3384cb62",
   "metadata": {},
   "outputs": [
    {
     "name": "stdout",
     "output_type": "stream",
     "text": [
      "  0.024032 seconds (7 allocations: 256 bytes)\n"
     ]
    },
    {
     "data": {
      "text/plain": [
       "3.145122782445038e8"
      ]
     },
     "execution_count": 71,
     "metadata": {},
     "output_type": "execute_result"
    }
   ],
   "source": [
    "@time z1 = @pycall np.dot(x1,y1)::PyAny"
   ]
  },
  {
   "cell_type": "code",
   "execution_count": null,
   "id": "8dc496bb",
   "metadata": {},
   "outputs": [],
   "source": []
  },
  {
   "cell_type": "code",
   "execution_count": null,
   "id": "5a7c115e",
   "metadata": {},
   "outputs": [],
   "source": []
  },
  {
   "cell_type": "code",
   "execution_count": 73,
   "id": "ac49a514",
   "metadata": {},
   "outputs": [
    {
     "name": "stdout",
     "output_type": "stream",
     "text": [
      "  0.001031 seconds (8 allocations: 416 bytes)\n",
      "  0.005262 seconds (8 allocations: 416 bytes)\n"
     ]
    }
   ],
   "source": [
    "# nlcpy\n",
    "@time x2 = vp.random.random_sample((N,));\n",
    "@time y2 = vp.random.random_sample((N,));"
   ]
  },
  {
   "cell_type": "code",
   "execution_count": 75,
   "id": "00829a6c",
   "metadata": {},
   "outputs": [
    {
     "name": "stdout",
     "output_type": "stream",
     "text": [
      "  0.123860 seconds (4 allocations: 256 bytes)\n",
      "  0.122843 seconds (4 allocations: 256 bytes)\n"
     ]
    }
   ],
   "source": [
    "@time x2 = vp.asarray(x1);\n",
    "@time y2 = vp.asarray(y1);"
   ]
  },
  {
   "cell_type": "code",
   "execution_count": 76,
   "id": "9a25e5df",
   "metadata": {},
   "outputs": [
    {
     "data": {
      "text/plain": [
       "(\"6101ec000010\", \"610230000010\")"
      ]
     },
     "execution_count": 76,
     "metadata": {},
     "output_type": "execute_result"
    }
   ],
   "source": [
    "(x2.ve_adr, y2.ve_adr) .|> (p)-> string(p, base=16)"
   ]
  },
  {
   "cell_type": "code",
   "execution_count": 78,
   "id": "cac1c7c5",
   "metadata": {},
   "outputs": [
    {
     "name": "stdout",
     "output_type": "stream",
     "text": [
      "  0.000176 seconds (7 allocations: 336 bytes)\n"
     ]
    },
    {
     "data": {
      "text/plain": [
       "PyObject array(3.14512278e+08)"
      ]
     },
     "execution_count": 78,
     "metadata": {},
     "output_type": "execute_result"
    }
   ],
   "source": [
    "# nlcpy\n",
    "@time _ = vp.dot(x2,y2)"
   ]
  },
  {
   "cell_type": "code",
   "execution_count": 148,
   "id": "3011f1f0",
   "metadata": {},
   "outputs": [
    {
     "data": {
      "text/plain": [
       "(\"6100dc000010\", \"6101ec000010\")"
      ]
     },
     "execution_count": 148,
     "metadata": {},
     "output_type": "execute_result"
    }
   ],
   "source": [
    "(x2.ve_adr, y2.ve_adr) .|> (p)-> string(p, base=16)"
   ]
  },
  {
   "cell_type": "code",
   "execution_count": 150,
   "id": "98989c1b",
   "metadata": {},
   "outputs": [
    {
     "data": {
      "text/plain": [
       "(1073741824, 1073741824, 1073741824)"
      ]
     },
     "execution_count": 150,
     "metadata": {},
     "output_type": "execute_result"
    }
   ],
   "source": [
    "sizeof(x0), x1.o.nbytes, x2.nbytes"
   ]
  },
  {
   "cell_type": "code",
   "execution_count": 80,
   "id": "fdcf3750",
   "metadata": {},
   "outputs": [
    {
     "data": {
      "text/plain": [
       "11.097301136363637"
      ]
     },
     "execution_count": 80,
     "metadata": {},
     "output_type": "execute_result"
    }
   ],
   "source": [
    "2*1.0/0.000176/1024"
   ]
  },
  {
   "cell_type": "markdown",
   "id": "36ec3688-0d6f-43b6-9cde-7e5f08e2ac13",
   "metadata": {},
   "source": [
    "11.1TFlop/s (11.1TB/s) は早すぎ･･･"
   ]
  },
  {
   "cell_type": "code",
   "execution_count": null,
   "id": "4675a1f8",
   "metadata": {},
   "outputs": [],
   "source": []
  },
  {
   "cell_type": "code",
   "execution_count": null,
   "id": "6686d691",
   "metadata": {},
   "outputs": [],
   "source": []
  },
  {
   "cell_type": "code",
   "execution_count": null,
   "id": "5a4f2c2e",
   "metadata": {},
   "outputs": [],
   "source": []
  },
  {
   "cell_type": "code",
   "execution_count": null,
   "id": "396680e8",
   "metadata": {},
   "outputs": [],
   "source": []
  },
  {
   "cell_type": "markdown",
   "id": "d8f10d6a",
   "metadata": {},
   "source": [
    "## operator overload"
   ]
  },
  {
   "cell_type": "code",
   "execution_count": 52,
   "id": "db732524",
   "metadata": {},
   "outputs": [
    {
     "name": "stdout",
     "output_type": "stream",
     "text": [
      "  0.251064 seconds (23 allocations: 992 bytes)\n"
     ]
    }
   ],
   "source": [
    "@time z2 = @pycall np.add(x2,y2)::PyArray;"
   ]
  },
  {
   "cell_type": "code",
   "execution_count": 53,
   "id": "e19fe236",
   "metadata": {},
   "outputs": [
    {
     "data": {
      "text/plain": [
       "PyArray{Float64, 2}"
      ]
     },
     "execution_count": 53,
     "metadata": {},
     "output_type": "execute_result"
    }
   ],
   "source": [
    "typeof(z2)"
   ]
  },
  {
   "cell_type": "markdown",
   "id": "746c36f1",
   "metadata": {},
   "source": [
    "## sum"
   ]
  },
  {
   "cell_type": "code",
   "execution_count": 66,
   "id": "83c72ddc",
   "metadata": {},
   "outputs": [
    {
     "name": "stdout",
     "output_type": "stream",
     "text": [
      "  0.254086 seconds (2 allocations: 1.000 GiB, 1.20% gc time)\n"
     ]
    }
   ],
   "source": [
    "# native\n",
    "@time z0 = x0+y0;"
   ]
  },
  {
   "cell_type": "code",
   "execution_count": 67,
   "id": "0ba225ab",
   "metadata": {},
   "outputs": [],
   "source": [
    "using LinearAlgebra"
   ]
  },
  {
   "cell_type": "code",
   "execution_count": 72,
   "id": "0578a08e",
   "metadata": {},
   "outputs": [
    {
     "name": "stdout",
     "output_type": "stream",
     "text": [
      "  0.247239 seconds (2 allocations: 1.000 GiB, 1.23% gc time)\n",
      "  0.031116 seconds\n"
     ]
    }
   ],
   "source": [
    "@time z00 = Base.copy(y0);\n",
    "@time LinearAlgebra.BLAS.axpy!(1.,x0,z00);"
   ]
  },
  {
   "cell_type": "code",
   "execution_count": 80,
   "id": "b0518880",
   "metadata": {},
   "outputs": [
    {
     "name": "stdout",
     "output_type": "stream",
     "text": [
      "  0.541381 seconds (2 allocations: 1.000 GiB, 3.79% gc time)\n"
     ]
    },
    {
     "data": {
      "text/plain": [
       "true"
      ]
     },
     "execution_count": 80,
     "metadata": {},
     "output_type": "execute_result"
    }
   ],
   "source": [
    "@time isapprox(z0, z00)"
   ]
  },
  {
   "cell_type": "code",
   "execution_count": 15,
   "id": "f87d4b14",
   "metadata": {},
   "outputs": [
    {
     "name": "stdout",
     "output_type": "stream",
     "text": [
      "  0.248329 seconds (23 allocations: 992 bytes)\n"
     ]
    }
   ],
   "source": [
    "# PyArray (numpy)\n",
    "@time z2 = @pycall np.add(x2,y2)::PyArray;"
   ]
  },
  {
   "cell_type": "code",
   "execution_count": 34,
   "id": "9143f886",
   "metadata": {},
   "outputs": [
    {
     "data": {
      "text/plain": [
       "PyArray{Float64, 2}"
      ]
     },
     "execution_count": 34,
     "metadata": {},
     "output_type": "execute_result"
    }
   ],
   "source": [
    "typeof(z2)"
   ]
  },
  {
   "cell_type": "code",
   "execution_count": 17,
   "id": "49b47160",
   "metadata": {},
   "outputs": [
    {
     "name": "stdout",
     "output_type": "stream",
     "text": [
      "  0.001220 seconds (1 allocation: 16 bytes)\n"
     ]
    }
   ],
   "source": [
    "# nlcpy\n",
    "@time z3 = x3+y3;"
   ]
  },
  {
   "cell_type": "code",
   "execution_count": 27,
   "id": "45646025",
   "metadata": {},
   "outputs": [
    {
     "data": {
      "text/plain": [
       "PyObject"
      ]
     },
     "execution_count": 27,
     "metadata": {},
     "output_type": "execute_result"
    }
   ],
   "source": [
    "typeof(z3)"
   ]
  },
  {
   "cell_type": "markdown",
   "id": "b1004172",
   "metadata": {},
   "source": [
    "## triad"
   ]
  },
  {
   "cell_type": "code",
   "execution_count": 30,
   "id": "316843ce",
   "metadata": {},
   "outputs": [
    {
     "name": "stdout",
     "output_type": "stream",
     "text": [
      "  0.440315 seconds (4 allocations: 2.000 GiB)\n"
     ]
    }
   ],
   "source": [
    "# native\n",
    "@time z0 = x0+3.14*y0;"
   ]
  },
  {
   "cell_type": "code",
   "execution_count": 35,
   "id": "dccb8861",
   "metadata": {},
   "outputs": [
    {
     "name": "stdout",
     "output_type": "stream",
     "text": [
      "  0.436774 seconds (51 allocations: 2.047 KiB)\n"
     ]
    }
   ],
   "source": [
    "# numpy\n",
    "@time z2 = @pycall np.add(x2, @pycall np.multiply(3.14,y2)::PyArray)::PyArray;"
   ]
  },
  {
   "cell_type": "code",
   "execution_count": 32,
   "id": "19539c48",
   "metadata": {},
   "outputs": [
    {
     "name": "stdout",
     "output_type": "stream",
     "text": [
      "  0.001912 seconds (3 allocations: 48 bytes)\n"
     ]
    }
   ],
   "source": [
    "# nlcpy\n",
    "@time z3 = x3+3.14*y3;"
   ]
  },
  {
   "cell_type": "code",
   "execution_count": null,
   "id": "f5cb3c31",
   "metadata": {},
   "outputs": [],
   "source": []
  },
  {
   "cell_type": "code",
   "execution_count": null,
   "id": "ae29284a",
   "metadata": {},
   "outputs": [],
   "source": []
  },
  {
   "cell_type": "code",
   "execution_count": null,
   "id": "c6fcea76",
   "metadata": {},
   "outputs": [],
   "source": []
  },
  {
   "cell_type": "markdown",
   "id": "567ff9fb",
   "metadata": {},
   "source": [
    "### Prepare C-coded `triad()` for NLCPy"
   ]
  },
  {
   "cell_type": "code",
   "execution_count": 30,
   "id": "31e7ce8f",
   "metadata": {},
   "outputs": [
    {
     "data": {
      "text/plain": [
       "PyObject <CustomVELibrary(\n",
       "* code:\n",
       "        int ve_triad(double *px, double *py, double *pz, int n) {\n",
       "            #pragma omp parallel for\n",
       "            for (int i = 0; i  < n; i++) pz[i] = px[i] + 3.14*py[i];\n",
       "            return 0;\n",
       "        }\n",
       "\n",
       "* path: None\n",
       "* cflags:  -c -fpic -O2 -I /opt/anaconda3/envs/jupyter/lib/python3.8/site-packages/nlcpy/include -fopenmp\n",
       "* ldflags:  -fpic -shared -fopenmp\n",
       "* log_stream: None\n",
       "* compiler: /opt/nec/ve/bin/ncc\n",
       "* use_nlc: False\n",
       "* ftrace: False\n",
       "* ID: 3445858_2022-07-01.22:53:56.905138\n",
       "* src_path: /tmp/tmp6_gd4acr/3445858_2022-07-01.22:53:56.905138.c\n",
       "* obj_path: /tmp/tmp6_gd4acr/3445858_2022-07-01.22:53:56.905138.o\n",
       "* lib_path: /tmp/tmp6_gd4acr/3445858_2022-07-01.22:53:56.905138.so\n",
       "* lib: <nlcpy.veo._veo.VeoLibrary object at 0x7fd9bba06f90>\n",
       ")>"
      ]
     },
     "execution_count": 30,
     "metadata": {},
     "output_type": "execute_result"
    }
   ],
   "source": [
    "ve_lib = vp.jit.CustomVELibrary(\n",
    "    code=\"\"\"\n",
    "        int ve_triad(double *px, double *py, double *pz, int n) {\n",
    "            #pragma omp parallel for\n",
    "            for (int i = 0; i  < n; i++) pz[i] = px[i] + 3.14*py[i];\n",
    "            return 0;\n",
    "        }\n",
    "\"\"\"\n",
    ")"
   ]
  },
  {
   "cell_type": "code",
   "execution_count": 31,
   "id": "5fab04c2",
   "metadata": {},
   "outputs": [],
   "source": [
    "ve_types = pyimport(\"nlcpy.ve_types\");"
   ]
  },
  {
   "cell_type": "code",
   "execution_count": 32,
   "id": "bf141d6b",
   "metadata": {},
   "outputs": [
    {
     "data": {
      "text/plain": [
       "PyObject <CustomVEKernel(func=<VeoFunction object VE function b've_triad'('uint64_t', 'uint64_t', 'uint64_t', 'int32_t') at 0x7fd96505a580>)>"
      ]
     },
     "execution_count": 32,
     "metadata": {},
     "output_type": "execute_result"
    }
   ],
   "source": [
    "ve_triad = ve_lib.get_function(\n",
    "    \"ve_triad\",\n",
    "    args_type=(ve_types.uint64, ve_types.uint64, ve_types.uint64, ve_types.int32),\n",
    "    ret_type=ve_types.int32\n",
    ")"
   ]
  },
  {
   "cell_type": "code",
   "execution_count": 33,
   "id": "910ec15c",
   "metadata": {},
   "outputs": [
    {
     "name": "stdout",
     "output_type": "stream",
     "text": [
      "  0.000238 seconds (6 allocations: 288 bytes)\n"
     ]
    }
   ],
   "source": [
    "#@time z0 = zeros(Float64, 10^6);\n",
    "#@time z1 = @pycall np.zeros((10^6))::PyArray;\n",
    "@time z2 = vp.zeros(10^6);"
   ]
  },
  {
   "cell_type": "code",
   "execution_count": 34,
   "id": "b52210b4",
   "metadata": {},
   "outputs": [
    {
     "data": {
      "text/plain": [
       "(1000000,)"
      ]
     },
     "execution_count": 34,
     "metadata": {},
     "output_type": "execute_result"
    }
   ],
   "source": [
    "vp.shape(z2)"
   ]
  },
  {
   "cell_type": "code",
   "execution_count": 36,
   "id": "e5d48f33",
   "metadata": {},
   "outputs": [
    {
     "name": "stdout",
     "output_type": "stream",
     "text": [
      "  0.000181 seconds (38 allocations: 1.203 KiB)\n"
     ]
    },
    {
     "data": {
      "text/plain": [
       "0"
      ]
     },
     "execution_count": 36,
     "metadata": {},
     "output_type": "execute_result"
    }
   ],
   "source": [
    "# nlcpy w/c-coded triad\n",
    "@time ve_triad(x2.ve_adr, y2.ve_adr, z2.ve_adr, z2.size, sync=true)"
   ]
  },
  {
   "cell_type": "code",
   "execution_count": null,
   "id": "dbf25ba0",
   "metadata": {},
   "outputs": [],
   "source": []
  },
  {
   "cell_type": "code",
   "execution_count": null,
   "id": "ac0595af",
   "metadata": {},
   "outputs": [],
   "source": []
  }
 ],
 "metadata": {
  "kernelspec": {
   "display_name": "Julia 1.7.3",
   "language": "julia",
   "name": "julia-1.7"
  },
  "language_info": {
   "file_extension": ".jl",
   "mimetype": "application/julia",
   "name": "julia",
   "version": "1.7.3"
  }
 },
 "nbformat": 4,
 "nbformat_minor": 5
}
