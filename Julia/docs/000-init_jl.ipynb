{
 "cells": [
  {
   "cell_type": "markdown",
   "id": "72e8eb4d-0ed1-4c79-aba7-6ec5e39328dd",
   "metadata": {},
   "source": [
    "# Initialization"
   ]
  },
  {
   "cell_type": "code",
   "execution_count": 1,
   "id": "e015e572-4f88-4215-907e-c16e2e67ed52",
   "metadata": {},
   "outputs": [
    {
     "name": "stdout",
     "output_type": "stream",
     "text": [
      "Julia Version 1.7.3\n",
      "Commit 742b9abb4d (2022-05-06 12:58 UTC)\n",
      "Platform Info:\n",
      "  OS: Linux (x86_64-redhat-linux)\n",
      "  CPU: Intel(R) Xeon(R) Gold 6226 CPU @ 2.70GHz\n",
      "  WORD_SIZE: 64\n",
      "  LIBM: libopenlibm\n",
      "  LLVM: libLLVM-12.0.1 (ORCJIT, cascadelake)\n",
      "Environment:\n",
      "  JULIA_DEPOT_PATH = /home/manabu/.julia-1.7.3\n",
      "  JULIA_NUM_THREADS = 12\n"
     ]
    }
   ],
   "source": [
    "versioninfo()"
   ]
  },
  {
   "cell_type": "markdown",
   "id": "be171880-b9b2-4e8c-8fb3-42335f5e3dfc",
   "metadata": {},
   "source": [
    "---"
   ]
  },
  {
   "cell_type": "code",
   "execution_count": 23,
   "id": "47047209",
   "metadata": {},
   "outputs": [],
   "source": [
    "using PyCall"
   ]
  },
  {
   "cell_type": "code",
   "execution_count": 24,
   "id": "f4d9130e",
   "metadata": {},
   "outputs": [
    {
     "name": "stdout",
     "output_type": "stream",
     "text": [
      "\u001b[32m\u001b[1m      Status\u001b[22m\u001b[39m `~/.julia-1.7.3/environments/v1.7/Project.toml`\n",
      " \u001b[90m [438e738f] \u001b[39mPyCall v1.93.1\n"
     ]
    }
   ],
   "source": [
    "using Pkg\n",
    "Pkg.status(\"PyCall\")"
   ]
  },
  {
   "cell_type": "code",
   "execution_count": 25,
   "id": "1b55a4f7",
   "metadata": {},
   "outputs": [
    {
     "data": {
      "text/plain": [
       "false"
      ]
     },
     "execution_count": 25,
     "metadata": {},
     "output_type": "execute_result"
    }
   ],
   "source": [
    "PyCall.conda"
   ]
  },
  {
   "cell_type": "code",
   "execution_count": 26,
   "id": "f21b5909",
   "metadata": {},
   "outputs": [
    {
     "data": {
      "text/plain": [
       "\"/opt/anaconda3/envs/jupyter/bin/python3\""
      ]
     },
     "execution_count": 26,
     "metadata": {},
     "output_type": "execute_result"
    }
   ],
   "source": [
    "PyCall.pyprogramname"
   ]
  },
  {
   "cell_type": "code",
   "execution_count": 27,
   "id": "b19cbce9",
   "metadata": {},
   "outputs": [
    {
     "data": {
      "text/plain": [
       "\"/opt/anaconda3/envs/jupyter/lib/libpython3.8.so.1.0\""
      ]
     },
     "execution_count": 27,
     "metadata": {},
     "output_type": "execute_result"
    }
   ],
   "source": [
    "PyCall.libpython"
   ]
  },
  {
   "cell_type": "markdown",
   "id": "1964584f-98b8-4fba-8d17-151541fea11e",
   "metadata": {},
   "source": [
    "* [Execution — nlcpy 2.1.1 documentation](https://sxauroratsubasa.sakura.ne.jp/documents/nlcpy/en/usage/execution.html)\n",
    "  - `VE_NODE_NUMBER`"
   ]
  },
  {
   "cell_type": "code",
   "execution_count": 3,
   "id": "653229e9-24ed-4961-9bab-37e1dff2a319",
   "metadata": {},
   "outputs": [
    {
     "data": {
      "text/plain": [
       "1"
      ]
     },
     "execution_count": 3,
     "metadata": {},
     "output_type": "execute_result"
    }
   ],
   "source": [
    "ENV[\"VE_NODE_NUMBER\"] = \"1\""
   ]
  },
  {
   "cell_type": "code",
   "execution_count": 28,
   "id": "38cb2dc3",
   "metadata": {},
   "outputs": [],
   "source": [
    "np = pyimport(\"numpy\");\n",
    "vp = pyimport(\"nlcpy\");"
   ]
  },
  {
   "cell_type": "code",
   "execution_count": 29,
   "id": "eec776b0",
   "metadata": {},
   "outputs": [
    {
     "data": {
      "text/plain": [
       "\"1.23.0\""
      ]
     },
     "execution_count": 29,
     "metadata": {},
     "output_type": "execute_result"
    }
   ],
   "source": [
    "np.version.version"
   ]
  },
  {
   "cell_type": "code",
   "execution_count": 30,
   "id": "379657e3",
   "metadata": {},
   "outputs": [
    {
     "data": {
      "text/plain": [
       "\"2.1.1\""
      ]
     },
     "execution_count": 30,
     "metadata": {},
     "output_type": "execute_result"
    }
   ],
   "source": [
    "vp.__version__"
   ]
  },
  {
   "cell_type": "markdown",
   "id": "6eb6ea0c-8b90-426c-9eec-3c10e36ec577",
   "metadata": {},
   "source": [
    "---"
   ]
  },
  {
   "cell_type": "markdown",
   "id": "f1a026e5-aa35-4a94-82df-bfa24dc5299d",
   "metadata": {},
   "source": [
    "## Typed array literals\n",
    "\n",
    "* [Multi-dimensional Arrays · The Julia Language](https://docs.julialang.org/en/v1/manual/arrays/#Typed-array-literals)"
   ]
  },
  {
   "cell_type": "code",
   "execution_count": 10,
   "id": "8e017693-260d-4b53-b9d5-747bcb126dd9",
   "metadata": {},
   "outputs": [
    {
     "data": {
      "text/plain": [
       "2-element Vector{Float64}:\n",
       " 1.0\n",
       " 2.0"
      ]
     },
     "execution_count": 10,
     "metadata": {},
     "output_type": "execute_result"
    }
   ],
   "source": [
    "Float64[1,2]"
   ]
  },
  {
   "cell_type": "code",
   "execution_count": 13,
   "id": "aff3adc7-cc98-490c-b8d6-05987122643f",
   "metadata": {},
   "outputs": [
    {
     "data": {
      "text/plain": [
       "2×2 Matrix{Float64}:\n",
       " 1.0  2.0\n",
       " 3.0  4.0"
      ]
     },
     "execution_count": 13,
     "metadata": {},
     "output_type": "execute_result"
    }
   ],
   "source": [
    "Float64.([1 2;3 4])"
   ]
  },
  {
   "cell_type": "markdown",
   "id": "40351879-f489-4c93-b0bc-1e219977e2c4",
   "metadata": {},
   "source": [
    "### Construction and Initialization\n",
    "* [Multi-dimensional Arrays · The Julia Language](https://docs.julialang.org/en/v1/manual/arrays/#Construction-and-Initialization)"
   ]
  },
  {
   "cell_type": "code",
   "execution_count": 14,
   "id": "f4419359-0300-442d-bee9-3597d7efe06c",
   "metadata": {},
   "outputs": [
    {
     "data": {
      "text/plain": [
       "2×2 Matrix{Float64}:\n",
       " 1.0  2.0\n",
       " 3.0  4.0"
      ]
     },
     "execution_count": 14,
     "metadata": {},
     "output_type": "execute_result"
    }
   ],
   "source": [
    "Array{Float64}([1 2; 3 4])"
   ]
  },
  {
   "cell_type": "markdown",
   "id": "8480812d-a6c1-4bcc-ab94-0652093984fe",
   "metadata": {},
   "source": [
    "### slurping `...`"
   ]
  },
  {
   "cell_type": "markdown",
   "id": "2ea7e007-e840-49b8-b9fb-042b98654fb4",
   "metadata": {},
   "source": [
    "* \"What does the `...` operator do?\"\n",
    "  - [Frequently Asked Questions · The Julia Language](https://docs.julialang.org/en/v1/manual/faq/#What-does-the-...-operator-do?)\n",
    "* \"Unpacking Argument Lists\" (in Python)\n",
    "  - [4. More Control Flow Tools — Python 3.10.5 documentation](https://docs.python.org/3/tutorial/controlflow.html#tut-unpacking-arguments)"
   ]
  },
  {
   "cell_type": "code",
   "execution_count": 19,
   "id": "9d2a3f87-80e0-4b28-9b80-11da6c32ac39",
   "metadata": {},
   "outputs": [
    {
     "data": {
      "text/plain": [
       "6"
      ]
     },
     "execution_count": 19,
     "metadata": {},
     "output_type": "execute_result"
    }
   ],
   "source": [
    "+((1,2,3)...)"
   ]
  },
  {
   "cell_type": "code",
   "execution_count": 22,
   "id": "55fdbc5b-3bbf-489c-bcb6-daf388fa9438",
   "metadata": {},
   "outputs": [
    {
     "data": {
      "text/plain": [
       "Vector{Float64} (alias for Array{Float64, 1})"
      ]
     },
     "execution_count": 22,
     "metadata": {},
     "output_type": "execute_result"
    }
   ],
   "source": [
    "x = rand(10^6)\n",
    "typeof(x)"
   ]
  },
  {
   "cell_type": "code",
   "execution_count": null,
   "id": "d731ee18-a66c-4951-8fb7-41feb27e4a16",
   "metadata": {},
   "outputs": [],
   "source": []
  }
 ],
 "metadata": {
  "kernelspec": {
   "display_name": "Julia 1.7.3",
   "language": "julia",
   "name": "julia-1.7"
  },
  "language_info": {
   "file_extension": ".jl",
   "mimetype": "application/julia",
   "name": "julia",
   "version": "1.7.3"
  }
 },
 "nbformat": 4,
 "nbformat_minor": 5
}
