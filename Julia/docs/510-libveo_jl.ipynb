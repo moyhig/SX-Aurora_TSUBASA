{
 "cells": [
  {
   "cell_type": "markdown",
   "id": "1c7544a6",
   "metadata": {},
   "source": [
    "# Generating `libveo.jl` using Clang.Generators\n",
    "\n",
    "* [Generator Tutorial · Clang.jl](https://juliainterop.github.io/Clang.jl/stable/generator/)\n",
    "  - 参考:\n",
    "    - [VectorEngine.jl/clang.jl at master · sx-aurora-dev/VectorEngine.jl · GitHub](https://github.com/sx-aurora-dev/VectorEngine.jl/blob/master/deps/clang.jl)\n",
    "    - [VectorEngine.jl/api.jl at 6bd99fc033962b5eb085e49fda8046c73a269513 · sx-aurora-dev/VectorEngine.jl](https://github.com/sx-aurora-dev/VectorEngine.jl/blob/6bd99fc033962b5eb085e49fda8046c73a269513/src/veda/api.jl)"
   ]
  },
  {
   "cell_type": "code",
   "execution_count": 1,
   "id": "1c391b9d",
   "metadata": {},
   "outputs": [
    {
     "name": "stdout",
     "output_type": "stream",
     "text": [
      "Julia Version 1.7.3\n",
      "Commit 742b9abb4d (2022-05-06 12:58 UTC)\n",
      "Platform Info:\n",
      "  OS: Linux (x86_64-redhat-linux)\n",
      "  CPU: Intel(R) Xeon(R) Gold 6226 CPU @ 2.70GHz\n",
      "  WORD_SIZE: 64\n",
      "  LIBM: libopenlibm\n",
      "  LLVM: libLLVM-12.0.1 (ORCJIT, cascadelake)\n",
      "Environment:\n",
      "  JULIA_DEPOT_PATH = /home/manabu/.julia-1.7.3\n"
     ]
    }
   ],
   "source": [
    "versioninfo()"
   ]
  },
  {
   "cell_type": "code",
   "execution_count": 2,
   "id": "4356976e",
   "metadata": {},
   "outputs": [
    {
     "data": {
      "text/plain": [
       "\"/home/manabu/.julia-1.7.3\""
      ]
     },
     "execution_count": 2,
     "metadata": {},
     "output_type": "execute_result"
    }
   ],
   "source": [
    "ENV[\"JULIA_DEPOT_PATH\"]"
   ]
  },
  {
   "cell_type": "markdown",
   "id": "7a7a22fd",
   "metadata": {},
   "source": [
    "---"
   ]
  },
  {
   "cell_type": "code",
   "execution_count": 8,
   "id": "8df1ba87",
   "metadata": {},
   "outputs": [],
   "source": [
    "#import Pkg; Pkg.add(\"Clang\")\n",
    "using Clang.Generators"
   ]
  },
  {
   "cell_type": "code",
   "execution_count": 5,
   "id": "34dc727f",
   "metadata": {},
   "outputs": [
    {
     "name": "stdout",
     "output_type": "stream",
     "text": [
      "\u001b[32m\u001b[1m      Status\u001b[22m\u001b[39m `~/.julia-1.7.3/environments/v1.7/Project.toml`\n",
      " \u001b[90m [40e3b903] \u001b[39mClang v0.15.8\n"
     ]
    }
   ],
   "source": [
    "using Pkg\n",
    "Pkg.status(\"Clang\")"
   ]
  },
  {
   "cell_type": "markdown",
   "id": "9779aa7e",
   "metadata": {},
   "source": [
    "* `ve_offload/libveo.toml` を用意する\n",
    "  - 空の`[general]`のみ"
   ]
  },
  {
   "cell_type": "code",
   "execution_count": 15,
   "id": "705098dc",
   "metadata": {},
   "outputs": [
    {
     "data": {
      "text/plain": [
       "Dict{String, Any} with 1 entry:\n",
       "  \"general\" => Dict{String, Any}()"
      ]
     },
     "execution_count": 15,
     "metadata": {},
     "output_type": "execute_result"
    }
   ],
   "source": [
    "options = load_options(joinpath(@__DIR__, \"ve_offload/libveo.toml\"))"
   ]
  },
  {
   "cell_type": "code",
   "execution_count": 18,
   "id": "a69a0e7e",
   "metadata": {},
   "outputs": [],
   "source": [
    "options[\"general\"][\"output_file_path\"] = joinpath(@__DIR__, \"ve_offload/libveo.jl\");\n",
    "options[\"general\"][\"library_name\"] = \"libveo\";"
   ]
  },
  {
   "cell_type": "code",
   "execution_count": 19,
   "id": "a29b6c50",
   "metadata": {},
   "outputs": [
    {
     "name": "stderr",
     "output_type": "stream",
     "text": [
      "\u001b[32m\u001b[1m Downloading\u001b[22m\u001b[39m artifact: GCCBootstrap-x86_64-linux-gnu.v4.8.5.x86_64-linux-musl.unpacked\n",
      "┌ Info: Found dependent header: /opt/nec/ve/veos/include/veo_hmem.h\n",
      "└ @ Clang.Generators /home/manabu/.julia-1.7.3/packages/Clang/fCHPL/src/generator/context.jl:66\n",
      "┌ Info: Parsing headers...\n",
      "└ @ Clang.Generators /home/manabu/.julia-1.7.3/packages/Clang/fCHPL/src/generator/context.jl:88\n"
     ]
    },
    {
     "data": {
      "text/plain": [
       "Context(...)"
      ]
     },
     "execution_count": 19,
     "metadata": {},
     "output_type": "execute_result"
    }
   ],
   "source": [
    "ctx = create_context(\"/opt/nec/ve/veos/include/ve_offload.h\", get_default_args(), options)"
   ]
  },
  {
   "cell_type": "code",
   "execution_count": 20,
   "id": "6b3c5203",
   "metadata": {},
   "outputs": [
    {
     "name": "stderr",
     "output_type": "stream",
     "text": [
      "┌ Info: Processing header: /opt/nec/ve/veos/include/ve_offload.h\n",
      "└ @ Clang.Generators /home/manabu/.julia-1.7.3/packages/Clang/fCHPL/src/generator/passes.jl:33\n",
      "┌ Info: Building the DAG...\n",
      "└ @ Clang.Generators /home/manabu/.julia-1.7.3/packages/Clang/fCHPL/src/generator/context.jl:162\n",
      "┌ Info: Emit Julia expressions...\n",
      "└ @ Clang.Generators /home/manabu/.julia-1.7.3/packages/Clang/fCHPL/src/generator/context.jl:163\n",
      "┌ Info: [ProloguePrinter]: print to /home/manabu/SX-Aurora_TSUBASA/Julia/doc/ve_offload/libveo.jl\n",
      "└ @ Clang.Generators /home/manabu/.julia-1.7.3/packages/Clang/fCHPL/src/generator/passes.jl:1022\n",
      "┌ Info: [GeneralPrinter]: print to /home/manabu/SX-Aurora_TSUBASA/Julia/doc/ve_offload/libveo.jl\n",
      "└ @ Clang.Generators /home/manabu/.julia-1.7.3/packages/Clang/fCHPL/src/generator/passes.jl:948\n",
      "┌ Info: [EpiloguePrinter]: print to /home/manabu/SX-Aurora_TSUBASA/Julia/doc/ve_offload/libveo.jl\n",
      "└ @ Clang.Generators /home/manabu/.julia-1.7.3/packages/Clang/fCHPL/src/generator/passes.jl:1086\n",
      "┌ Info: Done!\n",
      "└ @ Clang.Generators /home/manabu/.julia-1.7.3/packages/Clang/fCHPL/src/generator/context.jl:171\n"
     ]
    },
    {
     "data": {
      "text/plain": [
       "Context(...)"
      ]
     },
     "execution_count": 20,
     "metadata": {},
     "output_type": "execute_result"
    }
   ],
   "source": [
    "build!(ctx)"
   ]
  },
  {
   "cell_type": "markdown",
   "id": "72c19a34",
   "metadata": {},
   "source": [
    "## using `libveo.jl`"
   ]
  },
  {
   "cell_type": "code",
   "execution_count": 23,
   "id": "7be7280a",
   "metadata": {},
   "outputs": [],
   "source": [
    "#import Pkg; Pkg.add(\"CEnum\")\n",
    "using CEnum"
   ]
  },
  {
   "cell_type": "code",
   "execution_count": 6,
   "id": "f3e2ab0a",
   "metadata": {},
   "outputs": [
    {
     "name": "stdout",
     "output_type": "stream",
     "text": [
      "\u001b[32m\u001b[1m      Status\u001b[22m\u001b[39m `~/.julia-1.7.3/environments/v1.7/Project.toml`\n",
      " \u001b[90m [fa961155] \u001b[39mCEnum v0.4.2\n"
     ]
    }
   ],
   "source": [
    "using Pkg\n",
    "Pkg.status(\"CEnum\")"
   ]
  },
  {
   "cell_type": "code",
   "execution_count": 7,
   "id": "c99c6c7b",
   "metadata": {},
   "outputs": [
    {
     "data": {
      "text/plain": [
       "\"/opt/nec/ve/veos/lib64/libveo.so.1\""
      ]
     },
     "execution_count": 7,
     "metadata": {},
     "output_type": "execute_result"
    }
   ],
   "source": [
    "using Libdl\n",
    "const libveo = Libdl.find_library(\"libveo.so.1\", [\"/opt/nec/ve/veos/lib64\"])"
   ]
  },
  {
   "cell_type": "code",
   "execution_count": 8,
   "id": "7666b64e",
   "metadata": {},
   "outputs": [],
   "source": [
    "include(\"ve_offload/libveo.jl\");"
   ]
  },
  {
   "cell_type": "code",
   "execution_count": 9,
   "id": "5f4b61fa",
   "metadata": {},
   "outputs": [
    {
     "data": {
      "text/plain": [
       "Ptr{veo_proc_handle} @0x000000000205d3d0"
      ]
     },
     "execution_count": 9,
     "metadata": {},
     "output_type": "execute_result"
    }
   ],
   "source": [
    "p = veo_proc_create(0)"
   ]
  },
  {
   "cell_type": "markdown",
   "id": "8ca866ce",
   "metadata": {},
   "source": [
    "* `libveo` を使うNLCPyとの互換性に配慮して、この`libveo.jl`は使わない･･･\n",
    "  - `veo = pyimport(\"nlcpy.veo\")`で同様の操作が可能"
   ]
  },
  {
   "cell_type": "markdown",
   "id": "05c3a2f4",
   "metadata": {},
   "source": [
    "---"
   ]
  },
  {
   "cell_type": "code",
   "execution_count": 10,
   "id": "ad5591e5",
   "metadata": {},
   "outputs": [
    {
     "data": {
      "text/plain": [
       "Ptr{veo_thr_ctxt} @0x0000000002099390"
      ]
     },
     "execution_count": 10,
     "metadata": {},
     "output_type": "execute_result"
    }
   ],
   "source": [
    "ctx = veo_context_open(p)"
   ]
  },
  {
   "cell_type": "code",
   "execution_count": 11,
   "id": "4490dc26",
   "metadata": {},
   "outputs": [
    {
     "name": "stdout",
     "output_type": "stream",
     "text": [
      "[VE] ERROR: loadlib_handler() dlerror: ./_test.so: cannot open shared object file: No such file or directory\n"
     ]
    },
    {
     "data": {
      "text/plain": [
       "0x0000000000000000"
      ]
     },
     "execution_count": 11,
     "metadata": {},
     "output_type": "execute_result"
    }
   ],
   "source": [
    "res = veo_load_library(p, \"./_test.so\")"
   ]
  },
  {
   "cell_type": "code",
   "execution_count": null,
   "id": "1a253506",
   "metadata": {},
   "outputs": [],
   "source": [
    "fun = veo_get_sym(p, res, \"do_sleep\")"
   ]
  },
  {
   "cell_type": "code",
   "execution_count": 12,
   "id": "151cd27f",
   "metadata": {},
   "outputs": [
    {
     "data": {
      "text/plain": [
       "Ptr{veo_args} @0x0000000002337af0"
      ]
     },
     "execution_count": 12,
     "metadata": {},
     "output_type": "execute_result"
    }
   ],
   "source": [
    "args = veo_args_alloc()"
   ]
  },
  {
   "cell_type": "code",
   "execution_count": 13,
   "id": "e8730158",
   "metadata": {},
   "outputs": [
    {
     "data": {
      "text/plain": [
       "0"
      ]
     },
     "execution_count": 13,
     "metadata": {},
     "output_type": "execute_result"
    }
   ],
   "source": [
    "veo_args_set_i64(args, 0, 7)"
   ]
  },
  {
   "cell_type": "markdown",
   "id": "0e946cb3",
   "metadata": {},
   "source": [
    "* Passing Pointers for Modifying Inputs\n",
    "  - [Calling C and Fortran Code · The Julia Language](http://gensoft.pasteur.fr/docs/julia/1.4.1/manual/calling-c-and-fortran-code.html#Passing-Pointers-for-Modifying-Inputs-1)"
   ]
  },
  {
   "cell_type": "code",
   "execution_count": 14,
   "id": "cc76d922",
   "metadata": {},
   "outputs": [
    {
     "data": {
      "text/plain": [
       "Base.RefValue{UInt64}(0x0000000000000000)"
      ]
     },
     "execution_count": 14,
     "metadata": {},
     "output_type": "execute_result"
    }
   ],
   "source": [
    "ret = Ref{UInt64}(0)"
   ]
  },
  {
   "cell_type": "code",
   "execution_count": 2,
   "id": "660008f6",
   "metadata": {},
   "outputs": [],
   "source": [
    "req = veo_call_async(ctx, fun, args)\n",
    "veo_call_wait_result(ctx, req, ret)"
   ]
  },
  {
   "cell_type": "markdown",
   "id": "d663d1c0",
   "metadata": {},
   "source": [
    "* Juliaは `stdout` を吸収してしまう･･･"
   ]
  },
  {
   "cell_type": "code",
   "execution_count": null,
   "id": "53e17e1e",
   "metadata": {},
   "outputs": [],
   "source": []
  }
 ],
 "metadata": {
  "kernelspec": {
   "display_name": "Julia 1.7.3",
   "language": "julia",
   "name": "julia-1.7"
  },
  "language_info": {
   "file_extension": ".jl",
   "mimetype": "application/julia",
   "name": "julia",
   "version": "1.7.3"
  }
 },
 "nbformat": 4,
 "nbformat_minor": 5
}
