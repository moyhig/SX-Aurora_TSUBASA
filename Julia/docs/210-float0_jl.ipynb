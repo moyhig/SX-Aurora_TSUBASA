{
 "cells": [
  {
   "cell_type": "markdown",
   "id": "e17d4c33-bf24-4360-9d46-2eff446967ee",
   "metadata": {
    "tags": []
   },
   "source": [
    "# Float(0)"
   ]
  },
  {
   "cell_type": "code",
   "execution_count": 1,
   "id": "c92a9877-868d-471a-88f5-8adee2865187",
   "metadata": {},
   "outputs": [
    {
     "name": "stdout",
     "output_type": "stream",
     "text": [
      "Julia Version 1.7.3\n",
      "Commit 742b9abb4d (2022-05-06 12:58 UTC)\n",
      "Platform Info:\n",
      "  OS: Linux (x86_64-redhat-linux)\n",
      "  CPU: Intel(R) Xeon(R) Gold 6226 CPU @ 2.70GHz\n",
      "  WORD_SIZE: 64\n",
      "  LIBM: libopenlibm\n",
      "  LLVM: libLLVM-12.0.1 (ORCJIT, cascadelake)\n",
      "Environment:\n",
      "  JULIA_DEPOT_PATH = /home/manabu/.julia-1.7.3\n",
      "  JULIA_NUM_THREADS = 12\n"
     ]
    }
   ],
   "source": [
    "versioninfo()"
   ]
  },
  {
   "cell_type": "markdown",
   "id": "915d1fbd-24e3-4524-92a6-9b86963aa478",
   "metadata": {},
   "source": [
    "---"
   ]
  },
  {
   "cell_type": "code",
   "execution_count": 2,
   "id": "010786c8-bcf3-4b0c-8abe-760eefbc1a2c",
   "metadata": {},
   "outputs": [
    {
     "data": {
      "text/plain": [
       "0.0"
      ]
     },
     "execution_count": 2,
     "metadata": {},
     "output_type": "execute_result"
    }
   ],
   "source": [
    "x=AbstractFloat(0)"
   ]
  },
  {
   "cell_type": "code",
   "execution_count": 4,
   "id": "2836ab79-8a6e-4a3b-9daf-fe142651728e",
   "metadata": {},
   "outputs": [
    {
     "data": {
      "text/plain": [
       "(Float64, (Float64, AbstractFloat, Real, Number, Any))"
      ]
     },
     "execution_count": 4,
     "metadata": {},
     "output_type": "execute_result"
    }
   ],
   "source": [
    "typeof(x), supertypes(typeof(x))"
   ]
  },
  {
   "cell_type": "code",
   "execution_count": 11,
   "id": "f00adada-dc1d-4e76-ac30-03a1bb94a371",
   "metadata": {},
   "outputs": [
    {
     "data": {
      "text/plain": [
       "(false, true)"
      ]
     },
     "execution_count": 11,
     "metadata": {},
     "output_type": "execute_result"
    }
   ],
   "source": [
    "Bool.((Float64(0),Float64(1)))"
   ]
  },
  {
   "cell_type": "code",
   "execution_count": 9,
   "id": "b7f37d3b-bd96-4831-8d05-ffa608d0b961",
   "metadata": {},
   "outputs": [
    {
     "data": {
      "text/plain": [
       "Float64"
      ]
     },
     "execution_count": 9,
     "metadata": {},
     "output_type": "execute_result"
    }
   ],
   "source": [
    "typeof(NaN)"
   ]
  },
  {
   "cell_type": "code",
   "execution_count": 14,
   "id": "a07b4dea-a64f-49af-b3a0-03bb46e15c13",
   "metadata": {},
   "outputs": [
    {
     "name": "stdout",
     "output_type": "stream",
     "text": [
      "InexactError(:Bool, Bool, NaN)\n"
     ]
    }
   ],
   "source": [
    "try\n",
    "    Bool(NaN)\n",
    "catch e\n",
    "    println(e)\n",
    "end"
   ]
  },
  {
   "cell_type": "markdown",
   "id": "eabf7bb7-8cd8-439b-ae2b-1455b1c2353b",
   "metadata": {
    "tags": []
   },
   "source": [
    "## `Float64` to `bitstring`"
   ]
  },
  {
   "cell_type": "markdown",
   "id": "c8e2eeb2",
   "metadata": {},
   "source": [
    "* `Base.reinterpret`\n",
    "  - [Arrays · The Julia Language](https://docs.julialang.org/en/v1/base/arrays/#Base.reinterpret)\n",
    "  - [parsing - Which is the fastest way to convert an integer to a byte array in Julia - Stack Overflow](https://stackoverflow.com/questions/70781668/which-is-the-fastest-way-to-convert-an-integer-to-a-byte-array-in-julia)\n",
    "* [Double-precision floating-point format - Wikipedia](https://en.wikipedia.org/wiki/Double-precision_floating-point_format)"
   ]
  },
  {
   "cell_type": "markdown",
   "id": "5608118f-1d83-4e33-b262-99468a5028ff",
   "metadata": {},
   "source": [
    "* [julia/bitarray.jl at master · JuliaLang/julia](https://github.com/JuliaLang/julia/blob/master/base/bitarray.jl)"
   ]
  },
  {
   "cell_type": "code",
   "execution_count": 2,
   "id": "c9c32354",
   "metadata": {},
   "outputs": [
    {
     "data": {
      "text/plain": [
       "0.0"
      ]
     },
     "execution_count": 2,
     "metadata": {},
     "output_type": "execute_result"
    }
   ],
   "source": [
    "Float64(0)"
   ]
  },
  {
   "cell_type": "code",
   "execution_count": 16,
   "id": "4d479d58",
   "metadata": {},
   "outputs": [
    {
     "data": {
      "text/plain": [
       "8-element reinterpret(UInt8, ::Vector{Float64}):\n",
       " 0x00\n",
       " 0x00\n",
       " 0x00\n",
       " 0x00\n",
       " 0x00\n",
       " 0x00\n",
       " 0x00\n",
       " 0x00"
      ]
     },
     "execution_count": 16,
     "metadata": {},
     "output_type": "execute_result"
    }
   ],
   "source": [
    "reinterpret(UInt8, Float64[0])"
   ]
  },
  {
   "cell_type": "code",
   "execution_count": 17,
   "id": "0b5057b0-d51d-4473-888c-eda7adc86323",
   "metadata": {},
   "outputs": [
    {
     "data": {
      "text/plain": [
       "1-element reinterpret(UInt64, ::Vector{Float64}):\n",
       " 0x0000000000000000"
      ]
     },
     "execution_count": 17,
     "metadata": {},
     "output_type": "execute_result"
    }
   ],
   "source": [
    "reinterpret(UInt64, Float64[0])"
   ]
  },
  {
   "cell_type": "code",
   "execution_count": 4,
   "id": "c078d0df-f77a-4498-bf3a-939913d3a1c4",
   "metadata": {},
   "outputs": [
    {
     "data": {
      "text/plain": [
       "10-element Vector{Float64}:\n",
       " 0.0\n",
       " 1.0\n",
       " 2.0\n",
       " 3.0\n",
       " 4.0\n",
       " 5.0\n",
       " 6.0\n",
       " 7.0\n",
       " 8.0\n",
       " 9.0"
      ]
     },
     "execution_count": 4,
     "metadata": {},
     "output_type": "execute_result"
    }
   ],
   "source": [
    "Float64[0:9;]"
   ]
  },
  {
   "cell_type": "code",
   "execution_count": 20,
   "id": "d9aca342-a882-4d82-a9b0-90d059796ac1",
   "metadata": {},
   "outputs": [
    {
     "data": {
      "text/plain": [
       "8×10 reshape(reinterpret(UInt8, ::Vector{Float64}), 8, 10) with eltype UInt8:\n",
       " 0x00  0x00  0x00  0x00  0x00  0x00  0x00  0x00  0x00  0x00\n",
       " 0x00  0x00  0x00  0x00  0x00  0x00  0x00  0x00  0x00  0x00\n",
       " 0x00  0x00  0x00  0x00  0x00  0x00  0x00  0x00  0x00  0x00\n",
       " 0x00  0x00  0x00  0x00  0x00  0x00  0x00  0x00  0x00  0x00\n",
       " 0x00  0x00  0x00  0x00  0x00  0x00  0x00  0x00  0x00  0x00\n",
       " 0x00  0x00  0x00  0x00  0x00  0x00  0x00  0x00  0x00  0x00\n",
       " 0x00  0xf0  0x00  0x08  0x10  0x14  0x18  0x1c  0x20  0x22\n",
       " 0x00  0x3f  0x40  0x40  0x40  0x40  0x40  0x40  0x40  0x40"
      ]
     },
     "execution_count": 20,
     "metadata": {},
     "output_type": "execute_result"
    }
   ],
   "source": [
    "reshape(reinterpret(UInt8, Float64[0:9;]),(8,10))"
   ]
  },
  {
   "cell_type": "code",
   "execution_count": 5,
   "id": "16326dca-b9ae-4831-890b-76572cdb3730",
   "metadata": {},
   "outputs": [
    {
     "data": {
      "text/plain": [
       "10-element reinterpret(UInt64, ::Vector{Float64}):\n",
       " 0x0000000000000000\n",
       " 0x3ff0000000000000\n",
       " 0x4000000000000000\n",
       " 0x4008000000000000\n",
       " 0x4010000000000000\n",
       " 0x4014000000000000\n",
       " 0x4018000000000000\n",
       " 0x401c000000000000\n",
       " 0x4020000000000000\n",
       " 0x4022000000000000"
      ]
     },
     "execution_count": 5,
     "metadata": {},
     "output_type": "execute_result"
    }
   ],
   "source": [
    "reinterpret(UInt64, Float64[0:9;])"
   ]
  },
  {
   "cell_type": "code",
   "execution_count": 23,
   "id": "7b482775",
   "metadata": {},
   "outputs": [
    {
     "name": "stdout",
     "output_type": "stream",
     "text": [
      "0000000000000000000000000000000000000000000000000000000000000000\n",
      "0011111111110000000000000000000000000000000000000000000000000000\n",
      "0100000000000000000000000000000000000000000000000000000000000000\n",
      "0100000000001000000000000000000000000000000000000000000000000000\n",
      "0100000000010000000000000000000000000000000000000000000000000000\n",
      "0100000000010100000000000000000000000000000000000000000000000000\n",
      "0100000000011000000000000000000000000000000000000000000000000000\n",
      "0100000000011100000000000000000000000000000000000000000000000000\n",
      "0100000000100000000000000000000000000000000000000000000000000000\n",
      "0100000000100010000000000000000000000000000000000000000000000000\n"
     ]
    }
   ],
   "source": [
    "for x in 0:9\n",
    "    println(bitstring(reinterpret(UInt64, Float64(x))))\n",
    "end"
   ]
  },
  {
   "cell_type": "markdown",
   "id": "e25260fb-0e68-4f4a-a9eb-f369a3d2c988",
   "metadata": {
    "tags": []
   },
   "source": [
    "## `BitVector`"
   ]
  },
  {
   "cell_type": "markdown",
   "id": "52054b81-ab55-48a0-ac73-95fe1cc45b39",
   "metadata": {
    "tags": []
   },
   "source": [
    "* [julia - Convert an array of UInt64 into a BitVector - Stack Overflow](https://stackoverflow.com/questions/50459690/convert-an-array-of-uint64-into-a-bitvector)\n",
    "* [I have: Vector{UInt8}. I need: BitVector - General Usage - JuliaLang](https://discourse.julialang.org/t/i-have-vector-uint8-i-need-bitvector/2286)"
   ]
  },
  {
   "cell_type": "code",
   "execution_count": 15,
   "id": "d04a14bf-f055-4d60-b2f4-5bdb0d2d02ea",
   "metadata": {},
   "outputs": [],
   "source": [
    "#x=Array{Bool,1}(undef,64);\n",
    "#fill!(x,0);"
   ]
  },
  {
   "cell_type": "code",
   "execution_count": 52,
   "id": "a998afd9-ad69-4841-a2ea-e09b662be641",
   "metadata": {},
   "outputs": [
    {
     "data": {
      "text/plain": [
       "1×64 adjoint(::BitVector) with eltype Bool:\n",
       " 0  0  0  0  0  0  0  0  0  0  0  0  0  …  0  0  0  0  0  0  0  0  0  0  0  0"
      ]
     },
     "execution_count": 52,
     "metadata": {},
     "output_type": "execute_result"
    }
   ],
   "source": [
    "bv = BitVector(zeros(Bool, 64));\n",
    "bv'"
   ]
  },
  {
   "cell_type": "code",
   "execution_count": 9,
   "id": "8f5d1b91-8841-4f57-a50e-4bc47fe000ec",
   "metadata": {},
   "outputs": [
    {
     "data": {
      "text/plain": [
       "0xfbe43ba679056ffc"
      ]
     },
     "execution_count": 9,
     "metadata": {},
     "output_type": "execute_result"
    }
   ],
   "source": [
    "bv.chunks[1]=bitreverse(reinterpret(UInt64, Float64(1.41421356)))"
   ]
  },
  {
   "cell_type": "code",
   "execution_count": 13,
   "id": "22819474-7724-43e7-bbee-9ca0094ccfa8",
   "metadata": {},
   "outputs": [
    {
     "data": {
      "text/plain": [
       "1-element Vector{UInt64}:\n",
       " 0xfbe43ba679056ffc"
      ]
     },
     "execution_count": 13,
     "metadata": {},
     "output_type": "execute_result"
    }
   ],
   "source": [
    "bv.chunks"
   ]
  },
  {
   "cell_type": "code",
   "execution_count": 14,
   "id": "6483801c-d775-4cd0-b5c8-5f2a83d1eba6",
   "metadata": {},
   "outputs": [
    {
     "data": {
      "text/plain": [
       "0x3ff6a09e65dc27df"
      ]
     },
     "execution_count": 14,
     "metadata": {},
     "output_type": "execute_result"
    }
   ],
   "source": [
    "bitreverse(bv.chunks[1])"
   ]
  },
  {
   "cell_type": "code",
   "execution_count": 15,
   "id": "55d9579c-b976-4be7-8753-d3efb66a5b70",
   "metadata": {},
   "outputs": [
    {
     "data": {
      "text/plain": [
       "\"0011111111110110101000001001111001100101110111000010011111011111\""
      ]
     },
     "execution_count": 15,
     "metadata": {},
     "output_type": "execute_result"
    }
   ],
   "source": [
    "join(Int.(bv))"
   ]
  },
  {
   "cell_type": "code",
   "execution_count": 16,
   "id": "2fba7467-465b-4801-8f64-725e698fb853",
   "metadata": {},
   "outputs": [
    {
     "data": {
      "text/plain": [
       "\"0011111111110110101000001001111001100101110111000010011111011111\""
      ]
     },
     "execution_count": 16,
     "metadata": {},
     "output_type": "execute_result"
    }
   ],
   "source": [
    "bs=bitstring(reinterpret(UInt64, Float64(1.41421356)))"
   ]
  },
  {
   "cell_type": "markdown",
   "id": "2c2cc5ba-36c6-43b6-bb84-61a5f7a81fd3",
   "metadata": {
    "tags": []
   },
   "source": [
    "## exponent, significand"
   ]
  },
  {
   "cell_type": "code",
   "execution_count": 17,
   "id": "6732c557-e438-4ea7-b152-baaf47e3e83e",
   "metadata": {},
   "outputs": [
    {
     "data": {
      "text/plain": [
       "\"0011111111110110101000001001111001100101110111000010011111011111\""
      ]
     },
     "execution_count": 17,
     "metadata": {},
     "output_type": "execute_result"
    }
   ],
   "source": [
    "bs"
   ]
  },
  {
   "cell_type": "code",
   "execution_count": 337,
   "id": "29307311-1df8-4c0a-9572-e60610f9e3e2",
   "metadata": {},
   "outputs": [],
   "source": [
    "#x = Vector{Char}(bs) .|> (x)->parse(Bool,x);"
   ]
  },
  {
   "cell_type": "code",
   "execution_count": 338,
   "id": "7d8d8960-db70-4966-abcf-7c7e1f88379e",
   "metadata": {},
   "outputs": [],
   "source": [
    "#x = split(bs,\"\") .|> (x)->parse(Bool, x);"
   ]
  },
  {
   "cell_type": "code",
   "execution_count": 18,
   "id": "a272220e-d297-4b0e-8ac1-558c25b80a7c",
   "metadata": {},
   "outputs": [],
   "source": [
    "x=unsafe_wrap(Vector{UInt8}, pointer(bs), ncodeunits(bs)) .|> (x)->parse(Bool, Char(x));"
   ]
  },
  {
   "cell_type": "code",
   "execution_count": 19,
   "id": "5a936143-11db-4bf1-a1f1-d2ec08c87a9b",
   "metadata": {},
   "outputs": [
    {
     "data": {
      "text/plain": [
       "1×11 adjoint(::BitVector) with eltype Bool:\n",
       " 0  1  1  1  1  1  1  1  1  1  1"
      ]
     },
     "execution_count": 19,
     "metadata": {},
     "output_type": "execute_result"
    }
   ],
   "source": [
    "x[2:12]'"
   ]
  },
  {
   "cell_type": "code",
   "execution_count": 20,
   "id": "9c0ebeb6-4629-42c4-8f74-cc86fa9c123c",
   "metadata": {},
   "outputs": [
    {
     "data": {
      "text/plain": [
       "1×52 adjoint(::BitVector) with eltype Bool:\n",
       " 0  1  1  0  1  0  1  0  0  0  0  0  1  …  0  1  1  1  1  1  0  1  1  1  1  1"
      ]
     },
     "execution_count": 20,
     "metadata": {},
     "output_type": "execute_result"
    }
   ],
   "source": [
    "x[13:end]'"
   ]
  },
  {
   "cell_type": "code",
   "execution_count": 21,
   "id": "e3fda64a-29ce-4bdb-9b72-06e4c6e86cde",
   "metadata": {},
   "outputs": [],
   "source": [
    "using LinearAlgebra"
   ]
  },
  {
   "cell_type": "code",
   "execution_count": 22,
   "id": "7d382434-c938-41c3-bee7-fe028fa24cb2",
   "metadata": {},
   "outputs": [
    {
     "data": {
      "text/plain": [
       "0"
      ]
     },
     "execution_count": 22,
     "metadata": {},
     "output_type": "execute_result"
    }
   ],
   "source": [
    "e=dot(x[2:12], (2).^[10:-1:0;]) - 2^10 + 1"
   ]
  },
  {
   "cell_type": "code",
   "execution_count": 23,
   "id": "e3613e2c-e9c5-4e93-b593-abde3486aa97",
   "metadata": {},
   "outputs": [
    {
     "data": {
      "text/plain": [
       "1.41421356"
      ]
     },
     "execution_count": 23,
     "metadata": {},
     "output_type": "execute_result"
    }
   ],
   "source": [
    "s=dot(x[13:end], (2.).^[-1:-1:-52;]) + 1"
   ]
  },
  {
   "cell_type": "code",
   "execution_count": 24,
   "id": "1768216a-e2d1-48bd-af55-7a87a4ee21be",
   "metadata": {},
   "outputs": [
    {
     "data": {
      "text/plain": [
       "1.41421356"
      ]
     },
     "execution_count": 24,
     "metadata": {},
     "output_type": "execute_result"
    }
   ],
   "source": [
    "2^e * s"
   ]
  },
  {
   "cell_type": "markdown",
   "id": "20e0a3f1-9914-4511-bbbb-e3a11b63cd67",
   "metadata": {},
   "source": [
    "### Julia essentials"
   ]
  },
  {
   "cell_type": "code",
   "execution_count": 25,
   "id": "96c36e7f",
   "metadata": {},
   "outputs": [
    {
     "data": {
      "text/plain": [
       "([1.0, 1.0, 1.5, 1.0, 1.25, 1.5, 1.75, 1.0, 1.125], [0, 1, 1, 2, 2, 2, 2, 3, 3])"
      ]
     },
     "execution_count": 25,
     "metadata": {},
     "output_type": "execute_result"
    }
   ],
   "source": [
    "Float64[1:9;] |> (x)->(significand.(x), exponent.(x))"
   ]
  },
  {
   "cell_type": "code",
   "execution_count": 26,
   "id": "b6b894a5",
   "metadata": {},
   "outputs": [
    {
     "name": "stdout",
     "output_type": "stream",
     "text": [
      "(e, s, 2 ^ e * s) = (0, 1.0, 1.0)\n",
      "(e, s, 2 ^ e * s) = (1, 1.0, 2.0)\n",
      "(e, s, 2 ^ e * s) = (1, 1.5, 3.0)\n",
      "(e, s, 2 ^ e * s) = (2, 1.0, 4.0)\n",
      "(e, s, 2 ^ e * s) = (2, 1.25, 5.0)\n",
      "(e, s, 2 ^ e * s) = (2, 1.5, 6.0)\n",
      "(e, s, 2 ^ e * s) = (2, 1.75, 7.0)\n",
      "(e, s, 2 ^ e * s) = (3, 1.0, 8.0)\n",
      "(e, s, 2 ^ e * s) = (3, 1.125, 9.0)\n"
     ]
    }
   ],
   "source": [
    "for (s,e) in Float64[1:9;] |> (x)->zip(significand.(x), exponent.(x))\n",
    "    @show e, s, 2^e*s\n",
    "end"
   ]
  },
  {
   "cell_type": "code",
   "execution_count": null,
   "id": "1bc12b42",
   "metadata": {},
   "outputs": [],
   "source": []
  },
  {
   "cell_type": "code",
   "execution_count": null,
   "id": "8b45b10e-ec2e-4c9e-9cf4-e1596e2139fa",
   "metadata": {},
   "outputs": [],
   "source": []
  },
  {
   "cell_type": "code",
   "execution_count": null,
   "id": "f3a787fd-24ea-47db-b3f6-0b2840e3b31c",
   "metadata": {},
   "outputs": [],
   "source": []
  },
  {
   "cell_type": "markdown",
   "id": "c9292782-afce-4c2c-9c5a-0eea40c0056a",
   "metadata": {
    "tags": []
   },
   "source": [
    "## Workarounds"
   ]
  },
  {
   "cell_type": "markdown",
   "id": "0a16dac9-972e-434e-9121-3ab3b2f3dcd1",
   "metadata": {},
   "source": [
    "* [FAQ: ReinterpretArray vs unsafe_wrap - General Usage - JuliaLang](https://discourse.julialang.org/t/faq-reinterpretarray-vs-unsafe-wrap/14412/2)"
   ]
  },
  {
   "cell_type": "markdown",
   "id": "37c0ef2a-8c41-4ebf-a3ce-8435ea58b2d3",
   "metadata": {},
   "source": [
    "### `unsafe_copyto!`"
   ]
  },
  {
   "cell_type": "code",
   "execution_count": 32,
   "id": "3e8b1031-73ba-431c-b2ee-5106e8041a09",
   "metadata": {},
   "outputs": [
    {
     "data": {
      "text/plain": [
       "1×64 adjoint(::BitVector) with eltype Bool:\n",
       " 0  0  0  0  0  0  0  0  0  0  0  0  0  …  0  0  0  0  0  0  0  0  0  0  0  0"
      ]
     },
     "execution_count": 32,
     "metadata": {},
     "output_type": "execute_result"
    }
   ],
   "source": [
    "bv = BitVector(zeros(Int8, 64));\n",
    "bv'"
   ]
  },
  {
   "cell_type": "code",
   "execution_count": 39,
   "id": "8815d738-fab2-4154-8508-d7703d797e58",
   "metadata": {},
   "outputs": [
    {
     "data": {
      "text/plain": [
       "(Ptr{UInt64} @0x00007f9d45d76740, 8)"
      ]
     },
     "execution_count": 39,
     "metadata": {},
     "output_type": "execute_result"
    }
   ],
   "source": [
    "#Vector{UInt64}()\n",
    "c=[bitreverse(reinterpret(UInt64, Float64(3.14)))]\n",
    "pointer(c), sizeof(c)"
   ]
  },
  {
   "cell_type": "code",
   "execution_count": 40,
   "id": "cc251de2-f60c-44ea-bc22-9efe60d194a6",
   "metadata": {},
   "outputs": [
    {
     "data": {
      "text/plain": [
       "(Vector{UInt64}, Ptr{UInt64} @0x00007f9d470cc340)"
      ]
     },
     "execution_count": 40,
     "metadata": {},
     "output_type": "execute_result"
    }
   ],
   "source": [
    "typeof(bv.chunks), pointer(bv.chunks)"
   ]
  },
  {
   "cell_type": "code",
   "execution_count": 41,
   "id": "f6354bd9-508d-483a-8336-a82e0ad51232",
   "metadata": {},
   "outputs": [
    {
     "data": {
      "text/plain": [
       "1-element Vector{UInt64}:\n",
       " 0xf8a1d78a1d789002"
      ]
     },
     "execution_count": 41,
     "metadata": {},
     "output_type": "execute_result"
    }
   ],
   "source": [
    "Base.unsafe_copyto!(pointer(bv.chunks), pointer(c), sizeof(c))\n",
    "bv.chunks"
   ]
  },
  {
   "cell_type": "code",
   "execution_count": 46,
   "id": "12c7b6c7-07b6-4423-9794-7f4364a49b67",
   "metadata": {},
   "outputs": [
    {
     "data": {
      "text/plain": [
       "\"0100000000001001000111101011100001010001111010111000010100011111\""
      ]
     },
     "execution_count": 46,
     "metadata": {},
     "output_type": "execute_result"
    }
   ],
   "source": [
    "join(Int.(bv))"
   ]
  },
  {
   "cell_type": "markdown",
   "id": "51119fce-c029-4fe3-a58b-705316d65758",
   "metadata": {},
   "source": [
    "### `unsafe_wrap`"
   ]
  },
  {
   "cell_type": "code",
   "execution_count": 27,
   "id": "059258f5-b763-4cf8-8dcb-4a5767833bd9",
   "metadata": {},
   "outputs": [
    {
     "data": {
      "text/plain": [
       "\"0011111111110110101000001001111001100101110111000010011111011111\""
      ]
     },
     "execution_count": 27,
     "metadata": {},
     "output_type": "execute_result"
    }
   ],
   "source": [
    "bs=bitstring(reinterpret(UInt64, Float64(1.41421356)))"
   ]
  },
  {
   "cell_type": "code",
   "execution_count": 48,
   "id": "8f1186c6-d297-47ce-9078-8098a43ad67c",
   "metadata": {},
   "outputs": [
    {
     "data": {
      "text/plain": [
       "64-element Vector{Char}:\n",
       " '0': ASCII/Unicode U+0030 (category Nd: Number, decimal digit)\n",
       " '0': ASCII/Unicode U+0030 (category Nd: Number, decimal digit)\n",
       " '1': ASCII/Unicode U+0031 (category Nd: Number, decimal digit)\n",
       " '1': ASCII/Unicode U+0031 (category Nd: Number, decimal digit)\n",
       " '1': ASCII/Unicode U+0031 (category Nd: Number, decimal digit)\n",
       " '1': ASCII/Unicode U+0031 (category Nd: Number, decimal digit)\n",
       " '1': ASCII/Unicode U+0031 (category Nd: Number, decimal digit)\n",
       " '1': ASCII/Unicode U+0031 (category Nd: Number, decimal digit)\n",
       " '1': ASCII/Unicode U+0031 (category Nd: Number, decimal digit)\n",
       " '1': ASCII/Unicode U+0031 (category Nd: Number, decimal digit)\n",
       " '1': ASCII/Unicode U+0031 (category Nd: Number, decimal digit)\n",
       " '1': ASCII/Unicode U+0031 (category Nd: Number, decimal digit)\n",
       " '0': ASCII/Unicode U+0030 (category Nd: Number, decimal digit)\n",
       " ⋮\n",
       " '0': ASCII/Unicode U+0030 (category Nd: Number, decimal digit)\n",
       " '1': ASCII/Unicode U+0031 (category Nd: Number, decimal digit)\n",
       " '1': ASCII/Unicode U+0031 (category Nd: Number, decimal digit)\n",
       " '1': ASCII/Unicode U+0031 (category Nd: Number, decimal digit)\n",
       " '1': ASCII/Unicode U+0031 (category Nd: Number, decimal digit)\n",
       " '1': ASCII/Unicode U+0031 (category Nd: Number, decimal digit)\n",
       " '0': ASCII/Unicode U+0030 (category Nd: Number, decimal digit)\n",
       " '1': ASCII/Unicode U+0031 (category Nd: Number, decimal digit)\n",
       " '1': ASCII/Unicode U+0031 (category Nd: Number, decimal digit)\n",
       " '1': ASCII/Unicode U+0031 (category Nd: Number, decimal digit)\n",
       " '1': ASCII/Unicode U+0031 (category Nd: Number, decimal digit)\n",
       " '1': ASCII/Unicode U+0031 (category Nd: Number, decimal digit)"
      ]
     },
     "execution_count": 48,
     "metadata": {},
     "output_type": "execute_result"
    }
   ],
   "source": [
    "xs = Vector{Char}(bs)"
   ]
  },
  {
   "cell_type": "code",
   "execution_count": 50,
   "id": "1626ae58-806f-425e-813a-ea2dd8f4fcb3",
   "metadata": {},
   "outputs": [
    {
     "data": {
      "text/plain": [
       "64-element Vector{UInt8}:\n",
       " 0x30\n",
       " 0x30\n",
       " 0x31\n",
       " 0x31\n",
       " 0x31\n",
       " 0x31\n",
       " 0x31\n",
       " 0x31\n",
       " 0x31\n",
       " 0x31\n",
       " 0x31\n",
       " 0x31\n",
       " 0x30\n",
       "    ⋮\n",
       " 0x30\n",
       " 0x31\n",
       " 0x31\n",
       " 0x31\n",
       " 0x31\n",
       " 0x31\n",
       " 0x30\n",
       " 0x31\n",
       " 0x31\n",
       " 0x31\n",
       " 0x31\n",
       " 0x31"
      ]
     },
     "execution_count": 50,
     "metadata": {},
     "output_type": "execute_result"
    }
   ],
   "source": [
    "xs=unsafe_wrap(Vector{UInt8}, pointer(bs), ncodeunits(bs))"
   ]
  },
  {
   "cell_type": "code",
   "execution_count": null,
   "id": "c177a375-96e8-4396-824a-89b2662db27d",
   "metadata": {},
   "outputs": [],
   "source": []
  }
 ],
 "metadata": {
  "kernelspec": {
   "display_name": "Julia 1.7.3",
   "language": "julia",
   "name": "julia-1.7"
  },
  "language_info": {
   "file_extension": ".jl",
   "mimetype": "application/julia",
   "name": "julia",
   "version": "1.7.3"
  }
 },
 "nbformat": 4,
 "nbformat_minor": 5
}
