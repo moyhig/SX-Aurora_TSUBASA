{
 "cells": [
  {
   "cell_type": "markdown",
   "id": "823d9224",
   "metadata": {},
   "source": [
    "# Comparison: Julia, PyArray, NLCPy"
   ]
  },
  {
   "cell_type": "code",
   "execution_count": 1,
   "id": "fdff2067",
   "metadata": {},
   "outputs": [
    {
     "name": "stdout",
     "output_type": "stream",
     "text": [
      "Julia Version 1.7.3\n",
      "Commit 742b9abb4d (2022-05-06 12:58 UTC)\n",
      "Platform Info:\n",
      "  OS: Linux (x86_64-redhat-linux)\n",
      "  CPU: Intel(R) Xeon(R) Gold 6226 CPU @ 2.70GHz\n",
      "  WORD_SIZE: 64\n",
      "  LIBM: libopenlibm\n",
      "  LLVM: libLLVM-12.0.1 (ORCJIT, cascadelake)\n",
      "Environment:\n",
      "  JULIA_DEPOT_PATH = /home/manabu/.julia-1.7.3\n"
     ]
    }
   ],
   "source": [
    "versioninfo()"
   ]
  },
  {
   "cell_type": "markdown",
   "id": "2ea3c475",
   "metadata": {},
   "source": [
    "---"
   ]
  },
  {
   "cell_type": "code",
   "execution_count": 2,
   "id": "47047209",
   "metadata": {},
   "outputs": [],
   "source": [
    "using PyCall"
   ]
  },
  {
   "cell_type": "code",
   "execution_count": 3,
   "id": "f4d9130e",
   "metadata": {},
   "outputs": [
    {
     "name": "stdout",
     "output_type": "stream",
     "text": [
      "\u001b[32m\u001b[1m      Status\u001b[22m\u001b[39m `~/.julia-1.7.3/environments/v1.7/Project.toml`\n",
      " \u001b[90m [438e738f] \u001b[39mPyCall v1.93.1\n"
     ]
    }
   ],
   "source": [
    "using Pkg\n",
    "Pkg.status(\"PyCall\")"
   ]
  },
  {
   "cell_type": "code",
   "execution_count": 4,
   "id": "1b55a4f7",
   "metadata": {},
   "outputs": [
    {
     "data": {
      "text/plain": [
       "false"
      ]
     },
     "execution_count": 4,
     "metadata": {},
     "output_type": "execute_result"
    }
   ],
   "source": [
    "PyCall.conda"
   ]
  },
  {
   "cell_type": "code",
   "execution_count": 5,
   "id": "f21b5909",
   "metadata": {},
   "outputs": [
    {
     "data": {
      "text/plain": [
       "\"/opt/anaconda3/envs/jupyter/bin/python3\""
      ]
     },
     "execution_count": 5,
     "metadata": {},
     "output_type": "execute_result"
    }
   ],
   "source": [
    "PyCall.pyprogramname"
   ]
  },
  {
   "cell_type": "code",
   "execution_count": 6,
   "id": "b19cbce9",
   "metadata": {},
   "outputs": [
    {
     "data": {
      "text/plain": [
       "\"/opt/anaconda3/envs/jupyter/lib/libpython3.8.so.1.0\""
      ]
     },
     "execution_count": 6,
     "metadata": {},
     "output_type": "execute_result"
    }
   ],
   "source": [
    "PyCall.libpython"
   ]
  },
  {
   "cell_type": "code",
   "execution_count": 7,
   "id": "38cb2dc3",
   "metadata": {},
   "outputs": [],
   "source": [
    "np = pyimport(\"numpy\");\n",
    "vp = pyimport(\"nlcpy\");"
   ]
  },
  {
   "cell_type": "code",
   "execution_count": 8,
   "id": "eec776b0",
   "metadata": {},
   "outputs": [
    {
     "data": {
      "text/plain": [
       "\"1.23.0\""
      ]
     },
     "execution_count": 8,
     "metadata": {},
     "output_type": "execute_result"
    }
   ],
   "source": [
    "np.version.version"
   ]
  },
  {
   "cell_type": "code",
   "execution_count": 9,
   "id": "379657e3",
   "metadata": {},
   "outputs": [
    {
     "data": {
      "text/plain": [
       "\"2.1.1\""
      ]
     },
     "execution_count": 9,
     "metadata": {},
     "output_type": "execute_result"
    }
   ],
   "source": [
    "vp.__version__"
   ]
  },
  {
   "cell_type": "markdown",
   "id": "46624175",
   "metadata": {},
   "source": [
    "---"
   ]
  },
  {
   "cell_type": "code",
   "execution_count": 13,
   "id": "b56747e3",
   "metadata": {},
   "outputs": [
    {
     "name": "stdout",
     "output_type": "stream",
     "text": [
      "  0.001188 seconds (2 allocations: 7.629 MiB)\n",
      "  0.001170 seconds (2 allocations: 7.629 MiB)\n"
     ]
    }
   ],
   "source": [
    "# native\n",
    "@time x0 = rand(10^6);\n",
    "@time y0 = rand(10^6);"
   ]
  },
  {
   "cell_type": "code",
   "execution_count": 14,
   "id": "8db2e05d",
   "metadata": {},
   "outputs": [
    {
     "name": "stdout",
     "output_type": "stream",
     "text": [
      "  0.007521 seconds (19 allocations: 800 bytes)\n",
      "  0.006996 seconds (19 allocations: 800 bytes)\n"
     ]
    }
   ],
   "source": [
    "# numpy\n",
    "@time x1 = @pycall np.random.rand(10^6)::PyArray;\n",
    "@time y1 = @pycall np.random.rand(10^6)::PyArray;"
   ]
  },
  {
   "cell_type": "code",
   "execution_count": 15,
   "id": "e980427b",
   "metadata": {},
   "outputs": [
    {
     "name": "stdout",
     "output_type": "stream",
     "text": [
      "  0.000149 seconds (8 allocations: 416 bytes)\n",
      "  0.000116 seconds (8 allocations: 416 bytes)\n"
     ]
    }
   ],
   "source": [
    "# nlcpy\n",
    "@time x2 = vp.random.rand(10^6);\n",
    "@time y2 = vp.random.rand(10^6);"
   ]
  },
  {
   "cell_type": "code",
   "execution_count": 16,
   "id": "b72d2d5d",
   "metadata": {},
   "outputs": [
    {
     "data": {
      "text/plain": [
       "((1000000,), (1000000,), (1000000,))"
      ]
     },
     "execution_count": 16,
     "metadata": {},
     "output_type": "execute_result"
    }
   ],
   "source": [
    "size(x0), np.shape(x1), vp.shape(x2)"
   ]
  },
  {
   "cell_type": "code",
   "execution_count": 17,
   "id": "f29196ea",
   "metadata": {},
   "outputs": [
    {
     "data": {
      "text/plain": [
       "((1000000,), (1000000,), (1000000,))"
      ]
     },
     "execution_count": 17,
     "metadata": {},
     "output_type": "execute_result"
    }
   ],
   "source": [
    "size(y0), np.shape(y1), vp.shape(y2)"
   ]
  },
  {
   "cell_type": "markdown",
   "id": "746c36f1",
   "metadata": {},
   "source": [
    "## sum"
   ]
  },
  {
   "cell_type": "code",
   "execution_count": 21,
   "id": "83c72ddc",
   "metadata": {},
   "outputs": [
    {
     "name": "stdout",
     "output_type": "stream",
     "text": [
      "  0.002513 seconds (2 allocations: 7.629 MiB)\n"
     ]
    }
   ],
   "source": [
    "# native\n",
    "@time z0 = x0+y0;"
   ]
  },
  {
   "cell_type": "code",
   "execution_count": 22,
   "id": "f87d4b14",
   "metadata": {},
   "outputs": [
    {
     "name": "stdout",
     "output_type": "stream",
     "text": [
      "  0.002387 seconds (2 allocations: 7.629 MiB)\n"
     ]
    }
   ],
   "source": [
    "# numpy\n",
    "@time z1 = x1+y1;"
   ]
  },
  {
   "cell_type": "code",
   "execution_count": 23,
   "id": "49b47160",
   "metadata": {},
   "outputs": [
    {
     "name": "stdout",
     "output_type": "stream",
     "text": [
      "  0.000132 seconds (1 allocation: 16 bytes)\n"
     ]
    }
   ],
   "source": [
    "# nlcpy\n",
    "@time z2 = x2+y2;"
   ]
  },
  {
   "cell_type": "markdown",
   "id": "b1004172",
   "metadata": {},
   "source": [
    "## triad"
   ]
  },
  {
   "cell_type": "code",
   "execution_count": 27,
   "id": "316843ce",
   "metadata": {},
   "outputs": [
    {
     "name": "stdout",
     "output_type": "stream",
     "text": [
      "  0.003888 seconds (4 allocations: 15.259 MiB)\n"
     ]
    }
   ],
   "source": [
    "# native\n",
    "@time z0 = x0+3.14*y0;"
   ]
  },
  {
   "cell_type": "code",
   "execution_count": 28,
   "id": "a6a7d7ee",
   "metadata": {},
   "outputs": [
    {
     "name": "stdout",
     "output_type": "stream",
     "text": [
      "  0.003885 seconds (4 allocations: 15.259 MiB)\n"
     ]
    }
   ],
   "source": [
    "# numpy\n",
    "@time z1 = x1+3.14*y1;"
   ]
  },
  {
   "cell_type": "code",
   "execution_count": 29,
   "id": "19539c48",
   "metadata": {},
   "outputs": [
    {
     "name": "stdout",
     "output_type": "stream",
     "text": [
      "  0.000187 seconds (3 allocations: 48 bytes)\n"
     ]
    }
   ],
   "source": [
    "# nlcpy\n",
    "@time z2 = x2+3.14*y2;"
   ]
  },
  {
   "cell_type": "markdown",
   "id": "567ff9fb",
   "metadata": {},
   "source": [
    "### Prepare C-coded `triad()` for NLCPy"
   ]
  },
  {
   "cell_type": "code",
   "execution_count": 30,
   "id": "31e7ce8f",
   "metadata": {},
   "outputs": [
    {
     "data": {
      "text/plain": [
       "PyObject <CustomVELibrary(\n",
       "* code:\n",
       "        int ve_triad(double *px, double *py, double *pz, int n) {\n",
       "            #pragma omp parallel for\n",
       "            for (int i = 0; i  < n; i++) pz[i] = px[i] + 3.14*py[i];\n",
       "            return 0;\n",
       "        }\n",
       "\n",
       "* path: None\n",
       "* cflags:  -c -fpic -O2 -I /opt/anaconda3/envs/jupyter/lib/python3.8/site-packages/nlcpy/include -fopenmp\n",
       "* ldflags:  -fpic -shared -fopenmp\n",
       "* log_stream: None\n",
       "* compiler: /opt/nec/ve/bin/ncc\n",
       "* use_nlc: False\n",
       "* ftrace: False\n",
       "* ID: 3445858_2022-07-01.22:53:56.905138\n",
       "* src_path: /tmp/tmp6_gd4acr/3445858_2022-07-01.22:53:56.905138.c\n",
       "* obj_path: /tmp/tmp6_gd4acr/3445858_2022-07-01.22:53:56.905138.o\n",
       "* lib_path: /tmp/tmp6_gd4acr/3445858_2022-07-01.22:53:56.905138.so\n",
       "* lib: <nlcpy.veo._veo.VeoLibrary object at 0x7fd9bba06f90>\n",
       ")>"
      ]
     },
     "execution_count": 30,
     "metadata": {},
     "output_type": "execute_result"
    }
   ],
   "source": [
    "ve_lib = vp.jit.CustomVELibrary(\n",
    "    code=\"\"\"\n",
    "        int ve_triad(double *px, double *py, double *pz, int n) {\n",
    "            #pragma omp parallel for\n",
    "            for (int i = 0; i  < n; i++) pz[i] = px[i] + 3.14*py[i];\n",
    "            return 0;\n",
    "        }\n",
    "\"\"\"\n",
    ")"
   ]
  },
  {
   "cell_type": "code",
   "execution_count": 31,
   "id": "5fab04c2",
   "metadata": {},
   "outputs": [],
   "source": [
    "ve_types = pyimport(\"nlcpy.ve_types\");"
   ]
  },
  {
   "cell_type": "code",
   "execution_count": 32,
   "id": "bf141d6b",
   "metadata": {},
   "outputs": [
    {
     "data": {
      "text/plain": [
       "PyObject <CustomVEKernel(func=<VeoFunction object VE function b've_triad'('uint64_t', 'uint64_t', 'uint64_t', 'int32_t') at 0x7fd96505a580>)>"
      ]
     },
     "execution_count": 32,
     "metadata": {},
     "output_type": "execute_result"
    }
   ],
   "source": [
    "ve_triad = ve_lib.get_function(\n",
    "    \"ve_triad\",\n",
    "    args_type=(ve_types.uint64, ve_types.uint64, ve_types.uint64, ve_types.int32),\n",
    "    ret_type=ve_types.int32\n",
    ")"
   ]
  },
  {
   "cell_type": "code",
   "execution_count": 33,
   "id": "910ec15c",
   "metadata": {},
   "outputs": [
    {
     "name": "stdout",
     "output_type": "stream",
     "text": [
      "  0.000238 seconds (6 allocations: 288 bytes)\n"
     ]
    }
   ],
   "source": [
    "#@time z0 = zeros(Float64, 10^6);\n",
    "#@time z1 = @pycall np.zeros((10^6))::PyArray;\n",
    "@time z2 = vp.zeros(10^6);"
   ]
  },
  {
   "cell_type": "code",
   "execution_count": 34,
   "id": "b52210b4",
   "metadata": {},
   "outputs": [
    {
     "data": {
      "text/plain": [
       "(1000000,)"
      ]
     },
     "execution_count": 34,
     "metadata": {},
     "output_type": "execute_result"
    }
   ],
   "source": [
    "vp.shape(z2)"
   ]
  },
  {
   "cell_type": "code",
   "execution_count": 36,
   "id": "e5d48f33",
   "metadata": {},
   "outputs": [
    {
     "name": "stdout",
     "output_type": "stream",
     "text": [
      "  0.000181 seconds (38 allocations: 1.203 KiB)\n"
     ]
    },
    {
     "data": {
      "text/plain": [
       "0"
      ]
     },
     "execution_count": 36,
     "metadata": {},
     "output_type": "execute_result"
    }
   ],
   "source": [
    "# nlcpy w/c-coded triad\n",
    "@time ve_triad(x2.ve_adr, y2.ve_adr, z2.ve_adr, z2.size, sync=true)"
   ]
  },
  {
   "cell_type": "code",
   "execution_count": null,
   "id": "dbf25ba0",
   "metadata": {},
   "outputs": [],
   "source": []
  },
  {
   "cell_type": "code",
   "execution_count": null,
   "id": "ac0595af",
   "metadata": {},
   "outputs": [],
   "source": []
  }
 ],
 "metadata": {
  "kernelspec": {
   "display_name": "Julia 1.7.3",
   "language": "julia",
   "name": "julia-1.7"
  },
  "language_info": {
   "file_extension": ".jl",
   "mimetype": "application/julia",
   "name": "julia",
   "version": "1.7.3"
  }
 },
 "nbformat": 4,
 "nbformat_minor": 5
}
