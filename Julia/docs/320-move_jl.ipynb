{
 "cells": [
  {
   "cell_type": "markdown",
   "id": "a22d4443",
   "metadata": {},
   "source": [
    "# Comparison: Julia, PyArray, NLCPy"
   ]
  },
  {
   "cell_type": "code",
   "execution_count": 1,
   "id": "fdff2067",
   "metadata": {},
   "outputs": [
    {
     "name": "stdout",
     "output_type": "stream",
     "text": [
      "Julia Version 1.7.3\n",
      "Commit 742b9abb4d (2022-05-06 12:58 UTC)\n",
      "Platform Info:\n",
      "  OS: Linux (x86_64-redhat-linux)\n",
      "  CPU: Intel(R) Xeon(R) Gold 6226 CPU @ 2.70GHz\n",
      "  WORD_SIZE: 64\n",
      "  LIBM: libopenlibm\n",
      "  LLVM: libLLVM-12.0.1 (ORCJIT, cascadelake)\n",
      "Environment:\n",
      "  JULIA_DEPOT_PATH = /home/manabu/.julia-1.7.3\n",
      "  JULIA_NUM_THREADS = 12\n"
     ]
    }
   ],
   "source": [
    "versioninfo()"
   ]
  },
  {
   "cell_type": "markdown",
   "id": "2ea3c475",
   "metadata": {},
   "source": [
    "---"
   ]
  },
  {
   "cell_type": "code",
   "execution_count": 1,
   "id": "47047209",
   "metadata": {},
   "outputs": [],
   "source": [
    "using PyCall"
   ]
  },
  {
   "cell_type": "code",
   "execution_count": 2,
   "id": "8ab4c4c0-e64a-4864-908d-f2c0cbd4fa82",
   "metadata": {},
   "outputs": [
    {
     "data": {
      "text/plain": [
       "\"1\""
      ]
     },
     "execution_count": 2,
     "metadata": {},
     "output_type": "execute_result"
    }
   ],
   "source": [
    "ENV[\"VE_NODE_NUMBER\"] = \"1\""
   ]
  },
  {
   "cell_type": "code",
   "execution_count": 3,
   "id": "f50c03b8",
   "metadata": {},
   "outputs": [],
   "source": [
    "np = pyimport(\"numpy\");\n",
    "vp = pyimport(\"nlcpy\");"
   ]
  },
  {
   "cell_type": "markdown",
   "id": "823d9224",
   "metadata": {},
   "source": [
    "## Create array"
   ]
  },
  {
   "cell_type": "code",
   "execution_count": 7,
   "id": "a76cfdb5",
   "metadata": {},
   "outputs": [
    {
     "data": {
      "text/plain": [
       "(1.0, 1024.0)"
      ]
     },
     "execution_count": 7,
     "metadata": {},
     "output_type": "execute_result"
    }
   ],
   "source": [
    "@. 8*(2^17, 2^27)/1024/1024"
   ]
  },
  {
   "cell_type": "code",
   "execution_count": 117,
   "id": "b56747e3",
   "metadata": {},
   "outputs": [
    {
     "name": "stdout",
     "output_type": "stream",
     "text": [
      "  0.106476 seconds (2 allocations: 1.000 GiB)\n"
     ]
    }
   ],
   "source": [
    "# native\n",
    "@time x0 = rand(Float64, (2^17,2^10));"
   ]
  },
  {
   "cell_type": "markdown",
   "id": "e163dbd0",
   "metadata": {},
   "source": [
    "* [JuliaPy/PyCall.jl: Package to call Python functions from the Julia language](https://github.com/JuliaPy/PyCall.jl)\n",
    "  - \"By default, they are passed from Julia to Python without making a copy, but from Python to Julia a copy is made; no-copy conversion of Python to Julia arrays can be achieved with the `PyArray` type below.\""
   ]
  },
  {
   "cell_type": "code",
   "execution_count": 133,
   "id": "cb1b85d7",
   "metadata": {},
   "outputs": [
    {
     "name": "stdout",
     "output_type": "stream",
     "text": [
      "  2.957480 seconds (59 allocations: 1.000 GiB, 0.15% gc time)\n"
     ]
    }
   ],
   "source": [
    "# numpy -> native\n",
    "@time x1 = np.random.random_sample((2^17,2^10));"
   ]
  },
  {
   "cell_type": "code",
   "execution_count": 129,
   "id": "8db2e05d",
   "metadata": {},
   "outputs": [
    {
     "name": "stdout",
     "output_type": "stream",
     "text": [
      "  0.885265 seconds (26 allocations: 1.078 KiB)\n"
     ]
    }
   ],
   "source": [
    "# PyArray (numpy)\n",
    "@time x2 = @pycall np.random.random_sample((2^17,2^10))::PyArray;"
   ]
  },
  {
   "cell_type": "markdown",
   "id": "0b2d7da3",
   "metadata": {},
   "source": [
    "* [Profiling · The Julia Language](https://docs.julialang.org/en/v1/manual/profile/)"
   ]
  },
  {
   "cell_type": "code",
   "execution_count": 123,
   "id": "3a1098af",
   "metadata": {},
   "outputs": [],
   "source": [
    "using Profile\n",
    "Profile.clear()"
   ]
  },
  {
   "cell_type": "code",
   "execution_count": 124,
   "id": "655d94b6",
   "metadata": {},
   "outputs": [],
   "source": [
    "# numpy -> native\n",
    "@profile x1 = np.random.random_sample((2^17,2^10));"
   ]
  },
  {
   "cell_type": "code",
   "execution_count": 125,
   "id": "3e1461df",
   "metadata": {},
   "outputs": [
    {
     "name": "stdout",
     "output_type": "stream",
     "text": [
      "Overhead ╎ [+additional indent] Count File:Line; Function\n",
      "=========================================================\n",
      "    ╎2945 @Base/task.jl:429; (::IJulia.var\"#15#18\")()\n",
      "    ╎ 2945 ...lia/src/eventloop.jl:8; eventloop(socket::ZMQ.Socket)\n",
      "    ╎  2945 @Base/essentials.jl:714; invokelatest\n",
      "    ╎   2945 @Base/essentials.jl:716; #invokelatest#2\n",
      "    ╎    2945 ...execute_request.jl:67; execute_request(socket::ZMQ.S...\n",
      "    ╎     2945 ...SoftGlobalScope.jl:65; softscope_include_string(m::...\n",
      "    ╎    ╎ 2945 @Base/loading.jl:1196; include_string(mapexpr::typ...\n",
      "    ╎    ╎  2945 @Base/boot.jl:373; eval\n",
      "    ╎    ╎   2945 ...l/src/pyfncall.jl:86; (::PyObject)(args::Tuple{In...\n",
      "    ╎    ╎    2945 .../src/pyfncall.jl:86; #_#114\n",
      "    ╎    ╎     2146 .../conversions.jl:835; convert(#unused#::Type{Py...\n",
      "    ╎    ╎    ╎ 2146 .../src/pyarray.jl:267; convert(#unused#::Type{A...\n",
      "    ╎    ╎    ╎  2146 .../src/pyarray.jl:252; pyocopy(a::PyArray{Float...\n",
      "    ╎    ╎    ╎   88   ...src/pyarray.jl:148; copy\n",
      "    ╎    ╎    ╎    88   @Base/boot.jl:474; Array\n",
      "    ╎    ╎    ╎     88   @Base/boot.jl:467; Array\n",
      "  86╎    ╎    ╎    ╎ 88   @Base/boot.jl:459; Array\n",
      "    ╎    ╎    ╎    ╎  2    ...src/PyCall.jl:123; pydecref(o::PyObject)\n",
      "   2╎    ╎    ╎    ╎   2    ...rc/PyCall.jl:118; pydecref_\n",
      "    ╎    ╎    ╎   2058 ...src/pyarray.jl:152; copy\n",
      "    ╎    ╎    ╎    2058 ...stractarray.jl:998; copyto!(dest::Matrix{F...\n",
      "  48╎    ╎    ╎     48   ...tractarray.jl:0; copyto_unaliased!(des...\n",
      "    ╎    ╎    ╎     2010 ...tractarray.jl:1024; copyto_unaliased!(des...\n",
      "    ╎    ╎    ╎    ╎ 3    ...tractarray.jl:1142; iterate\n",
      "    ╎    ╎    ╎    ╎  3    ...imensional.jl:388; iterate\n",
      "   3╎    ╎    ╎    ╎   3    ...mensional.jl:413; __inc\n",
      "    ╎    ╎    ╎    ╎ 106  ...tractarray.jl:1144; iterate\n",
      "    ╎    ╎    ╎    ╎  52   ...rc/pyarray.jl:180; getindex\n",
      "  38╎    ╎    ╎    ╎   38   ...ractarray.jl:654; checkbounds\n",
      "  14╎    ╎    ╎    ╎   14   ...ractarray.jl:656; checkbounds\n",
      "    ╎    ╎    ╎    ╎  54   ...rc/pyarray.jl:181; getindex\n",
      "    ╎    ╎    ╎    ╎   27   ...c/pyarray.jl:159; data_index\n",
      "    ╎    ╎    ╎    ╎    27   @Base/ntuple.jl:49; ntuple\n",
      "    ╎    ╎    ╎    ╎     27   .../pyarray.jl:160; #15\n",
      "  27╎    ╎    ╎    ╎    ╎ 27   @Base/int.jl:88; *\n",
      "    ╎    ╎    ╎    ╎   27   ...c/pyarray.jl:157; unsafe_data_load\n",
      "  27╎    ╎    ╎    ╎    27   ...e/pointer.jl:105; unsafe_load\n",
      "1901╎    ╎    ╎    ╎ 1901 @Base/array.jl:903; setindex!\n",
      "    ╎    ╎     799  ...src/pyfncall.jl:11; _pycall!\n",
      "    ╎    ╎    ╎ 799  ...src/pyfncall.jl:29; _pycall!(ret::PyObject, o...\n",
      "    ╎    ╎    ╎  799  ...src/pyfncall.jl:42; __pycall!\n",
      "    ╎    ╎    ╎   799  @Base/c.jl:458; disable_sigint\n",
      "    ╎    ╎    ╎    799  ...rc/pyfncall.jl:43; #107\n",
      " 798╎    ╎    ╎     799  ...c/exception.jl:95; macro expansion\n",
      "Total snapshots: 6044\n"
     ]
    }
   ],
   "source": [
    "Profile.print()"
   ]
  },
  {
   "cell_type": "code",
   "execution_count": 134,
   "id": "e980427b",
   "metadata": {},
   "outputs": [
    {
     "name": "stdout",
     "output_type": "stream",
     "text": [
      "  0.001867 seconds (10 allocations: 464 bytes)\n"
     ]
    }
   ],
   "source": [
    "# nlcpy\n",
    "@time x3 = vp.random.random_sample((2^17,2^10));"
   ]
  },
  {
   "cell_type": "code",
   "execution_count": 172,
   "id": "809c0e32",
   "metadata": {},
   "outputs": [
    {
     "data": {
      "text/plain": [
       "(Matrix{Float64}, Matrix{Float64}, PyArray{Float64, 2}, PyObject)"
      ]
     },
     "execution_count": 172,
     "metadata": {},
     "output_type": "execute_result"
    }
   ],
   "source": [
    "@. typeof((x0,x1,x2,x3))"
   ]
  },
  {
   "cell_type": "code",
   "execution_count": null,
   "id": "8aed71fb",
   "metadata": {},
   "outputs": [],
   "source": []
  },
  {
   "cell_type": "code",
   "execution_count": 136,
   "id": "730dd748",
   "metadata": {},
   "outputs": [
    {
     "data": {
      "text/plain": [
       "((131072, 1024), (131072, 1024), (131072, 1024), (131072,))"
      ]
     },
     "execution_count": 136,
     "metadata": {},
     "output_type": "execute_result"
    }
   ],
   "source": [
    "@. size((x0,x1,x2,x3))"
   ]
  },
  {
   "cell_type": "code",
   "execution_count": 170,
   "id": "d26c5e6b",
   "metadata": {},
   "outputs": [
    {
     "data": {
      "text/plain": [
       "(PyObject, PyObject)"
      ]
     },
     "execution_count": 170,
     "metadata": {},
     "output_type": "execute_result"
    }
   ],
   "source": [
    "@. typeof((x2.o,x3))"
   ]
  },
  {
   "cell_type": "code",
   "execution_count": 168,
   "id": "b72d2d5d",
   "metadata": {},
   "outputs": [
    {
     "data": {
      "text/plain": [
       "((131072, 1024), (131072, 1024))"
      ]
     },
     "execution_count": 168,
     "metadata": {},
     "output_type": "execute_result"
    }
   ],
   "source": [
    "x2.o.shape, x3.shape"
   ]
  },
  {
   "cell_type": "code",
   "execution_count": null,
   "id": "51f67e74",
   "metadata": {},
   "outputs": [],
   "source": []
  },
  {
   "cell_type": "markdown",
   "id": "3a87e014",
   "metadata": {},
   "source": [
    "`PyObject` (`numpy.ndarray`) へのアクセス:"
   ]
  },
  {
   "cell_type": "code",
   "execution_count": 139,
   "id": "b322763e",
   "metadata": {},
   "outputs": [
    {
     "data": {
      "text/plain": [
       "PyObject"
      ]
     },
     "execution_count": 139,
     "metadata": {},
     "output_type": "execute_result"
    }
   ],
   "source": [
    "typeof(x2.o)"
   ]
  },
  {
   "cell_type": "code",
   "execution_count": 16,
   "id": "40204265",
   "metadata": {},
   "outputs": [
    {
     "data": {
      "text/plain": [
       "((131072, 1024), (131072, 1024))"
      ]
     },
     "execution_count": 16,
     "metadata": {},
     "output_type": "execute_result"
    }
   ],
   "source": [
    "x2.o.shape, py\"$x2.shape\""
   ]
  },
  {
   "cell_type": "code",
   "execution_count": 18,
   "id": "36bc505b",
   "metadata": {},
   "outputs": [
    {
     "data": {
      "text/plain": [
       "\"7f91e69fa010\""
      ]
     },
     "execution_count": 18,
     "metadata": {},
     "output_type": "execute_result"
    }
   ],
   "source": [
    "string(x2.o.__array_interface__[\"data\"][1], base=16)"
   ]
  },
  {
   "cell_type": "code",
   "execution_count": 138,
   "id": "8cf3f87e",
   "metadata": {},
   "outputs": [
    {
     "data": {
      "text/plain": [
       "(Ptr{Float64} @0x00007f8f329bc010, Ptr{Nothing} @0x00007f8f329bc010)"
      ]
     },
     "execution_count": 138,
     "metadata": {},
     "output_type": "execute_result"
    }
   ],
   "source": [
    "x2.data, x2.info.pybuf.buf.buf"
   ]
  },
  {
   "cell_type": "markdown",
   "id": "8bf1816d",
   "metadata": {},
   "source": [
    "## Move array"
   ]
  },
  {
   "cell_type": "markdown",
   "id": "41ffe3f3",
   "metadata": {},
   "source": [
    "Julia `Array` から PyObject `numpy.ndarray` への変換はzero-copy"
   ]
  },
  {
   "cell_type": "code",
   "execution_count": 140,
   "id": "08a0a455",
   "metadata": {},
   "outputs": [
    {
     "name": "stdout",
     "output_type": "stream",
     "text": [
      "  0.000058 seconds (24 allocations: 1.125 KiB)\n"
     ]
    }
   ],
   "source": [
    "@time y2 = @pycall np.asarray(x0)::PyArray;"
   ]
  },
  {
   "cell_type": "code",
   "execution_count": 141,
   "id": "92bc01fd",
   "metadata": {},
   "outputs": [
    {
     "data": {
      "text/plain": [
       "(Ptr{Float64} @0x00007f8fb29be040, Ptr{Float64} @0x00007f8fb29be040)"
      ]
     },
     "execution_count": 141,
     "metadata": {},
     "output_type": "execute_result"
    }
   ],
   "source": [
    "pointer(x0), y2.data"
   ]
  },
  {
   "cell_type": "code",
   "execution_count": 145,
   "id": "0e315efa",
   "metadata": {},
   "outputs": [
    {
     "data": {
      "text/plain": [
       "\"7f8fb29be040\""
      ]
     },
     "execution_count": 145,
     "metadata": {},
     "output_type": "execute_result"
    }
   ],
   "source": [
    "string(y2.o.__array_interface__[\"data\"][1], base=16)"
   ]
  },
  {
   "cell_type": "code",
   "execution_count": 146,
   "id": "98352690",
   "metadata": {},
   "outputs": [
    {
     "data": {
      "text/plain": [
       "((1, 131072), (8, 1048576))"
      ]
     },
     "execution_count": 146,
     "metadata": {},
     "output_type": "execute_result"
    }
   ],
   "source": [
    "strides(x0), py\"$y2.strides\""
   ]
  },
  {
   "cell_type": "code",
   "execution_count": 147,
   "id": "964434bf",
   "metadata": {},
   "outputs": [
    {
     "data": {
      "text/plain": [
       "((131072, 1024), (131072, 1024))"
      ]
     },
     "execution_count": 147,
     "metadata": {},
     "output_type": "execute_result"
    }
   ],
   "source": [
    "py\"$x2.shape\", py\"$y2.shape\""
   ]
  },
  {
   "cell_type": "code",
   "execution_count": 148,
   "id": "18eb9e0e",
   "metadata": {},
   "outputs": [
    {
     "data": {
      "text/plain": [
       "((8192, 8), (8, 1048576))"
      ]
     },
     "execution_count": 148,
     "metadata": {},
     "output_type": "execute_result"
    }
   ],
   "source": [
    "py\"$x2.strides\", py\"$y2.strides\""
   ]
  },
  {
   "cell_type": "code",
   "execution_count": null,
   "id": "dbf25ba0",
   "metadata": {},
   "outputs": [],
   "source": []
  },
  {
   "cell_type": "code",
   "execution_count": 155,
   "id": "ac0595af",
   "metadata": {},
   "outputs": [
    {
     "data": {
      "text/plain": [
       "(Ptr{Float64} @0x00007f8fb29be040, (131072, 1024))"
      ]
     },
     "execution_count": 155,
     "metadata": {},
     "output_type": "execute_result"
    }
   ],
   "source": [
    "y2.data, y2.o.shape"
   ]
  },
  {
   "cell_type": "code",
   "execution_count": 156,
   "id": "85d6c54b",
   "metadata": {},
   "outputs": [
    {
     "name": "stdout",
     "output_type": "stream",
     "text": [
      "  0.000042 seconds (21 allocations: 528 bytes)\n"
     ]
    }
   ],
   "source": [
    "@time y0 = unsafe_wrap(Array{Float64}, y2.data, *(y2.o.shape...));"
   ]
  },
  {
   "cell_type": "code",
   "execution_count": 157,
   "id": "37605e26",
   "metadata": {},
   "outputs": [
    {
     "data": {
      "text/plain": [
       "((131072, 1024), (134217728,))"
      ]
     },
     "execution_count": 157,
     "metadata": {},
     "output_type": "execute_result"
    }
   ],
   "source": [
    "@. size((x0,y0))"
   ]
  },
  {
   "cell_type": "code",
   "execution_count": 158,
   "id": "caa9006b",
   "metadata": {},
   "outputs": [
    {
     "data": {
      "text/plain": [
       "134217728"
      ]
     },
     "execution_count": 158,
     "metadata": {},
     "output_type": "execute_result"
    }
   ],
   "source": [
    "*(size(x0)...)"
   ]
  },
  {
   "cell_type": "code",
   "execution_count": 159,
   "id": "a13e5b09",
   "metadata": {},
   "outputs": [
    {
     "data": {
      "text/plain": [
       "(Ptr{Float64} @0x00007f8fb29be040, Ptr{Float64} @0x00007f8fb29be040)"
      ]
     },
     "execution_count": 159,
     "metadata": {},
     "output_type": "execute_result"
    }
   ],
   "source": [
    "pointer(x0), pointer(y0)"
   ]
  },
  {
   "cell_type": "code",
   "execution_count": 161,
   "id": "699e76bf",
   "metadata": {},
   "outputs": [],
   "source": [
    "z0 = reshape(y2, size(x0));"
   ]
  },
  {
   "cell_type": "code",
   "execution_count": 162,
   "id": "85d10987",
   "metadata": {},
   "outputs": [
    {
     "data": {
      "text/plain": [
       "(Ptr{Float64} @0x00007f8fb29be040, Ptr{Float64} @0x00007f8fb29be040, Ptr{Float64} @0x00007f8fb29be040)"
      ]
     },
     "execution_count": 162,
     "metadata": {},
     "output_type": "execute_result"
    }
   ],
   "source": [
    "@. pointer((x0,y0,z0))"
   ]
  },
  {
   "cell_type": "code",
   "execution_count": 163,
   "id": "caefc8e7",
   "metadata": {},
   "outputs": [
    {
     "data": {
      "text/plain": [
       "((131072, 1024), (134217728,), (131072, 1024))"
      ]
     },
     "execution_count": 163,
     "metadata": {},
     "output_type": "execute_result"
    }
   ],
   "source": [
    "@. size((x0,y0,z0))"
   ]
  },
  {
   "cell_type": "code",
   "execution_count": null,
   "id": "1a9352d1",
   "metadata": {},
   "outputs": [],
   "source": []
  },
  {
   "cell_type": "code",
   "execution_count": null,
   "id": "f8fa7fff",
   "metadata": {},
   "outputs": [],
   "source": []
  },
  {
   "cell_type": "markdown",
   "id": "cd9095d3",
   "metadata": {},
   "source": [
    "* `PyCall.NoCopyArray`\n",
    "  - [Docstrings · PyCall.jl](https://docs.juliahub.com/PyCall/GkzkC/1.92.2/autodocs/#PyCall.NoCopyArray-Tuple{PyObject})"
   ]
  },
  {
   "cell_type": "code",
   "execution_count": 165,
   "id": "0522116e",
   "metadata": {},
   "outputs": [
    {
     "name": "stdout",
     "output_type": "stream",
     "text": [
      "  0.000044 seconds (30 allocations: 1.062 KiB)\n"
     ]
    }
   ],
   "source": [
    "@time n0 = PyCall.NoCopyArray(x2.o);"
   ]
  },
  {
   "cell_type": "code",
   "execution_count": 166,
   "id": "9f820b5b",
   "metadata": {},
   "outputs": [
    {
     "data": {
      "text/plain": [
       "((131072, 1024), (1024, 1))"
      ]
     },
     "execution_count": 166,
     "metadata": {},
     "output_type": "execute_result"
    }
   ],
   "source": [
    "size(n0), strides(n0)"
   ]
  },
  {
   "cell_type": "code",
   "execution_count": 167,
   "id": "cb349adb",
   "metadata": {},
   "outputs": [
    {
     "data": {
      "text/plain": [
       "(Ptr{Float64} @0x00007f8f329bc010, Ptr{Float64} @0x00007f8f329bc010)"
      ]
     },
     "execution_count": 167,
     "metadata": {},
     "output_type": "execute_result"
    }
   ],
   "source": [
    "x2.data, pointer(n0)"
   ]
  },
  {
   "cell_type": "code",
   "execution_count": null,
   "id": "dee43979",
   "metadata": {},
   "outputs": [],
   "source": []
  }
 ],
 "metadata": {
  "kernelspec": {
   "display_name": "Julia 1.7.3",
   "language": "julia",
   "name": "julia-1.7"
  },
  "language_info": {
   "file_extension": ".jl",
   "mimetype": "application/julia",
   "name": "julia",
   "version": "1.7.3"
  }
 },
 "nbformat": 4,
 "nbformat_minor": 5
}
