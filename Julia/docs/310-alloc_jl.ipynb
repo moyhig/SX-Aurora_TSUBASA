{
 "cells": [
  {
   "cell_type": "markdown",
   "id": "823d9224",
   "metadata": {
    "tags": []
   },
   "source": [
    "# Create array"
   ]
  },
  {
   "cell_type": "code",
   "execution_count": 1,
   "id": "fdff2067",
   "metadata": {},
   "outputs": [
    {
     "name": "stdout",
     "output_type": "stream",
     "text": [
      "Julia Version 1.7.3\n",
      "Commit 742b9abb4d (2022-05-06 12:58 UTC)\n",
      "Platform Info:\n",
      "  OS: Linux (x86_64-redhat-linux)\n",
      "  CPU: Intel(R) Xeon(R) Gold 6226 CPU @ 2.70GHz\n",
      "  WORD_SIZE: 64\n",
      "  LIBM: libopenlibm\n",
      "  LLVM: libLLVM-12.0.1 (ORCJIT, cascadelake)\n",
      "Environment:\n",
      "  JULIA_DEPOT_PATH = /home/manabu/.julia-1.7.3\n",
      "  JULIA_NUM_THREADS = 12\n"
     ]
    }
   ],
   "source": [
    "versioninfo()"
   ]
  },
  {
   "cell_type": "markdown",
   "id": "2ea3c475",
   "metadata": {},
   "source": [
    "---"
   ]
  },
  {
   "cell_type": "code",
   "execution_count": 1,
   "id": "25fd7fd7-ef5f-436f-be32-2f970a07eaf5",
   "metadata": {},
   "outputs": [],
   "source": [
    "using PyCall"
   ]
  },
  {
   "cell_type": "code",
   "execution_count": 2,
   "id": "8ab4c4c0-e64a-4864-908d-f2c0cbd4fa82",
   "metadata": {},
   "outputs": [
    {
     "data": {
      "text/plain": [
       "\"0\""
      ]
     },
     "execution_count": 2,
     "metadata": {},
     "output_type": "execute_result"
    }
   ],
   "source": [
    "ENV[\"VE_NODE_NUMBER\"] = \"0\""
   ]
  },
  {
   "cell_type": "code",
   "execution_count": 3,
   "id": "1aabeeeb-db58-4ff6-95d5-d9505098452a",
   "metadata": {},
   "outputs": [],
   "source": [
    "np = pyimport(\"numpy\");\n",
    "vp = pyimport(\"nlcpy\");"
   ]
  },
  {
   "cell_type": "markdown",
   "id": "e5140fc6-de92-4f9c-ad7f-5cf9f743ed02",
   "metadata": {},
   "source": [
    "---"
   ]
  },
  {
   "cell_type": "code",
   "execution_count": 4,
   "id": "a76cfdb5",
   "metadata": {},
   "outputs": [
    {
     "data": {
      "text/plain": [
       "(1.0, 1024.0)"
      ]
     },
     "execution_count": 4,
     "metadata": {},
     "output_type": "execute_result"
    }
   ],
   "source": [
    "@. 8*(2^17, 2^27)/1024/1024"
   ]
  },
  {
   "cell_type": "code",
   "execution_count": 5,
   "id": "603237d7-cd37-4627-8466-02cf99db46e4",
   "metadata": {},
   "outputs": [
    {
     "data": {
      "text/plain": [
       "134217728"
      ]
     },
     "execution_count": 5,
     "metadata": {},
     "output_type": "execute_result"
    }
   ],
   "source": [
    "const N = 2^27"
   ]
  },
  {
   "cell_type": "code",
   "execution_count": 9,
   "id": "562219b6-6e65-4649-82fb-cd5110abf82b",
   "metadata": {},
   "outputs": [
    {
     "data": {
      "text/plain": [
       "1.0"
      ]
     },
     "execution_count": 9,
     "metadata": {},
     "output_type": "execute_result"
    }
   ],
   "source": [
    "sizeof(Float64)*N/1024/1024/1024"
   ]
  },
  {
   "cell_type": "markdown",
   "id": "3ce5dfa2-b76d-4baf-b582-4fcf623a09e1",
   "metadata": {},
   "source": [
    "## Alloc array"
   ]
  },
  {
   "cell_type": "code",
   "execution_count": 82,
   "id": "d4ff14a9-26fd-43d9-9283-d8e2ba164ef1",
   "metadata": {},
   "outputs": [
    {
     "name": "stdout",
     "output_type": "stream",
     "text": [
      "  0.000013 seconds (2 allocations: 1.000 GiB)\n"
     ]
    }
   ],
   "source": [
    "@time x0 = Array{Float64}(undef, N);"
   ]
  },
  {
   "cell_type": "markdown",
   "id": "dea80128-f504-4119-9d06-f031154b1c5b",
   "metadata": {},
   "source": [
    "## Fill array: 0., 1."
   ]
  },
  {
   "cell_type": "code",
   "execution_count": 83,
   "id": "a519a307-4b72-47d8-baf6-e2213e31741c",
   "metadata": {},
   "outputs": [
    {
     "name": "stdout",
     "output_type": "stream",
     "text": [
      "  0.219694 seconds (2 allocations: 1.000 GiB)\n"
     ]
    }
   ],
   "source": [
    "@time x1 = zeros(Float64, N);"
   ]
  },
  {
   "cell_type": "code",
   "execution_count": 84,
   "id": "f8b3d72c-8eab-4acf-b135-d1c3eed03106",
   "metadata": {},
   "outputs": [
    {
     "name": "stdout",
     "output_type": "stream",
     "text": [
      "  0.218345 seconds (2 allocations: 1.000 GiB)\n"
     ]
    }
   ],
   "source": [
    "@time x2 = ones(Float64, N);"
   ]
  },
  {
   "cell_type": "code",
   "execution_count": 85,
   "id": "db367c48-3c99-4d46-b9f3-fea3a91274ae",
   "metadata": {},
   "outputs": [
    {
     "data": {
      "text/plain": [
       "4.5801386865994305"
      ]
     },
     "execution_count": 85,
     "metadata": {},
     "output_type": "execute_result"
    }
   ],
   "source": [
    "1.0/0.218334"
   ]
  },
  {
   "cell_type": "markdown",
   "id": "e4c6c64d-12f4-4e9d-b197-5565bc2dbb8a",
   "metadata": {},
   "source": [
    "4.6GB/s"
   ]
  },
  {
   "cell_type": "markdown",
   "id": "ef2d2d36-bd2b-4bdb-9e2e-893c2f3b1c08",
   "metadata": {},
   "source": [
    "## Comparison"
   ]
  },
  {
   "cell_type": "markdown",
   "id": "53e5a704-864a-4685-8751-1fa8d5ea6149",
   "metadata": {},
   "source": [
    "### alloc"
   ]
  },
  {
   "cell_type": "code",
   "execution_count": 39,
   "id": "19e8b24d-96b8-4257-b551-ebf0d38d97f0",
   "metadata": {},
   "outputs": [
    {
     "name": "stdout",
     "output_type": "stream",
     "text": [
      "  0.000012 seconds (2 allocations: 1.000 GiB)\n"
     ]
    }
   ],
   "source": [
    "@time x0 = Array{Float64}(undef, N);"
   ]
  },
  {
   "cell_type": "code",
   "execution_count": 40,
   "id": "abe9565f-d6cb-420b-873a-3acef0f91cf0",
   "metadata": {},
   "outputs": [
    {
     "name": "stdout",
     "output_type": "stream",
     "text": [
      "  0.000066 seconds (17 allocations: 672 bytes)\n"
     ]
    }
   ],
   "source": [
    "@time y0 = @pycall np.empty((N,))::PyArray;"
   ]
  },
  {
   "cell_type": "code",
   "execution_count": 41,
   "id": "1fb71d64-a437-498b-8c00-4c2e02339f9e",
   "metadata": {},
   "outputs": [
    {
     "name": "stdout",
     "output_type": "stream",
     "text": [
      "  0.001162 seconds (6 allocations: 288 bytes)\n"
     ]
    }
   ],
   "source": [
    "@time z0 = vp.empty((N,));"
   ]
  },
  {
   "cell_type": "markdown",
   "id": "644b1da2-ef41-4e4c-b223-602d2b28e25b",
   "metadata": {},
   "source": [
    "### fill: 0."
   ]
  },
  {
   "cell_type": "code",
   "execution_count": 63,
   "id": "f1b094a7-30b3-44e6-b616-09b87e0f04dc",
   "metadata": {},
   "outputs": [
    {
     "name": "stdout",
     "output_type": "stream",
     "text": [
      "  0.220893 seconds (2 allocations: 1.000 GiB, 1.31% gc time)\n"
     ]
    }
   ],
   "source": [
    "@time x1 = zeros(Float64, N);"
   ]
  },
  {
   "cell_type": "code",
   "execution_count": 64,
   "id": "50ded8be-9bf6-4efb-bda2-99c12ea64ec9",
   "metadata": {},
   "outputs": [
    {
     "name": "stdout",
     "output_type": "stream",
     "text": [
      "  0.000065 seconds (17 allocations: 672 bytes)\n"
     ]
    }
   ],
   "source": [
    "@time y1 = @pycall np.zeros((N,))::PyArray;"
   ]
  },
  {
   "cell_type": "code",
   "execution_count": 65,
   "id": "65b227eb-7f31-4645-a45f-b4563b55e066",
   "metadata": {},
   "outputs": [
    {
     "name": "stdout",
     "output_type": "stream",
     "text": [
      "  0.001763 seconds (6 allocations: 288 bytes)\n"
     ]
    }
   ],
   "source": [
    "@time z1 = vp.zeros((N,));"
   ]
  },
  {
   "cell_type": "markdown",
   "id": "7bb5ffb8-866a-4401-98a9-ced09bdff26b",
   "metadata": {},
   "source": [
    "### fill: 1."
   ]
  },
  {
   "cell_type": "code",
   "execution_count": 78,
   "id": "1bca5469-0d76-4602-8172-6175cd836539",
   "metadata": {},
   "outputs": [
    {
     "name": "stdout",
     "output_type": "stream",
     "text": [
      "  0.225523 seconds (2 allocations: 1.000 GiB, 1.32% gc time)\n"
     ]
    }
   ],
   "source": [
    "@time x2 = ones(Float64, N);"
   ]
  },
  {
   "cell_type": "code",
   "execution_count": 79,
   "id": "c9d9a7d2-6fe4-469d-9cd6-ec75ad27245e",
   "metadata": {},
   "outputs": [
    {
     "name": "stdout",
     "output_type": "stream",
     "text": [
      "  0.104962 seconds (17 allocations: 672 bytes)\n"
     ]
    }
   ],
   "source": [
    "@time y2 = @pycall np.ones((N,))::PyArray;"
   ]
  },
  {
   "cell_type": "code",
   "execution_count": 80,
   "id": "c4bac8ca-6a2a-4924-9abf-4556cd33397b",
   "metadata": {},
   "outputs": [
    {
     "name": "stdout",
     "output_type": "stream",
     "text": [
      "  0.000943 seconds (6 allocations: 288 bytes)\n"
     ]
    }
   ],
   "source": [
    "@time z2 = vp.ones((N,));"
   ]
  },
  {
   "cell_type": "code",
   "execution_count": null,
   "id": "e15649d8-fe9f-4b66-b41d-685ece44a807",
   "metadata": {},
   "outputs": [],
   "source": []
  }
 ],
 "metadata": {
  "kernelspec": {
   "display_name": "Julia 1.7.3",
   "language": "julia",
   "name": "julia-1.7"
  },
  "language_info": {
   "file_extension": ".jl",
   "mimetype": "application/julia",
   "name": "julia",
   "version": "1.7.3"
  }
 },
 "nbformat": 4,
 "nbformat_minor": 5
}
