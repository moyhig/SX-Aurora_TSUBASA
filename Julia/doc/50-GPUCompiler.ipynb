{
 "cells": [
  {
   "cell_type": "code",
   "execution_count": 1,
   "id": "b09faef3",
   "metadata": {},
   "outputs": [
    {
     "name": "stdout",
     "output_type": "stream",
     "text": [
      "Julia Version 1.9.0-DEV.862\n",
      "Commit b11ccae719* (2022-06-29 03:11 UTC)\n",
      "Platform Info:\n",
      "  OS: Linux (x86_64-redhat-linux)\n",
      "  CPU: 24 × Intel(R) Xeon(R) Gold 6226 CPU @ 2.70GHz\n",
      "  WORD_SIZE: 64\n",
      "  LIBM: libopenlibm\n",
      "  LLVM: libLLVM-14.0.5 (ORCJIT, cascadelake)\n",
      "  Threads: 1 on 24 virtual cores\n",
      "Environment:\n",
      "  LD_LIBRARY_PATH = /opt/nec/ve/nlc/2.3.0/lib\n"
     ]
    }
   ],
   "source": [
    "versioninfo()"
   ]
  },
  {
   "cell_type": "code",
   "execution_count": 7,
   "id": "204cfd24",
   "metadata": {},
   "outputs": [
    {
     "name": "stdout",
     "output_type": "stream",
     "text": [
      "LLVM (http://llvm.org/):\n",
      "  LLVM version 14.0.5jl\n",
      "  Optimized build.\n",
      "  Default target: x86_64-redhat-linux\n",
      "  Host CPU: cascadelake\n",
      "\n",
      "  Registered Targets:\n",
      "    amdgcn  - AMD GCN GPUs\n",
      "    bpf     - BPF (host endian)\n",
      "    bpfeb   - BPF (big endian)\n",
      "    bpfel   - BPF (little endian)\n",
      "    nvptx   - NVIDIA PTX 32-bit\n",
      "    nvptx64 - NVIDIA PTX 64-bit\n",
      "    r600    - AMD GPUs HD2XXX-HD6XXX\n",
      "    ve      - VE\n",
      "    wasm32  - WebAssembly 32-bit\n",
      "    wasm64  - WebAssembly 64-bit\n",
      "    x86     - 32-bit X86: Pentium-Pro and above\n",
      "    x86-64  - 64-bit X86: EM64T and AMD64\n"
     ]
    },
    {
     "data": {
      "text/plain": [
       "Process(`\u001b[4m/home/manabu/julia/julia/usr/tools/llc\u001b[24m \u001b[4m--version\u001b[24m`, ProcessExited(0))"
      ]
     },
     "execution_count": 7,
     "metadata": {},
     "output_type": "execute_result"
    }
   ],
   "source": [
    "home=ENV[\"HOME\"]\n",
    "run(`$home/julia/julia/usr/tools/llc --version`)"
   ]
  },
  {
   "cell_type": "code",
   "execution_count": 8,
   "id": "52719ec6",
   "metadata": {},
   "outputs": [],
   "source": [
    "using LLVM"
   ]
  },
  {
   "cell_type": "code",
   "execution_count": 11,
   "id": "f5b21462",
   "metadata": {},
   "outputs": [
    {
     "name": "stdout",
     "output_type": "stream",
     "text": [
      "\u001b[32m\u001b[1mStatus\u001b[22m\u001b[39m `~/.julia/environments/v1.9/Project.toml`\n",
      "  \u001b[90m[929cbde3] \u001b[39mLLVM v4.14.0\n"
     ]
    }
   ],
   "source": [
    "using Pkg\n",
    "Pkg.status(\"LLVM\")"
   ]
  },
  {
   "cell_type": "code",
   "execution_count": 12,
   "id": "1f47464b",
   "metadata": {},
   "outputs": [
    {
     "name": "stdout",
     "output_type": "stream",
     "text": [
      "\u001b[32m\u001b[1mStatus\u001b[22m\u001b[39m `~/.julia/environments/v1.9/Project.toml`\n",
      "  \u001b[90m[61eb1bfa] \u001b[39mGPUCompiler v0.16.1\n"
     ]
    }
   ],
   "source": [
    "using GPUCompiler\n",
    "Pkg.status(\"GPUCompiler\")"
   ]
  },
  {
   "cell_type": "code",
   "execution_count": null,
   "id": "77e5af4c",
   "metadata": {},
   "outputs": [],
   "source": []
  },
  {
   "cell_type": "code",
   "execution_count": 23,
   "id": "2a5347b5",
   "metadata": {},
   "outputs": [
    {
     "data": {
      "text/plain": [
       "kernel (generic function with 1 method)"
      ]
     },
     "execution_count": 23,
     "metadata": {},
     "output_type": "execute_result"
    }
   ],
   "source": [
    "function kernel()\n",
    "    ccall(\"extern sleep\", llvmcall, Cvoid, (Int64,), UInt64(5))\n",
    "    return nothing\n",
    "end"
   ]
  },
  {
   "cell_type": "code",
   "execution_count": 37,
   "id": "1afc1ad2",
   "metadata": {},
   "outputs": [
    {
     "data": {
      "text/plain": [
       "kernel veo_sleep()"
      ]
     },
     "execution_count": 37,
     "metadata": {},
     "output_type": "execute_result"
    }
   ],
   "source": [
    "source = FunctionSpec(kernel, Tuple{}, true, \"veo_sleep\")"
   ]
  },
  {
   "cell_type": "code",
   "execution_count": 38,
   "id": "eb8f54fb",
   "metadata": {},
   "outputs": [],
   "source": [
    "struct VECompilerTarget <: AbstractCompilerTarget end\n",
    "struct VECompilerParams <: AbstractCompilerParams end"
   ]
  },
  {
   "cell_type": "code",
   "execution_count": 39,
   "id": "ee4b2be1",
   "metadata": {},
   "outputs": [
    {
     "data": {
      "text/plain": [
       "CompilerJob of kernel veo_sleep() for VECompilerTarget"
      ]
     },
     "execution_count": 39,
     "metadata": {},
     "output_type": "execute_result"
    }
   ],
   "source": [
    "job = CompilerJob(VECompilerTarget(), source, VECompilerParams())"
   ]
  },
  {
   "cell_type": "code",
   "execution_count": 40,
   "id": "106112ab",
   "metadata": {},
   "outputs": [
    {
     "data": {
      "text/plain": [
       "(MethodInstance for kernel(), ())"
      ]
     },
     "execution_count": 40,
     "metadata": {},
     "output_type": "execute_result"
    }
   ],
   "source": [
    "method_instance, mi_meta = GPUCompiler.emit_julia(job)"
   ]
  },
  {
   "cell_type": "code",
   "execution_count": 41,
   "id": "5306d917",
   "metadata": {},
   "outputs": [],
   "source": [
    "GPUCompiler.llvm_triple(::VECompilerTarget) = \"ve-unknown-linux-gnu\"\n",
    "GPUCompiler.runtime_slug(::GPUCompiler.CompilerJob{VECompilerTarget}) = \"ve_kernel\""
   ]
  },
  {
   "cell_type": "code",
   "execution_count": 42,
   "id": "4ccd0efb",
   "metadata": {},
   "outputs": [
    {
     "data": {
      "text/plain": [
       "(; ModuleID = 'start'\n",
       "source_filename = \"start\"\n",
       "target datalayout = \"e-m:e-i64:64-n32:64-S128-v64:64:64-v128:64:64-v256:64:64-v512:64:64-v1024:64:64-v2048:64:64-v4096:64:64-v8192:64:64-v16384:64:64\"\n",
       "target triple = \"ve-unknown-linux-gnu\"\n",
       "\n",
       "define void @_Z15julia_veo_sleep() local_unnamed_addr #0 !dbg !5 {\n",
       "top:\n",
       "  call void @sleep(i64 5), !dbg !8\n",
       "  ret void, !dbg !9\n",
       "}\n",
       "\n",
       "declare void @sleep(i64) local_unnamed_addr\n",
       "\n",
       "attributes #0 = { \"probe-stack\"=\"inline-asm\" }\n",
       "\n",
       "!llvm.module.flags = !{!0, !1}\n",
       "!llvm.dbg.cu = !{!2}\n",
       "!julia.kernel = !{!4}\n",
       "\n",
       "!0 = !{i32 2, !\"Dwarf Version\", i64 4}\n",
       "!1 = !{i32 2, !\"Debug Info Version\", i32 3}\n",
       "!2 = distinct !DICompileUnit(language: DW_LANG_Julia, file: !3, producer: \"julia\", isOptimized: true, runtimeVersion: 0, emissionKind: LineTablesOnly, nameTableKind: None)\n",
       "!3 = !DIFile(filename: \"In[23]\", directory: \".\")\n",
       "!4 = !{void ()* @_Z15julia_veo_sleep}\n",
       "!5 = distinct !DISubprogram(name: \"kernel\", linkageName: \"julia_kernel_3753\", scope: null, file: !3, line: 1, type: !6, scopeLine: 1, spFlags: DISPFlagDefinition | DISPFlagOptimized, unit: !2, retainedNodes: !7)\n",
       "!6 = !DISubroutineType(types: !7)\n",
       "!7 = !{}\n",
       "!8 = !DILocation(line: 2, scope: !5)\n",
       "!9 = !DILocation(line: 3, scope: !5)\n",
       ", (entry = define void @_Z15julia_veo_sleep() local_unnamed_addr #0 !dbg !5 {\n",
       "top:\n",
       "  call void @sleep(i64 5), !dbg !8\n",
       "  ret void, !dbg !9\n",
       "}\n",
       ", compiled = Dict{Any, Any}(MethodInstance for kernel() => (ci = Core.CodeInstance(MethodInstance for kernel(), #undef, 0x0000000000001863, 0xffffffffffffffff, Nothing, nothing, UInt8[0x0c, 0x00, 0x01, 0x00, 0x00, 0x00, 0x00, 0x16, 0x88, 0xc2  …  0x11, 0x02, 0x11, 0x03, 0xae, 0xab, 0x3e, 0x01, 0x02, 0x00], 0x00000100, 0x00000100, nothing, false, false, Ptr{Nothing} @0x0000000000000000, Ptr{Nothing} @0x0000000000000000, 0x00), func = \"jfptr_kernel_3754\", specfunc = \"_Z15julia_veo_sleep\"))))"
      ]
     },
     "execution_count": 42,
     "metadata": {},
     "output_type": "execute_result"
    }
   ],
   "source": [
    "ir, ir_meta = GPUCompiler.emit_llvm(job, method_instance; ctx=JuliaContext())"
   ]
  },
  {
   "cell_type": "code",
   "execution_count": 43,
   "id": "19157857",
   "metadata": {},
   "outputs": [
    {
     "data": {
      "text/plain": [
       "(\"\\x7fELF\\x02\\x01\\x01\\0\\0\\0\\0\\0\\0\\0\\0\\0\\x01\\0\\xfb\\0\\x01\\0\\0\\0\\0\\0\\0\\0\\0\\0\\0\\0\\0\\0\\0\\0\\0\\0\\0\\0\\xa0\\x03\\0\\0\\0\\0\\0\\0\\0\\0\\0\\0@\\0\\0\\0\\0\\0@\\0\\f\\0\\x01\\0\\0\\0\\0\\0\\x8b\\0\\t\\x11\\b\\0\\0\\0\\x8b\\0\\n\\x11\\0\\0\\0\\0\\x8b\\0\\tE\\x10\\xff\\xff\\xff\\x8b\\0\\v\\x06H\\0\\0\\0\\x88\\x8b5\\x18\\x18\\0\\0\\0\\x8e\\0=\\x01\\0\\0\\0\\0\\x80\\0>E;\\x01\\0\\0\\0\\0?\\x06\\0\\0\\0\\0\\xbd\\x03?1\\b\\0\\0\\0\\xbd\\x03\\b1\\x10\\0\\0\\0\\xbd\\x03\\v1\\0\\0\\0\\0\\0\\0\\0?\\0\\0\\0\\0\\xbe\\0\\0E\\0\\0\\0\\0\\0\\0\\0\\x06\\0\\0\\0\\0`\\x80\\0D\\0\\0\\0\\0\\x80\\0\\x8c\\x06\\0\\0\\0\\0\\0\\x05\\0E\\0\\0\\0\\0\\x8c\\0\\n\\b\\0\\0\\0\\0\\x89\\0\\vE\\b\\0\\0\\0\\x8b\\0\\n\\x01\\0\\0\\0\\0\\x8b\\0\\t\\x01\\0\\0\\0\\0\\x8a\\0?\\x19\\x01\\x11\\0%\\x0e\\x13\\x05\\x03\\x0e\\x10\\x17\\e\\x0e\\x11\\x01\\x12\\x06\\0\\0\\0&\\0\\0\\0\\x04\\0\\0\\0\\0\\0\\b\\x01\\0\\0\\0\\0\\x1f\\0\\0\\0\\0\\0\\0\\0\\0\\0\\0\\0\\0\\0\\0\\0\\0\\0\\0\\0\\0\\0\\xb0\\0\\0\\0julia\\0In[23]\\0.\\08\\0\\0\\0\\x04\\0\\x1e\\0\\0\\0\\b\\x01\\x01\\xfb\\x0e\\r\\0\\x01\\x01\\x01\\x01\\0\\0\\0\\x01\\0\\0\\x01\\0In[23]\\0\\0\\0\\0\\0\\0\\t\\x02\\0\\0\\0\\0\\0\\0\\0\\0\\x01\\nɃ\\x02\\x01\\0\\x01\\x01\\0\\0\\0\\0\\0\\0\\0\\0\\0\\0\\0\\0\\0\\0\\0\\0\\0\\0\\0\\0\\0\\0\\0\\0\\0\\0\\0\\0\\0\\0\\0\\x1a\\0\\0\\0\\x04\\0\\xf1\\xff\\0\\0\\0\\0\\0\\0\\0\\0\\0\\0\\0\\0\\0\\0\\0\\0\\0\\0\\0\\0\\x03\\0\\x02\\0\\0\\0\\0\\0\\0\\0\\0\\0\\0\\0\\0\\0\\0\\0\\0\\0\\0\\0\\0\\0\\x03\\0\\x04\\0\\0\\0\\0\\0\\0\\0\\0\\0\\0\\0\\0\\0\\0\\0\\0\\0\\0\\0\\0\\0\\x03\\0\\a\\0\\0\\0\\0\\0\\0\\0\\0\\0\\0\\0\\0\\0\\0\\0\\0\\0\\0\\0\\0\\0\\x03\\0\\t\\0\\0\\0\\0\\0\\0\\0\\0\\0\\0\\0\\0\\0\\0\\0\\0\\0+\\0\\0\\0\\x12\\0\\x02\\0\\0\\0\\0\\0\\0\\0\\0\\0\\xb0\\0\\0\\0\\0\\0\\0\\09\\0\\0\\0\\x10\\0\\0\\0\\0\\0\\0\\0\\0\\0\\0\\0\\0\\0\\0\\0\\0\\0\\0\\0h\\0\\0\\0\\0\\0\\0\\0\\x05\\0\\0\\0\\a\\0\\0\\0\\0\\0\\0\\0\\0\\0\\0\\0x\\0\\0\\0\\0\\0\\0\\0\\x04\\0\\0\\0\\a\\0\\0\\0\\0\\0\\0\\0\\0\\0\\0\\0\\x06\\0\\0\\0\\0\\0\\0\\0\\x01\\0\\0\\0\\x03\\0\\0\\0\\0\\0\\0\\0\\0\\0\\0\\0\\f\\0\\0\\0\\0\\0\\0\\0\\x01\\0\\0\\0\\x04\\0\\0\\0\\0\\0\\0\\0\\0\\0\\0\\0\\x12\\0\\0\\0\\0\\0\\0\\0\\x01\\0\\0\\0\\x04\\0\\0\\0\\x06\\0\\0\\0\\0\\0\\0\\0\\x16\\0\\0\\0\\0\\0\\0\\0\\x01\\0\\0\\0\\x05\\0\\0\\0\\0\\0\\0\\0\\0\\0\\0\\0\\x1a\\0\\0\\0\\0\\0\\0\\0\\x01\\0\\0\\0\\x04\\0\\0\\0\\r\\0\\0\\0\\0\\0\\0\\0\\x1e\\0\\0\\0\\0\\0\\0\\0\\x02\\0\\0\\0\\x02\\0\\0\\0\\0\\0\\0\\0\\0\\0\\0\\0+\\0\\0\\0\\0\\0\\0\\0\\x02\\0\\0\\0\\x02\\0\\0\\0\\0\\0\\0\\0\\0\\0\\0\\0\\0.debug_abbrev\\0.rela.text\\0start\\0.debug_str\\0_Z15julia_veo_sleep\\0.rela.debug_info\\0.note.GNU-stack\\0.rela.debug_line\\0.strtab\\0.symtab\\0\\0\\0\\0\\0\\0\\0\\0\\0\\0\\0\\0\\0\\0\\0\\0\\0\\0\\0\\0\\0\\0\\0\\0\\0\\0\\0\\0\\0\\0\\0\\0\\0\\0\\0\\0\\0\\0\\0\\0\\0\\0\\0\\0\\0\\0\\0\\0\\0\\0\\0\\0\\0\\0\\0\\0\\0\\0\\0\\0\\0\\0\\0\\0\\0\\0\\0\\0\\0\\0\\0\\0q\\0\\0\\0\\x03\\0\\0\\0\\0\\0\\0\\0\\0\\0\\0\\0\\0\\0\\0\\0\\0\\0\\0\\0\\x18\\x03\\0\\0\\0\\0\\0\\0\\x81\\0\\0\\0\\0\\0\\0\\0\\0\\0\\0\\0\\0\\0\\0\\0\\x01\\0\\0\\0\\0\\0\\0\\0\\0\\0\\0\\0\\0\\0\\0\\0\\x14\\0\\0\\0\\x01\\0\\0\\0\\x06\\0\\0\\0\\0\\0\\0\\0\\0\\0\\0\\0\\0\\0\\0\\0@\\0\\0\\0\\0\\0\\0\\0\\xb0\\0\\0\\0\\0\\0\\0\\0\\0\\0\\0\\0\\0\\0\\0\\0\\x10\\0\\0\\0\\0\\0\\0\\0\\0\\0\\0\\0\\0\\0\\0\\0\\x0f\\0\\0\\0\\x04\\0\\0\\0@\\0\\0\\0\\0\\0\\0\\0\\0\\0\\0\\0\\0\\0\\0\\0@\\x02\\0\\0\\0\\0\\0\\x000\\0\\0\\0\\0\\0\\0\\0\\v\\0\\0\\0\\x02\\0\\0\\0\\b\\0\\0\\0\\0\\0\\0\\0\\x18\\0\\0\\0\\0\\0\\0\\0\\x01\\0\\0\\0\\x01\\0\\0\\0\\0\\0\\0\\0\\0\\0\\0\\0\\0\\0\\0\\0\\0\\0\\0\\0\\xf0\\0\\0\\0\\0\\0\\0\\0\\x14\\0\\0\\0\\0\\0\\0\\0\\0\\0\\0\\0\\0\\0\\0\\0\\x01\\0\\0\\0\\0\\0\\0\\0\\0\\0\\0\\0\\0\\0\\0\\0D\\0\\0\\0\\x01\\0\\0\\0\\0\\0\\0\\0\\0\\0\\0\\0\\0\\0\\0\\0\\0\\0\\0\\0\\x04\\x01\\0\\0\\0\\0\\0\\0*\\0\\0\\0\\0\\0\\0\\0\\0\\0\\0\\0\\0\\0\\0\\0\\x01\\0\\0\\0\\0\\0\\0\\0\\0\\0\\0\\0\\0\\0\\0\\0?\\0\\0\\0\\x04\\0\\0\\0@\\0\\0\\0\\0\\0\\0\\0\\0\\0\\0\\0\\0\\0\\0\\0p\\x02\\0\\0\\0\\0\\0\\0\\x90\\0\\0\\0\\0\\0\\0\\0\\v\\0\\0\\0\\x05\\0\\0\\0\\b\\0\\0\\0\\0\\0\\0\\0\\x18\\0\\0\\0\\0\\0\\0\\0 \\0\\0\\0\\x01\\0\\0\\x000\\0\\0\\0\\0\\0\\0\\0\\0\\0\\0\\0\\0\\0\\0\\0.\\x01\\0\\0\\0\\0\\0\\0\\x0f\\0\\0\\0\\0\\0\\0\\0\\0\\0\\0\\0\\0\\0\\0\\0\\x01\\0\\0\\0\\0\\0\\0\\0\\x01\\0\\0\\0\\0\\0\\0\\0P\\0\\0\\0\\x01\\0\\0\\0\\0\\0\\0\\0\\0\\0\\0\\0\\0\\0\\0\\0\\0\\0\\0\\0=\\x01\\0\\0\\0\\0\\0\\0\\0\\0\\0\\0\\0\\0\\0\\0\\0\\0\\0\\0\\0\\0\\0\\0\\x01\\0\\0\\0\\0\\0\\0\\0\\0\\0\\0\\0\\0\\0\\0\\0e\\0\\0\\0\\x01\\0\\0\\0\\0\\0\\0\\0\\0\\0\\0\\0\\0\\0\\0\\0\\0\\0\\0\\0=\\x01\\0\\0\\0\\0\\0\\0<\\0\\0\\0\\0\\0\\0\\0\\0\\0\\0\\0\\0\\0\\0\\0\\x01\\0\\0\\0\\0\\0\\0\\0\\0\\0\\0\\0\\0\\0\\0\\0`\\0\\0\\0\\x04\\0\\0\\0@\\0\\0\\0\\0\\0\\0\\0\\0\\0\\0\\0\\0\\0\\0\\0\\0\\x03\\0\\0\\0\\0\\0\\0\\x18\\0\\0\\0\\0\\0\\0\\0\\v\\0\\0\\0\\t\\0\\0\\0\\b\\0\\0\\0\\0\\0\\0\\0\\x18\\0\\0\\0\\0\\0\\0\\0y\\0\\0\\0\\x02\\0\\0\\0\\0\\0\\0\\0\\0\\0\\0\\0\\0\\0\\0\\0\\0\\0\\0\\0\\x80\\x01\\0\\0\\0\\0\\0\\0\\xc0\\0\\0\\0\\0\\0\\0\\0\\x01\\0\\0\\0\\x06\\0\\0\\0\\b\\0\\0\\0\\0\\0\\0\\0\\x18\\0\\0\\0\\0\\0\\0\\0\", ())"
      ]
     },
     "execution_count": 43,
     "metadata": {},
     "output_type": "execute_result"
    }
   ],
   "source": [
    "obj, obj_meta = GPUCompiler.emit_asm(job, ir; format=LLVM.API.LLVMObjectFile, validate=false)"
   ]
  },
  {
   "cell_type": "code",
   "execution_count": 44,
   "id": "459baac7",
   "metadata": {},
   "outputs": [
    {
     "data": {
      "text/plain": [
       "Process(`\u001b[4m/opt/nec/ve/bin/nld\u001b[24m \u001b[4m-shared\u001b[24m \u001b[4m-o\u001b[24m \u001b[4mtest2.so\u001b[24m \u001b[4m/tmp/jl_4hd6nE\u001b[24m`, ProcessExited(0))"
      ]
     },
     "execution_count": 44,
     "metadata": {},
     "output_type": "execute_result"
    }
   ],
   "source": [
    "vso = mktemp() do path_o, io_o\n",
    "    write(io_o, obj)\n",
    "    flush(io_o)\n",
    "    run(`/opt/nec/ve/bin/nld -shared -o test2.so $path_o`)\n",
    "end"
   ]
  },
  {
   "cell_type": "code",
   "execution_count": null,
   "id": "0aadff86",
   "metadata": {},
   "outputs": [],
   "source": []
  }
 ],
 "metadata": {
  "kernelspec": {
   "display_name": "Julia 1.9.0-DEV",
   "language": "julia",
   "name": "julia-1.9"
  },
  "language_info": {
   "file_extension": ".jl",
   "mimetype": "application/julia",
   "name": "julia",
   "version": "1.9.0"
  }
 },
 "nbformat": 4,
 "nbformat_minor": 5
}
