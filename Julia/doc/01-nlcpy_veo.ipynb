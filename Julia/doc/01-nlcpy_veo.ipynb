{
 "cells": [
  {
   "cell_type": "markdown",
   "id": "10378afc",
   "metadata": {},
   "source": [
    "# Using veo with Python module: `nlcpy.veo`\n",
    "\n",
    "* [Py-veo by Examples](https://sx-aurora.github.io/posts/py-veo-by-examples/)\n",
    "  - [py-veo/examples at master · SX-Aurora/py-veo](https://github.com/SX-Aurora/py-veo/tree/master/examples)"
   ]
  },
  {
   "cell_type": "code",
   "execution_count": 1,
   "id": "705eed9c",
   "metadata": {},
   "outputs": [
    {
     "name": "stdout",
     "output_type": "stream",
     "text": [
      "Julia Version 1.7.3\n",
      "Commit 742b9abb4d (2022-05-06 12:58 UTC)\n",
      "Platform Info:\n",
      "  OS: Linux (x86_64-redhat-linux)\n",
      "  CPU: Intel(R) Xeon(R) Gold 6226 CPU @ 2.70GHz\n",
      "  WORD_SIZE: 64\n",
      "  LIBM: libopenlibm\n",
      "  LLVM: libLLVM-12.0.1 (ORCJIT, cascadelake)\n",
      "Environment:\n",
      "  JULIA_DEPOT_PATH = /home/manabu/.julia-1.7.3\n"
     ]
    }
   ],
   "source": [
    "versioninfo()"
   ]
  },
  {
   "cell_type": "markdown",
   "id": "f22c5219",
   "metadata": {},
   "source": [
    "---"
   ]
  },
  {
   "cell_type": "code",
   "execution_count": 2,
   "id": "175f0725",
   "metadata": {},
   "outputs": [],
   "source": [
    "#import Pkg; Pkg.add(\"PyCall\")\n",
    "using PyCall"
   ]
  },
  {
   "cell_type": "code",
   "execution_count": 3,
   "id": "8ea4a0f7",
   "metadata": {},
   "outputs": [
    {
     "name": "stdout",
     "output_type": "stream",
     "text": [
      "\u001b[32m\u001b[1m      Status\u001b[22m\u001b[39m `~/.julia-1.7.3/environments/v1.7/Project.toml`\n",
      " \u001b[90m [438e738f] \u001b[39mPyCall v1.93.1\n"
     ]
    }
   ],
   "source": [
    "using Pkg\n",
    "Pkg.status(\"PyCall\")"
   ]
  },
  {
   "cell_type": "code",
   "execution_count": 4,
   "id": "e1af7c42",
   "metadata": {},
   "outputs": [],
   "source": [
    "#ENV[\"NMPI_LOCAL_RANK\"]"
   ]
  },
  {
   "cell_type": "code",
   "execution_count": 5,
   "id": "b3d7ea31",
   "metadata": {},
   "outputs": [
    {
     "data": {
      "text/plain": [
       "PyObject <module 'nlcpy.veo' from '/opt/anaconda3/envs/jupyter/lib/python3.8/site-packages/nlcpy/veo/__init__.py'>"
      ]
     },
     "execution_count": 5,
     "metadata": {},
     "output_type": "execute_result"
    }
   ],
   "source": [
    "veo = pyimport(\"nlcpy.veo\")"
   ]
  },
  {
   "cell_type": "code",
   "execution_count": 6,
   "id": "d8c22e58",
   "metadata": {},
   "outputs": [
    {
     "data": {
      "text/plain": [
       "PyObject <nlcpy.veo._veo.VeoProc object at 0x7eff2404bf90>"
      ]
     },
     "execution_count": 6,
     "metadata": {},
     "output_type": "execute_result"
    }
   ],
   "source": [
    "veo_proc = veo.VeoProc(1)"
   ]
  },
  {
   "cell_type": "code",
   "execution_count": 8,
   "id": "afa0324d",
   "metadata": {},
   "outputs": [
    {
     "data": {
      "text/plain": [
       "1"
      ]
     },
     "execution_count": 8,
     "metadata": {},
     "output_type": "execute_result"
    }
   ],
   "source": [
    "veo_proc.nodeid"
   ]
  },
  {
   "cell_type": "markdown",
   "id": "e4bf44f3",
   "metadata": {},
   "source": [
    "## Build"
   ]
  },
  {
   "cell_type": "code",
   "execution_count": 9,
   "id": "01413e82",
   "metadata": {},
   "outputs": [
    {
     "data": {
      "text/plain": [
       "PyObject <nlcpy.veo.vebuild.VeBuild object at 0x7eff289874c0>"
      ]
     },
     "execution_count": 9,
     "metadata": {},
     "output_type": "execute_result"
    }
   ],
   "source": [
    "veo_build = veo.VeBuild()"
   ]
  },
  {
   "cell_type": "code",
   "execution_count": 32,
   "id": "820f17c2",
   "metadata": {},
   "outputs": [],
   "source": [
    "veo_build.set_c_src(\"_test\", raw\"\"\"\n",
    "#include <stdio.h>\n",
    "#include <unistd.h>\n",
    "int flag = 0;\n",
    "int do_sleep(int secs)\n",
    "{\n",
    "\t\n",
    "\tprintf(\"VE: flag value %d\\n\", flag);\n",
    "        flag++;\n",
    "\tprintf(\"VE: increased flag %d\\n\", flag);\n",
    "\t\n",
    "\tprintf(\"VE: sleeping %d seconds\\n\", secs);\n",
    "\tsleep(secs);\n",
    "\tprintf(\"VE: finished sleeping.\\n\");\n",
    "\tprintf(\"VE: flag value %d\\n\", flag);\n",
    "\treturn secs;\n",
    "}\n",
    "\"\"\")"
   ]
  },
  {
   "cell_type": "code",
   "execution_count": 33,
   "id": "c858b180",
   "metadata": {},
   "outputs": [
    {
     "data": {
      "text/plain": [
       "(\"/opt/nec/ve/bin/ncc\", \"-O2 -fpic -pthread -report-all -fdiag-vector=2\")"
      ]
     },
     "execution_count": 33,
     "metadata": {},
     "output_type": "execute_result"
    }
   ],
   "source": [
    "veo_build._obj[\"_test\"]._compiler, veo_build._obj[\"_test\"]._flags"
   ]
  },
  {
   "cell_type": "code",
   "execution_count": 37,
   "id": "6e8809bb",
   "metadata": {},
   "outputs": [
    {
     "data": {
      "text/plain": [
       "\"_test.so\""
      ]
     },
     "execution_count": 37,
     "metadata": {},
     "output_type": "execute_result"
    }
   ],
   "source": [
    "veo_build.build_so(verbose=py\"False\")"
   ]
  },
  {
   "cell_type": "markdown",
   "id": "3bcb7aa3",
   "metadata": {},
   "source": [
    "## Load"
   ]
  },
  {
   "cell_type": "code",
   "execution_count": 38,
   "id": "2d0a6469",
   "metadata": {
    "scrolled": false
   },
   "outputs": [],
   "source": [
    "test_so = veo_proc.load_library(transcode(UInt8, \"./_test.so\"));"
   ]
  },
  {
   "cell_type": "code",
   "execution_count": 40,
   "id": "5334308f",
   "metadata": {},
   "outputs": [
    {
     "data": {
      "text/plain": [
       "PyObject"
      ]
     },
     "execution_count": 40,
     "metadata": {},
     "output_type": "execute_result"
    }
   ],
   "source": [
    "typeof(test_so)"
   ]
  },
  {
   "cell_type": "code",
   "execution_count": 39,
   "id": "90823dd2",
   "metadata": {},
   "outputs": [
    {
     "data": {
      "text/plain": [
       "PyObject"
      ]
     },
     "execution_count": 39,
     "metadata": {},
     "output_type": "execute_result"
    }
   ],
   "source": [
    "typeof(test_so.do_sleep)"
   ]
  },
  {
   "cell_type": "code",
   "execution_count": 41,
   "id": "650aef1f",
   "metadata": {},
   "outputs": [
    {
     "data": {
      "text/plain": [
       "PyObject <VeoFunction object VE function b'do_sleep'None at 0x7eff1c631f40>"
      ]
     },
     "execution_count": 41,
     "metadata": {},
     "output_type": "execute_result"
    }
   ],
   "source": [
    "test_so.do_sleep"
   ]
  },
  {
   "cell_type": "code",
   "execution_count": 43,
   "id": "4cafce51",
   "metadata": {},
   "outputs": [],
   "source": [
    "test_so.do_sleep.args_type(\"int\")"
   ]
  },
  {
   "cell_type": "code",
   "execution_count": 44,
   "id": "18100c38",
   "metadata": {},
   "outputs": [
    {
     "data": {
      "text/plain": [
       "PyObject <nlcpy.veo._veo.VeoCtxt object at 0x7eff1c62ae00>"
      ]
     },
     "execution_count": 44,
     "metadata": {},
     "output_type": "execute_result"
    }
   ],
   "source": [
    "ctx = veo_proc.open_context()"
   ]
  },
  {
   "cell_type": "code",
   "execution_count": 46,
   "id": "bedf85b7",
   "metadata": {},
   "outputs": [
    {
     "data": {
      "text/plain": [
       "5"
      ]
     },
     "execution_count": 46,
     "metadata": {},
     "output_type": "execute_result"
    }
   ],
   "source": [
    "req = test_so.do_sleep(ctx, 5)\n",
    "req.wait_result()"
   ]
  },
  {
   "cell_type": "code",
   "execution_count": null,
   "id": "0c8e1d4e",
   "metadata": {},
   "outputs": [],
   "source": []
  }
 ],
 "metadata": {
  "kernelspec": {
   "display_name": "Julia 1.7.3",
   "language": "julia",
   "name": "julia-1.7"
  },
  "language_info": {
   "file_extension": ".jl",
   "mimetype": "application/julia",
   "name": "julia",
   "version": "1.7.3"
  }
 },
 "nbformat": 4,
 "nbformat_minor": 5
}
